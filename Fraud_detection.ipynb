{
 "cells": [
  {
   "cell_type": "code",
   "execution_count": 1,
   "id": "7fd53cb5",
   "metadata": {},
   "outputs": [],
   "source": [
    "import numpy as np\n",
    "import pandas as pd\n",
    "import matplotlib.pyplot as plt\n",
    "import seaborn as sns\n",
    "import warnings\n",
    "warnings.filterwarnings(\"ignore\")"
   ]
  },
  {
   "cell_type": "code",
   "execution_count": 2,
   "id": "6db120e9",
   "metadata": {},
   "outputs": [],
   "source": [
    "df=pd.read_csv('creditcard.csv')"
   ]
  },
  {
   "cell_type": "code",
   "execution_count": 3,
   "id": "c98f74b7",
   "metadata": {},
   "outputs": [
    {
     "data": {
      "text/html": [
       "<div>\n",
       "<style scoped>\n",
       "    .dataframe tbody tr th:only-of-type {\n",
       "        vertical-align: middle;\n",
       "    }\n",
       "\n",
       "    .dataframe tbody tr th {\n",
       "        vertical-align: top;\n",
       "    }\n",
       "\n",
       "    .dataframe thead th {\n",
       "        text-align: right;\n",
       "    }\n",
       "</style>\n",
       "<table border=\"1\" class=\"dataframe\">\n",
       "  <thead>\n",
       "    <tr style=\"text-align: right;\">\n",
       "      <th></th>\n",
       "      <th>Time</th>\n",
       "      <th>V1</th>\n",
       "      <th>V2</th>\n",
       "      <th>V3</th>\n",
       "      <th>V4</th>\n",
       "      <th>V5</th>\n",
       "      <th>V6</th>\n",
       "      <th>V7</th>\n",
       "      <th>V8</th>\n",
       "      <th>V9</th>\n",
       "      <th>...</th>\n",
       "      <th>V21</th>\n",
       "      <th>V22</th>\n",
       "      <th>V23</th>\n",
       "      <th>V24</th>\n",
       "      <th>V25</th>\n",
       "      <th>V26</th>\n",
       "      <th>V27</th>\n",
       "      <th>V28</th>\n",
       "      <th>Amount</th>\n",
       "      <th>Class</th>\n",
       "    </tr>\n",
       "  </thead>\n",
       "  <tbody>\n",
       "    <tr>\n",
       "      <th>0</th>\n",
       "      <td>0.0</td>\n",
       "      <td>-1.359807</td>\n",
       "      <td>-0.072781</td>\n",
       "      <td>2.536347</td>\n",
       "      <td>1.378155</td>\n",
       "      <td>-0.338321</td>\n",
       "      <td>0.462388</td>\n",
       "      <td>0.239599</td>\n",
       "      <td>0.098698</td>\n",
       "      <td>0.363787</td>\n",
       "      <td>...</td>\n",
       "      <td>-0.018307</td>\n",
       "      <td>0.277838</td>\n",
       "      <td>-0.110474</td>\n",
       "      <td>0.066928</td>\n",
       "      <td>0.128539</td>\n",
       "      <td>-0.189115</td>\n",
       "      <td>0.133558</td>\n",
       "      <td>-0.021053</td>\n",
       "      <td>149.62</td>\n",
       "      <td>0</td>\n",
       "    </tr>\n",
       "    <tr>\n",
       "      <th>1</th>\n",
       "      <td>0.0</td>\n",
       "      <td>1.191857</td>\n",
       "      <td>0.266151</td>\n",
       "      <td>0.166480</td>\n",
       "      <td>0.448154</td>\n",
       "      <td>0.060018</td>\n",
       "      <td>-0.082361</td>\n",
       "      <td>-0.078803</td>\n",
       "      <td>0.085102</td>\n",
       "      <td>-0.255425</td>\n",
       "      <td>...</td>\n",
       "      <td>-0.225775</td>\n",
       "      <td>-0.638672</td>\n",
       "      <td>0.101288</td>\n",
       "      <td>-0.339846</td>\n",
       "      <td>0.167170</td>\n",
       "      <td>0.125895</td>\n",
       "      <td>-0.008983</td>\n",
       "      <td>0.014724</td>\n",
       "      <td>2.69</td>\n",
       "      <td>0</td>\n",
       "    </tr>\n",
       "    <tr>\n",
       "      <th>2</th>\n",
       "      <td>1.0</td>\n",
       "      <td>-1.358354</td>\n",
       "      <td>-1.340163</td>\n",
       "      <td>1.773209</td>\n",
       "      <td>0.379780</td>\n",
       "      <td>-0.503198</td>\n",
       "      <td>1.800499</td>\n",
       "      <td>0.791461</td>\n",
       "      <td>0.247676</td>\n",
       "      <td>-1.514654</td>\n",
       "      <td>...</td>\n",
       "      <td>0.247998</td>\n",
       "      <td>0.771679</td>\n",
       "      <td>0.909412</td>\n",
       "      <td>-0.689281</td>\n",
       "      <td>-0.327642</td>\n",
       "      <td>-0.139097</td>\n",
       "      <td>-0.055353</td>\n",
       "      <td>-0.059752</td>\n",
       "      <td>378.66</td>\n",
       "      <td>0</td>\n",
       "    </tr>\n",
       "    <tr>\n",
       "      <th>3</th>\n",
       "      <td>1.0</td>\n",
       "      <td>-0.966272</td>\n",
       "      <td>-0.185226</td>\n",
       "      <td>1.792993</td>\n",
       "      <td>-0.863291</td>\n",
       "      <td>-0.010309</td>\n",
       "      <td>1.247203</td>\n",
       "      <td>0.237609</td>\n",
       "      <td>0.377436</td>\n",
       "      <td>-1.387024</td>\n",
       "      <td>...</td>\n",
       "      <td>-0.108300</td>\n",
       "      <td>0.005274</td>\n",
       "      <td>-0.190321</td>\n",
       "      <td>-1.175575</td>\n",
       "      <td>0.647376</td>\n",
       "      <td>-0.221929</td>\n",
       "      <td>0.062723</td>\n",
       "      <td>0.061458</td>\n",
       "      <td>123.50</td>\n",
       "      <td>0</td>\n",
       "    </tr>\n",
       "    <tr>\n",
       "      <th>4</th>\n",
       "      <td>2.0</td>\n",
       "      <td>-1.158233</td>\n",
       "      <td>0.877737</td>\n",
       "      <td>1.548718</td>\n",
       "      <td>0.403034</td>\n",
       "      <td>-0.407193</td>\n",
       "      <td>0.095921</td>\n",
       "      <td>0.592941</td>\n",
       "      <td>-0.270533</td>\n",
       "      <td>0.817739</td>\n",
       "      <td>...</td>\n",
       "      <td>-0.009431</td>\n",
       "      <td>0.798278</td>\n",
       "      <td>-0.137458</td>\n",
       "      <td>0.141267</td>\n",
       "      <td>-0.206010</td>\n",
       "      <td>0.502292</td>\n",
       "      <td>0.219422</td>\n",
       "      <td>0.215153</td>\n",
       "      <td>69.99</td>\n",
       "      <td>0</td>\n",
       "    </tr>\n",
       "  </tbody>\n",
       "</table>\n",
       "<p>5 rows × 31 columns</p>\n",
       "</div>"
      ],
      "text/plain": [
       "   Time        V1        V2        V3        V4        V5        V6        V7  \\\n",
       "0   0.0 -1.359807 -0.072781  2.536347  1.378155 -0.338321  0.462388  0.239599   \n",
       "1   0.0  1.191857  0.266151  0.166480  0.448154  0.060018 -0.082361 -0.078803   \n",
       "2   1.0 -1.358354 -1.340163  1.773209  0.379780 -0.503198  1.800499  0.791461   \n",
       "3   1.0 -0.966272 -0.185226  1.792993 -0.863291 -0.010309  1.247203  0.237609   \n",
       "4   2.0 -1.158233  0.877737  1.548718  0.403034 -0.407193  0.095921  0.592941   \n",
       "\n",
       "         V8        V9  ...       V21       V22       V23       V24       V25  \\\n",
       "0  0.098698  0.363787  ... -0.018307  0.277838 -0.110474  0.066928  0.128539   \n",
       "1  0.085102 -0.255425  ... -0.225775 -0.638672  0.101288 -0.339846  0.167170   \n",
       "2  0.247676 -1.514654  ...  0.247998  0.771679  0.909412 -0.689281 -0.327642   \n",
       "3  0.377436 -1.387024  ... -0.108300  0.005274 -0.190321 -1.175575  0.647376   \n",
       "4 -0.270533  0.817739  ... -0.009431  0.798278 -0.137458  0.141267 -0.206010   \n",
       "\n",
       "        V26       V27       V28  Amount  Class  \n",
       "0 -0.189115  0.133558 -0.021053  149.62      0  \n",
       "1  0.125895 -0.008983  0.014724    2.69      0  \n",
       "2 -0.139097 -0.055353 -0.059752  378.66      0  \n",
       "3 -0.221929  0.062723  0.061458  123.50      0  \n",
       "4  0.502292  0.219422  0.215153   69.99      0  \n",
       "\n",
       "[5 rows x 31 columns]"
      ]
     },
     "execution_count": 3,
     "metadata": {},
     "output_type": "execute_result"
    }
   ],
   "source": [
    "df.head()"
   ]
  },
  {
   "cell_type": "code",
   "execution_count": 4,
   "id": "f7115269",
   "metadata": {},
   "outputs": [
    {
     "name": "stdout",
     "output_type": "stream",
     "text": [
      "<class 'pandas.core.frame.DataFrame'>\n",
      "RangeIndex: 284807 entries, 0 to 284806\n",
      "Data columns (total 31 columns):\n",
      " #   Column  Non-Null Count   Dtype  \n",
      "---  ------  --------------   -----  \n",
      " 0   Time    284807 non-null  float64\n",
      " 1   V1      284807 non-null  float64\n",
      " 2   V2      284807 non-null  float64\n",
      " 3   V3      284807 non-null  float64\n",
      " 4   V4      284807 non-null  float64\n",
      " 5   V5      284807 non-null  float64\n",
      " 6   V6      284807 non-null  float64\n",
      " 7   V7      284807 non-null  float64\n",
      " 8   V8      284807 non-null  float64\n",
      " 9   V9      284807 non-null  float64\n",
      " 10  V10     284807 non-null  float64\n",
      " 11  V11     284807 non-null  float64\n",
      " 12  V12     284807 non-null  float64\n",
      " 13  V13     284807 non-null  float64\n",
      " 14  V14     284807 non-null  float64\n",
      " 15  V15     284807 non-null  float64\n",
      " 16  V16     284807 non-null  float64\n",
      " 17  V17     284807 non-null  float64\n",
      " 18  V18     284807 non-null  float64\n",
      " 19  V19     284807 non-null  float64\n",
      " 20  V20     284807 non-null  float64\n",
      " 21  V21     284807 non-null  float64\n",
      " 22  V22     284807 non-null  float64\n",
      " 23  V23     284807 non-null  float64\n",
      " 24  V24     284807 non-null  float64\n",
      " 25  V25     284807 non-null  float64\n",
      " 26  V26     284807 non-null  float64\n",
      " 27  V27     284807 non-null  float64\n",
      " 28  V28     284807 non-null  float64\n",
      " 29  Amount  284807 non-null  float64\n",
      " 30  Class   284807 non-null  int64  \n",
      "dtypes: float64(30), int64(1)\n",
      "memory usage: 67.4 MB\n"
     ]
    }
   ],
   "source": [
    "df.info()"
   ]
  },
  {
   "cell_type": "code",
   "execution_count": 5,
   "id": "1007e53c",
   "metadata": {},
   "outputs": [
    {
     "data": {
      "text/plain": [
       "0    284315\n",
       "1       492\n",
       "Name: Class, dtype: int64"
      ]
     },
     "execution_count": 5,
     "metadata": {},
     "output_type": "execute_result"
    }
   ],
   "source": [
    "df['Class'].value_counts()\n",
    "#There are very few observations with class=1 so the dataset is imbalanced"
   ]
  },
  {
   "cell_type": "code",
   "execution_count": 6,
   "id": "4953bb20",
   "metadata": {},
   "outputs": [
    {
     "data": {
      "text/plain": [
       "0.001727485630620034"
      ]
     },
     "execution_count": 6,
     "metadata": {},
     "output_type": "execute_result"
    }
   ],
   "source": [
    "#The Fraud ratio in dataset is 0,17%\n",
    "492/(284315+492)"
   ]
  },
  {
   "cell_type": "code",
   "execution_count": 7,
   "id": "bc5e49f9",
   "metadata": {},
   "outputs": [
    {
     "data": {
      "text/html": [
       "<div>\n",
       "<style scoped>\n",
       "    .dataframe tbody tr th:only-of-type {\n",
       "        vertical-align: middle;\n",
       "    }\n",
       "\n",
       "    .dataframe tbody tr th {\n",
       "        vertical-align: top;\n",
       "    }\n",
       "\n",
       "    .dataframe thead th {\n",
       "        text-align: right;\n",
       "    }\n",
       "</style>\n",
       "<table border=\"1\" class=\"dataframe\">\n",
       "  <thead>\n",
       "    <tr style=\"text-align: right;\">\n",
       "      <th></th>\n",
       "      <th>Time</th>\n",
       "      <th>V1</th>\n",
       "      <th>V2</th>\n",
       "      <th>V3</th>\n",
       "      <th>V4</th>\n",
       "      <th>V5</th>\n",
       "      <th>V6</th>\n",
       "      <th>V7</th>\n",
       "      <th>V8</th>\n",
       "      <th>V9</th>\n",
       "      <th>...</th>\n",
       "      <th>V21</th>\n",
       "      <th>V22</th>\n",
       "      <th>V23</th>\n",
       "      <th>V24</th>\n",
       "      <th>V25</th>\n",
       "      <th>V26</th>\n",
       "      <th>V27</th>\n",
       "      <th>V28</th>\n",
       "      <th>Amount</th>\n",
       "      <th>Class</th>\n",
       "    </tr>\n",
       "  </thead>\n",
       "  <tbody>\n",
       "    <tr>\n",
       "      <th>count</th>\n",
       "      <td>284807.000000</td>\n",
       "      <td>2.848070e+05</td>\n",
       "      <td>2.848070e+05</td>\n",
       "      <td>2.848070e+05</td>\n",
       "      <td>2.848070e+05</td>\n",
       "      <td>2.848070e+05</td>\n",
       "      <td>2.848070e+05</td>\n",
       "      <td>2.848070e+05</td>\n",
       "      <td>2.848070e+05</td>\n",
       "      <td>2.848070e+05</td>\n",
       "      <td>...</td>\n",
       "      <td>2.848070e+05</td>\n",
       "      <td>2.848070e+05</td>\n",
       "      <td>2.848070e+05</td>\n",
       "      <td>2.848070e+05</td>\n",
       "      <td>2.848070e+05</td>\n",
       "      <td>2.848070e+05</td>\n",
       "      <td>2.848070e+05</td>\n",
       "      <td>2.848070e+05</td>\n",
       "      <td>284807.000000</td>\n",
       "      <td>284807.000000</td>\n",
       "    </tr>\n",
       "    <tr>\n",
       "      <th>mean</th>\n",
       "      <td>94813.859575</td>\n",
       "      <td>1.168375e-15</td>\n",
       "      <td>3.416908e-16</td>\n",
       "      <td>-1.379537e-15</td>\n",
       "      <td>2.074095e-15</td>\n",
       "      <td>9.604066e-16</td>\n",
       "      <td>1.487313e-15</td>\n",
       "      <td>-5.556467e-16</td>\n",
       "      <td>1.213481e-16</td>\n",
       "      <td>-2.406331e-15</td>\n",
       "      <td>...</td>\n",
       "      <td>1.654067e-16</td>\n",
       "      <td>-3.568593e-16</td>\n",
       "      <td>2.578648e-16</td>\n",
       "      <td>4.473266e-15</td>\n",
       "      <td>5.340915e-16</td>\n",
       "      <td>1.683437e-15</td>\n",
       "      <td>-3.660091e-16</td>\n",
       "      <td>-1.227390e-16</td>\n",
       "      <td>88.349619</td>\n",
       "      <td>0.001727</td>\n",
       "    </tr>\n",
       "    <tr>\n",
       "      <th>std</th>\n",
       "      <td>47488.145955</td>\n",
       "      <td>1.958696e+00</td>\n",
       "      <td>1.651309e+00</td>\n",
       "      <td>1.516255e+00</td>\n",
       "      <td>1.415869e+00</td>\n",
       "      <td>1.380247e+00</td>\n",
       "      <td>1.332271e+00</td>\n",
       "      <td>1.237094e+00</td>\n",
       "      <td>1.194353e+00</td>\n",
       "      <td>1.098632e+00</td>\n",
       "      <td>...</td>\n",
       "      <td>7.345240e-01</td>\n",
       "      <td>7.257016e-01</td>\n",
       "      <td>6.244603e-01</td>\n",
       "      <td>6.056471e-01</td>\n",
       "      <td>5.212781e-01</td>\n",
       "      <td>4.822270e-01</td>\n",
       "      <td>4.036325e-01</td>\n",
       "      <td>3.300833e-01</td>\n",
       "      <td>250.120109</td>\n",
       "      <td>0.041527</td>\n",
       "    </tr>\n",
       "    <tr>\n",
       "      <th>min</th>\n",
       "      <td>0.000000</td>\n",
       "      <td>-5.640751e+01</td>\n",
       "      <td>-7.271573e+01</td>\n",
       "      <td>-4.832559e+01</td>\n",
       "      <td>-5.683171e+00</td>\n",
       "      <td>-1.137433e+02</td>\n",
       "      <td>-2.616051e+01</td>\n",
       "      <td>-4.355724e+01</td>\n",
       "      <td>-7.321672e+01</td>\n",
       "      <td>-1.343407e+01</td>\n",
       "      <td>...</td>\n",
       "      <td>-3.483038e+01</td>\n",
       "      <td>-1.093314e+01</td>\n",
       "      <td>-4.480774e+01</td>\n",
       "      <td>-2.836627e+00</td>\n",
       "      <td>-1.029540e+01</td>\n",
       "      <td>-2.604551e+00</td>\n",
       "      <td>-2.256568e+01</td>\n",
       "      <td>-1.543008e+01</td>\n",
       "      <td>0.000000</td>\n",
       "      <td>0.000000</td>\n",
       "    </tr>\n",
       "    <tr>\n",
       "      <th>25%</th>\n",
       "      <td>54201.500000</td>\n",
       "      <td>-9.203734e-01</td>\n",
       "      <td>-5.985499e-01</td>\n",
       "      <td>-8.903648e-01</td>\n",
       "      <td>-8.486401e-01</td>\n",
       "      <td>-6.915971e-01</td>\n",
       "      <td>-7.682956e-01</td>\n",
       "      <td>-5.540759e-01</td>\n",
       "      <td>-2.086297e-01</td>\n",
       "      <td>-6.430976e-01</td>\n",
       "      <td>...</td>\n",
       "      <td>-2.283949e-01</td>\n",
       "      <td>-5.423504e-01</td>\n",
       "      <td>-1.618463e-01</td>\n",
       "      <td>-3.545861e-01</td>\n",
       "      <td>-3.171451e-01</td>\n",
       "      <td>-3.269839e-01</td>\n",
       "      <td>-7.083953e-02</td>\n",
       "      <td>-5.295979e-02</td>\n",
       "      <td>5.600000</td>\n",
       "      <td>0.000000</td>\n",
       "    </tr>\n",
       "    <tr>\n",
       "      <th>50%</th>\n",
       "      <td>84692.000000</td>\n",
       "      <td>1.810880e-02</td>\n",
       "      <td>6.548556e-02</td>\n",
       "      <td>1.798463e-01</td>\n",
       "      <td>-1.984653e-02</td>\n",
       "      <td>-5.433583e-02</td>\n",
       "      <td>-2.741871e-01</td>\n",
       "      <td>4.010308e-02</td>\n",
       "      <td>2.235804e-02</td>\n",
       "      <td>-5.142873e-02</td>\n",
       "      <td>...</td>\n",
       "      <td>-2.945017e-02</td>\n",
       "      <td>6.781943e-03</td>\n",
       "      <td>-1.119293e-02</td>\n",
       "      <td>4.097606e-02</td>\n",
       "      <td>1.659350e-02</td>\n",
       "      <td>-5.213911e-02</td>\n",
       "      <td>1.342146e-03</td>\n",
       "      <td>1.124383e-02</td>\n",
       "      <td>22.000000</td>\n",
       "      <td>0.000000</td>\n",
       "    </tr>\n",
       "    <tr>\n",
       "      <th>75%</th>\n",
       "      <td>139320.500000</td>\n",
       "      <td>1.315642e+00</td>\n",
       "      <td>8.037239e-01</td>\n",
       "      <td>1.027196e+00</td>\n",
       "      <td>7.433413e-01</td>\n",
       "      <td>6.119264e-01</td>\n",
       "      <td>3.985649e-01</td>\n",
       "      <td>5.704361e-01</td>\n",
       "      <td>3.273459e-01</td>\n",
       "      <td>5.971390e-01</td>\n",
       "      <td>...</td>\n",
       "      <td>1.863772e-01</td>\n",
       "      <td>5.285536e-01</td>\n",
       "      <td>1.476421e-01</td>\n",
       "      <td>4.395266e-01</td>\n",
       "      <td>3.507156e-01</td>\n",
       "      <td>2.409522e-01</td>\n",
       "      <td>9.104512e-02</td>\n",
       "      <td>7.827995e-02</td>\n",
       "      <td>77.165000</td>\n",
       "      <td>0.000000</td>\n",
       "    </tr>\n",
       "    <tr>\n",
       "      <th>max</th>\n",
       "      <td>172792.000000</td>\n",
       "      <td>2.454930e+00</td>\n",
       "      <td>2.205773e+01</td>\n",
       "      <td>9.382558e+00</td>\n",
       "      <td>1.687534e+01</td>\n",
       "      <td>3.480167e+01</td>\n",
       "      <td>7.330163e+01</td>\n",
       "      <td>1.205895e+02</td>\n",
       "      <td>2.000721e+01</td>\n",
       "      <td>1.559499e+01</td>\n",
       "      <td>...</td>\n",
       "      <td>2.720284e+01</td>\n",
       "      <td>1.050309e+01</td>\n",
       "      <td>2.252841e+01</td>\n",
       "      <td>4.584549e+00</td>\n",
       "      <td>7.519589e+00</td>\n",
       "      <td>3.517346e+00</td>\n",
       "      <td>3.161220e+01</td>\n",
       "      <td>3.384781e+01</td>\n",
       "      <td>25691.160000</td>\n",
       "      <td>1.000000</td>\n",
       "    </tr>\n",
       "  </tbody>\n",
       "</table>\n",
       "<p>8 rows × 31 columns</p>\n",
       "</div>"
      ],
      "text/plain": [
       "                Time            V1            V2            V3            V4  \\\n",
       "count  284807.000000  2.848070e+05  2.848070e+05  2.848070e+05  2.848070e+05   \n",
       "mean    94813.859575  1.168375e-15  3.416908e-16 -1.379537e-15  2.074095e-15   \n",
       "std     47488.145955  1.958696e+00  1.651309e+00  1.516255e+00  1.415869e+00   \n",
       "min         0.000000 -5.640751e+01 -7.271573e+01 -4.832559e+01 -5.683171e+00   \n",
       "25%     54201.500000 -9.203734e-01 -5.985499e-01 -8.903648e-01 -8.486401e-01   \n",
       "50%     84692.000000  1.810880e-02  6.548556e-02  1.798463e-01 -1.984653e-02   \n",
       "75%    139320.500000  1.315642e+00  8.037239e-01  1.027196e+00  7.433413e-01   \n",
       "max    172792.000000  2.454930e+00  2.205773e+01  9.382558e+00  1.687534e+01   \n",
       "\n",
       "                 V5            V6            V7            V8            V9  \\\n",
       "count  2.848070e+05  2.848070e+05  2.848070e+05  2.848070e+05  2.848070e+05   \n",
       "mean   9.604066e-16  1.487313e-15 -5.556467e-16  1.213481e-16 -2.406331e-15   \n",
       "std    1.380247e+00  1.332271e+00  1.237094e+00  1.194353e+00  1.098632e+00   \n",
       "min   -1.137433e+02 -2.616051e+01 -4.355724e+01 -7.321672e+01 -1.343407e+01   \n",
       "25%   -6.915971e-01 -7.682956e-01 -5.540759e-01 -2.086297e-01 -6.430976e-01   \n",
       "50%   -5.433583e-02 -2.741871e-01  4.010308e-02  2.235804e-02 -5.142873e-02   \n",
       "75%    6.119264e-01  3.985649e-01  5.704361e-01  3.273459e-01  5.971390e-01   \n",
       "max    3.480167e+01  7.330163e+01  1.205895e+02  2.000721e+01  1.559499e+01   \n",
       "\n",
       "       ...           V21           V22           V23           V24  \\\n",
       "count  ...  2.848070e+05  2.848070e+05  2.848070e+05  2.848070e+05   \n",
       "mean   ...  1.654067e-16 -3.568593e-16  2.578648e-16  4.473266e-15   \n",
       "std    ...  7.345240e-01  7.257016e-01  6.244603e-01  6.056471e-01   \n",
       "min    ... -3.483038e+01 -1.093314e+01 -4.480774e+01 -2.836627e+00   \n",
       "25%    ... -2.283949e-01 -5.423504e-01 -1.618463e-01 -3.545861e-01   \n",
       "50%    ... -2.945017e-02  6.781943e-03 -1.119293e-02  4.097606e-02   \n",
       "75%    ...  1.863772e-01  5.285536e-01  1.476421e-01  4.395266e-01   \n",
       "max    ...  2.720284e+01  1.050309e+01  2.252841e+01  4.584549e+00   \n",
       "\n",
       "                V25           V26           V27           V28         Amount  \\\n",
       "count  2.848070e+05  2.848070e+05  2.848070e+05  2.848070e+05  284807.000000   \n",
       "mean   5.340915e-16  1.683437e-15 -3.660091e-16 -1.227390e-16      88.349619   \n",
       "std    5.212781e-01  4.822270e-01  4.036325e-01  3.300833e-01     250.120109   \n",
       "min   -1.029540e+01 -2.604551e+00 -2.256568e+01 -1.543008e+01       0.000000   \n",
       "25%   -3.171451e-01 -3.269839e-01 -7.083953e-02 -5.295979e-02       5.600000   \n",
       "50%    1.659350e-02 -5.213911e-02  1.342146e-03  1.124383e-02      22.000000   \n",
       "75%    3.507156e-01  2.409522e-01  9.104512e-02  7.827995e-02      77.165000   \n",
       "max    7.519589e+00  3.517346e+00  3.161220e+01  3.384781e+01   25691.160000   \n",
       "\n",
       "               Class  \n",
       "count  284807.000000  \n",
       "mean        0.001727  \n",
       "std         0.041527  \n",
       "min         0.000000  \n",
       "25%         0.000000  \n",
       "50%         0.000000  \n",
       "75%         0.000000  \n",
       "max         1.000000  \n",
       "\n",
       "[8 rows x 31 columns]"
      ]
     },
     "execution_count": 7,
     "metadata": {},
     "output_type": "execute_result"
    }
   ],
   "source": [
    "df.describe()\n",
    "# Values are standardized except Time and Amount feature"
   ]
  },
  {
   "cell_type": "code",
   "execution_count": null,
   "id": "d26777cc",
   "metadata": {},
   "outputs": [],
   "source": []
  },
  {
   "cell_type": "markdown",
   "id": "9d996689",
   "metadata": {},
   "source": [
    "## Some plots of th features "
   ]
  },
  {
   "cell_type": "code",
   "execution_count": 8,
   "id": "3cd3482e",
   "metadata": {},
   "outputs": [
    {
     "data": {
      "text/plain": [
       "<AxesSubplot:xlabel='V10', ylabel='Density'>"
      ]
     },
     "execution_count": 8,
     "metadata": {},
     "output_type": "execute_result"
    },
    {
     "data": {
      "image/png": "[encoded data removed]",
      "text/plain": [
       "<Figure size 432x288 with 1 Axes>"
      ]
     },
     "metadata": {
      "needs_background": "light"
     },
     "output_type": "display_data"
    }
   ],
   "source": [
    "sns.distplot(df['V10'])"
   ]
  },
  {
   "cell_type": "code",
   "execution_count": 9,
   "id": "2cb037e9",
   "metadata": {},
   "outputs": [
    {
     "data": {
      "text/plain": [
       "<AxesSubplot:>"
      ]
     },
     "execution_count": 9,
     "metadata": {},
     "output_type": "execute_result"
    },
    {
     "data": {
      "image/png": "[encoded data removed]",
      "text/plain": [
       "<Figure size 432x288 with 1 Axes>"
      ]
     },
     "metadata": {
      "needs_background": "light"
     },
     "output_type": "display_data"
    }
   ],
   "source": [
    "df['Time'].plot()"
   ]
  },
  {
   "cell_type": "code",
   "execution_count": 10,
   "id": "e9f5dc84",
   "metadata": {},
   "outputs": [
    {
     "data": {
      "text/plain": [
       "<AxesSubplot:xlabel='Class', ylabel='count'>"
      ]
     },
     "execution_count": 10,
     "metadata": {},
     "output_type": "execute_result"
    },
    {
     "data": {
      "image/png": "[encoded data removed]",
      "text/plain": [
       "<Figure size 432x288 with 1 Axes>"
      ]
     },
     "metadata": {
      "needs_background": "light"
     },
     "output_type": "display_data"
    }
   ],
   "source": [
    "sns.countplot('Class',data=df)"
   ]
  },
  {
   "cell_type": "code",
   "execution_count": 11,
   "id": "43aea4e3",
   "metadata": {},
   "outputs": [
    {
     "data": {
      "text/plain": [
       "<AxesSubplot:xlabel='Class', ylabel='Time'>"
      ]
     },
     "execution_count": 11,
     "metadata": {},
     "output_type": "execute_result"
    },
    {
     "data": {
      "image/png": "[encoded data removed]",
      "text/plain": [
       "<Figure size 432x288 with 1 Axes>"
      ]
     },
     "metadata": {
      "needs_background": "light"
     },
     "output_type": "display_data"
    }
   ],
   "source": [
    "sns.boxplot(x='Class',y='Time',data=df)"
   ]
  },
  {
   "cell_type": "markdown",
   "id": "cca126bf",
   "metadata": {},
   "source": [
    "## Estimation of the correlation of features with target class"
   ]
  },
  {
   "cell_type": "code",
   "execution_count": 12,
   "id": "1c6ece1a",
   "metadata": {},
   "outputs": [],
   "source": [
    "correlations=df.corr()['Class'].sort_values(ascending=True)"
   ]
  },
  {
   "cell_type": "code",
   "execution_count": 13,
   "id": "555f0e46",
   "metadata": {},
   "outputs": [
    {
     "data": {
      "text/plain": [
       "V17      -0.326481\n",
       "V14      -0.302544\n",
       "V12      -0.260593\n",
       "V10      -0.216883\n",
       "V16      -0.196539\n",
       "V3       -0.192961\n",
       "V7       -0.187257\n",
       "V18      -0.111485\n",
       "V1       -0.101347\n",
       "V9       -0.097733\n",
       "V5       -0.094974\n",
       "V6       -0.043643\n",
       "Time     -0.012323\n",
       "V24      -0.007221\n",
       "V13      -0.004570\n",
       "V15      -0.004223\n",
       "V23      -0.002685\n",
       "V22       0.000805\n",
       "V25       0.003308\n",
       "V26       0.004455\n",
       "Amount    0.005632\n",
       "V28       0.009536\n",
       "V27       0.017580\n",
       "V8        0.019875\n",
       "V20       0.020090\n",
       "V19       0.034783\n",
       "V21       0.040413\n",
       "V2        0.091289\n",
       "V4        0.133447\n",
       "V11       0.154876\n",
       "Class     1.000000\n",
       "Name: Class, dtype: float64"
      ]
     },
     "execution_count": 13,
     "metadata": {},
     "output_type": "execute_result"
    }
   ],
   "source": [
    "correlations"
   ]
  },
  {
   "cell_type": "markdown",
   "id": "c592a6ac",
   "metadata": {},
   "source": [
    "## Try to drop features with less than 1% correrlation with the target class"
   ]
  },
  {
   "cell_type": "code",
   "execution_count": 14,
   "id": "7d073392",
   "metadata": {},
   "outputs": [
    {
     "data": {
      "text/plain": [
       "V24      -0.007221\n",
       "V13      -0.004570\n",
       "V15      -0.004223\n",
       "V23      -0.002685\n",
       "V22       0.000805\n",
       "V25       0.003308\n",
       "V26       0.004455\n",
       "Amount    0.005632\n",
       "V28       0.009536\n",
       "Name: Class, dtype: float64"
      ]
     },
     "execution_count": 14,
     "metadata": {},
     "output_type": "execute_result"
    }
   ],
   "source": [
    "correlations[np.abs(correlations)<0.01]"
   ]
  },
  {
   "cell_type": "markdown",
   "id": "cf3c2cd9",
   "metadata": {},
   "source": [
    "### I made a list with features with lesser impact in target class from this list the Amount feature is excluded due to its imporrtance in interpetabillity of the model"
   ]
  },
  {
   "cell_type": "code",
   "execution_count": 15,
   "id": "f15565f7",
   "metadata": {},
   "outputs": [],
   "source": [
    "less_than_1_per=correlations[np.abs(correlations)<0.01].index\n",
    "less_than_1_per=list(less_than_1_per)\n",
    "less_than_1_per.remove('Amount')\n"
   ]
  },
  {
   "cell_type": "code",
   "execution_count": 16,
   "id": "a0465231",
   "metadata": {},
   "outputs": [
    {
     "data": {
      "text/plain": [
       "<AxesSubplot:xlabel='Amount', ylabel='Density'>"
      ]
     },
     "execution_count": 16,
     "metadata": {},
     "output_type": "execute_result"
    },
    {
     "data": {
      "image/png": "[encoded data removed]",
      "text/plain": [
       "<Figure size 432x288 with 1 Axes>"
      ]
     },
     "metadata": {
      "needs_background": "light"
     },
     "output_type": "display_data"
    }
   ],
   "source": [
    "sns.distplot(df['Amount'])\n",
    "# Seems that there are some outlies that distort the normal distribution i will examine if an extraordinary amouny is a trait for Fraud detection"
   ]
  },
  {
   "cell_type": "code",
   "execution_count": null,
   "id": "ab479707",
   "metadata": {},
   "outputs": [],
   "source": []
  },
  {
   "cell_type": "code",
   "execution_count": 17,
   "id": "506797d5",
   "metadata": {},
   "outputs": [],
   "source": [
    "non_top_1_percent=df.sort_values('Amount',ascending=False).iloc[2843:]"
   ]
  },
  {
   "cell_type": "code",
   "execution_count": 18,
   "id": "31b1a532",
   "metadata": {},
   "outputs": [],
   "source": [
    "top_1_percent=df.sort_values('Amount',ascending=False).iloc[:2843]"
   ]
  },
  {
   "cell_type": "code",
   "execution_count": 19,
   "id": "92afe770",
   "metadata": {},
   "outputs": [
    {
     "data": {
      "text/html": [
       "<div>\n",
       "<style scoped>\n",
       "    .dataframe tbody tr th:only-of-type {\n",
       "        vertical-align: middle;\n",
       "    }\n",
       "\n",
       "    .dataframe tbody tr th {\n",
       "        vertical-align: top;\n",
       "    }\n",
       "\n",
       "    .dataframe thead th {\n",
       "        text-align: right;\n",
       "    }\n",
       "</style>\n",
       "<table border=\"1\" class=\"dataframe\">\n",
       "  <thead>\n",
       "    <tr style=\"text-align: right;\">\n",
       "      <th></th>\n",
       "      <th>Time</th>\n",
       "      <th>V1</th>\n",
       "      <th>V2</th>\n",
       "      <th>V3</th>\n",
       "      <th>V4</th>\n",
       "      <th>V5</th>\n",
       "      <th>V6</th>\n",
       "      <th>V7</th>\n",
       "      <th>V8</th>\n",
       "      <th>V9</th>\n",
       "      <th>...</th>\n",
       "      <th>V21</th>\n",
       "      <th>V22</th>\n",
       "      <th>V23</th>\n",
       "      <th>V24</th>\n",
       "      <th>V25</th>\n",
       "      <th>V26</th>\n",
       "      <th>V27</th>\n",
       "      <th>V28</th>\n",
       "      <th>Amount</th>\n",
       "      <th>Class</th>\n",
       "    </tr>\n",
       "  </thead>\n",
       "  <tbody>\n",
       "    <tr>\n",
       "      <th>201254</th>\n",
       "      <td>133798.0</td>\n",
       "      <td>-4.007587</td>\n",
       "      <td>-2.548032</td>\n",
       "      <td>-2.087865</td>\n",
       "      <td>0.713848</td>\n",
       "      <td>0.607723</td>\n",
       "      <td>0.249243</td>\n",
       "      <td>3.477859</td>\n",
       "      <td>-1.332341</td>\n",
       "      <td>-0.796800</td>\n",
       "      <td>...</td>\n",
       "      <td>-0.624721</td>\n",
       "      <td>0.878300</td>\n",
       "      <td>-2.499900</td>\n",
       "      <td>0.625306</td>\n",
       "      <td>1.237302</td>\n",
       "      <td>0.487553</td>\n",
       "      <td>1.437565</td>\n",
       "      <td>-0.804277</td>\n",
       "      <td>1018.92</td>\n",
       "      <td>0</td>\n",
       "    </tr>\n",
       "    <tr>\n",
       "      <th>41524</th>\n",
       "      <td>40720.0</td>\n",
       "      <td>-0.632450</td>\n",
       "      <td>-3.852757</td>\n",
       "      <td>-0.991574</td>\n",
       "      <td>-0.060709</td>\n",
       "      <td>-1.842309</td>\n",
       "      <td>-0.104187</td>\n",
       "      <td>0.897556</td>\n",
       "      <td>-0.291651</td>\n",
       "      <td>-1.116460</td>\n",
       "      <td>...</td>\n",
       "      <td>0.239675</td>\n",
       "      <td>-1.015353</td>\n",
       "      <td>-0.835305</td>\n",
       "      <td>0.339910</td>\n",
       "      <td>-0.156074</td>\n",
       "      <td>1.364999</td>\n",
       "      <td>-0.277015</td>\n",
       "      <td>0.156310</td>\n",
       "      <td>1018.56</td>\n",
       "      <td>0</td>\n",
       "    </tr>\n",
       "    <tr>\n",
       "      <th>147864</th>\n",
       "      <td>89090.0</td>\n",
       "      <td>-3.810758</td>\n",
       "      <td>-5.669052</td>\n",
       "      <td>-0.084135</td>\n",
       "      <td>0.939464</td>\n",
       "      <td>0.158454</td>\n",
       "      <td>-0.463210</td>\n",
       "      <td>1.679570</td>\n",
       "      <td>-0.074844</td>\n",
       "      <td>0.376615</td>\n",
       "      <td>...</td>\n",
       "      <td>1.165832</td>\n",
       "      <td>0.869702</td>\n",
       "      <td>2.808006</td>\n",
       "      <td>-0.484611</td>\n",
       "      <td>-0.340199</td>\n",
       "      <td>-0.351239</td>\n",
       "      <td>-0.377263</td>\n",
       "      <td>0.130733</td>\n",
       "      <td>1018.43</td>\n",
       "      <td>0</td>\n",
       "    </tr>\n",
       "    <tr>\n",
       "      <th>212156</th>\n",
       "      <td>138740.0</td>\n",
       "      <td>0.151725</td>\n",
       "      <td>-3.706082</td>\n",
       "      <td>-3.695211</td>\n",
       "      <td>0.053871</td>\n",
       "      <td>0.059866</td>\n",
       "      <td>0.612137</td>\n",
       "      <td>1.629445</td>\n",
       "      <td>-0.396961</td>\n",
       "      <td>-1.644184</td>\n",
       "      <td>...</td>\n",
       "      <td>0.632243</td>\n",
       "      <td>0.295981</td>\n",
       "      <td>-0.954899</td>\n",
       "      <td>-1.267431</td>\n",
       "      <td>-0.053260</td>\n",
       "      <td>1.010230</td>\n",
       "      <td>-0.257989</td>\n",
       "      <td>0.060308</td>\n",
       "      <td>1018.12</td>\n",
       "      <td>0</td>\n",
       "    </tr>\n",
       "    <tr>\n",
       "      <th>116603</th>\n",
       "      <td>74352.0</td>\n",
       "      <td>-0.546840</td>\n",
       "      <td>-3.574421</td>\n",
       "      <td>-1.010817</td>\n",
       "      <td>0.361947</td>\n",
       "      <td>-1.790978</td>\n",
       "      <td>-0.670527</td>\n",
       "      <td>1.201988</td>\n",
       "      <td>-0.628334</td>\n",
       "      <td>-1.104386</td>\n",
       "      <td>...</td>\n",
       "      <td>0.177554</td>\n",
       "      <td>-1.119236</td>\n",
       "      <td>-0.910621</td>\n",
       "      <td>0.530796</td>\n",
       "      <td>0.104126</td>\n",
       "      <td>0.979523</td>\n",
       "      <td>-0.251801</td>\n",
       "      <td>0.176773</td>\n",
       "      <td>1018.00</td>\n",
       "      <td>0</td>\n",
       "    </tr>\n",
       "  </tbody>\n",
       "</table>\n",
       "<p>5 rows × 31 columns</p>\n",
       "</div>"
      ],
      "text/plain": [
       "            Time        V1        V2        V3        V4        V5        V6  \\\n",
       "201254  133798.0 -4.007587 -2.548032 -2.087865  0.713848  0.607723  0.249243   \n",
       "41524    40720.0 -0.632450 -3.852757 -0.991574 -0.060709 -1.842309 -0.104187   \n",
       "147864   89090.0 -3.810758 -5.669052 -0.084135  0.939464  0.158454 -0.463210   \n",
       "212156  138740.0  0.151725 -3.706082 -3.695211  0.053871  0.059866  0.612137   \n",
       "116603   74352.0 -0.546840 -3.574421 -1.010817  0.361947 -1.790978 -0.670527   \n",
       "\n",
       "              V7        V8        V9  ...       V21       V22       V23  \\\n",
       "201254  3.477859 -1.332341 -0.796800  ... -0.624721  0.878300 -2.499900   \n",
       "41524   0.897556 -0.291651 -1.116460  ...  0.239675 -1.015353 -0.835305   \n",
       "147864  1.679570 -0.074844  0.376615  ...  1.165832  0.869702  2.808006   \n",
       "212156  1.629445 -0.396961 -1.644184  ...  0.632243  0.295981 -0.954899   \n",
       "116603  1.201988 -0.628334 -1.104386  ...  0.177554 -1.119236 -0.910621   \n",
       "\n",
       "             V24       V25       V26       V27       V28   Amount  Class  \n",
       "201254  0.625306  1.237302  0.487553  1.437565 -0.804277  1018.92      0  \n",
       "41524   0.339910 -0.156074  1.364999 -0.277015  0.156310  1018.56      0  \n",
       "147864 -0.484611 -0.340199 -0.351239 -0.377263  0.130733  1018.43      0  \n",
       "212156 -1.267431 -0.053260  1.010230 -0.257989  0.060308  1018.12      0  \n",
       "116603  0.530796  0.104126  0.979523 -0.251801  0.176773  1018.00      0  \n",
       "\n",
       "[5 rows x 31 columns]"
      ]
     },
     "execution_count": 19,
     "metadata": {},
     "output_type": "execute_result"
    }
   ],
   "source": [
    "non_top_1_percent.head()"
   ]
  },
  {
   "cell_type": "code",
   "execution_count": 20,
   "id": "1c0e14d1",
   "metadata": {},
   "outputs": [
    {
     "data": {
      "text/plain": [
       "<AxesSubplot:xlabel='Amount', ylabel='Density'>"
      ]
     },
     "execution_count": 20,
     "metadata": {},
     "output_type": "execute_result"
    },
    {
     "data": {
      "image/png": "[encoded data removed]",
      "text/plain": [
       "<Figure size 432x288 with 1 Axes>"
      ]
     },
     "metadata": {
      "needs_background": "light"
     },
     "output_type": "display_data"
    }
   ],
   "source": [
    "sns.distplot(top_1_percent['Amount'])"
   ]
  },
  {
   "cell_type": "code",
   "execution_count": 21,
   "id": "0e7134cf",
   "metadata": {},
   "outputs": [
    {
     "data": {
      "text/plain": [
       "0    2834\n",
       "1       9\n",
       "Name: Class, dtype: int64"
      ]
     },
     "execution_count": 21,
     "metadata": {},
     "output_type": "execute_result"
    }
   ],
   "source": [
    "top_1_percent['Class'].value_counts()"
   ]
  },
  {
   "cell_type": "code",
   "execution_count": 22,
   "id": "c938a2fa",
   "metadata": {},
   "outputs": [
    {
     "data": {
      "text/plain": [
       "0.0031656700668308124"
      ]
     },
     "execution_count": 22,
     "metadata": {},
     "output_type": "execute_result"
    }
   ],
   "source": [
    "# There is a greater possibillity greater than 50% to detect a fraud in top 1% transections 0,31% while in whole dataset is 0,17%\n",
    "9/(2834+9)"
   ]
  },
  {
   "cell_type": "code",
   "execution_count": 23,
   "id": "4d9a02ee",
   "metadata": {},
   "outputs": [
    {
     "data": {
      "text/plain": [
       "<AxesSubplot:xlabel='Amount', ylabel='Density'>"
      ]
     },
     "execution_count": 23,
     "metadata": {},
     "output_type": "execute_result"
    },
    {
     "data": {
      "image/png": "[encoded data removed]",
      "text/plain": [
       "<Figure size 432x288 with 1 Axes>"
      ]
     },
     "metadata": {
      "needs_background": "light"
     },
     "output_type": "display_data"
    }
   ],
   "source": [
    "sns.distplot(non_top_1_percent['Amount'])"
   ]
  },
  {
   "cell_type": "code",
   "execution_count": 24,
   "id": "c9e36118",
   "metadata": {},
   "outputs": [
    {
     "data": {
      "text/plain": [
       "0    281481\n",
       "1       483\n",
       "Name: Class, dtype: int64"
      ]
     },
     "execution_count": 24,
     "metadata": {},
     "output_type": "execute_result"
    }
   ],
   "source": [
    "non_top_1_percent['Class'].value_counts()"
   ]
  },
  {
   "cell_type": "code",
   "execution_count": 25,
   "id": "c8d4ff3f",
   "metadata": {},
   "outputs": [
    {
     "name": "stdout",
     "output_type": "stream",
     "text": [
      "The fraud percentage is 0.0017129967868010584\n"
     ]
    }
   ],
   "source": [
    "print(f'The fraud percentage is {483/(281481+481)}')"
   ]
  },
  {
   "cell_type": "markdown",
   "id": "9a6fe1e7",
   "metadata": {},
   "source": [
    "## Creation of Input and output data"
   ]
  },
  {
   "cell_type": "code",
   "execution_count": 26,
   "id": "7a43f6ce",
   "metadata": {},
   "outputs": [],
   "source": [
    "X=df.drop(['Class','Time'],axis=1)"
   ]
  },
  {
   "cell_type": "code",
   "execution_count": 27,
   "id": "03783a45",
   "metadata": {},
   "outputs": [
    {
     "data": {
      "text/html": [
       "<div>\n",
       "<style scoped>\n",
       "    .dataframe tbody tr th:only-of-type {\n",
       "        vertical-align: middle;\n",
       "    }\n",
       "\n",
       "    .dataframe tbody tr th {\n",
       "        vertical-align: top;\n",
       "    }\n",
       "\n",
       "    .dataframe thead th {\n",
       "        text-align: right;\n",
       "    }\n",
       "</style>\n",
       "<table border=\"1\" class=\"dataframe\">\n",
       "  <thead>\n",
       "    <tr style=\"text-align: right;\">\n",
       "      <th></th>\n",
       "      <th>V1</th>\n",
       "      <th>V2</th>\n",
       "      <th>V3</th>\n",
       "      <th>V4</th>\n",
       "      <th>V5</th>\n",
       "      <th>V6</th>\n",
       "      <th>V7</th>\n",
       "      <th>V8</th>\n",
       "      <th>V9</th>\n",
       "      <th>V10</th>\n",
       "      <th>...</th>\n",
       "      <th>V20</th>\n",
       "      <th>V21</th>\n",
       "      <th>V22</th>\n",
       "      <th>V23</th>\n",
       "      <th>V24</th>\n",
       "      <th>V25</th>\n",
       "      <th>V26</th>\n",
       "      <th>V27</th>\n",
       "      <th>V28</th>\n",
       "      <th>Amount</th>\n",
       "    </tr>\n",
       "  </thead>\n",
       "  <tbody>\n",
       "    <tr>\n",
       "      <th>0</th>\n",
       "      <td>-1.359807</td>\n",
       "      <td>-0.072781</td>\n",
       "      <td>2.536347</td>\n",
       "      <td>1.378155</td>\n",
       "      <td>-0.338321</td>\n",
       "      <td>0.462388</td>\n",
       "      <td>0.239599</td>\n",
       "      <td>0.098698</td>\n",
       "      <td>0.363787</td>\n",
       "      <td>0.090794</td>\n",
       "      <td>...</td>\n",
       "      <td>0.251412</td>\n",
       "      <td>-0.018307</td>\n",
       "      <td>0.277838</td>\n",
       "      <td>-0.110474</td>\n",
       "      <td>0.066928</td>\n",
       "      <td>0.128539</td>\n",
       "      <td>-0.189115</td>\n",
       "      <td>0.133558</td>\n",
       "      <td>-0.021053</td>\n",
       "      <td>149.62</td>\n",
       "    </tr>\n",
       "    <tr>\n",
       "      <th>1</th>\n",
       "      <td>1.191857</td>\n",
       "      <td>0.266151</td>\n",
       "      <td>0.166480</td>\n",
       "      <td>0.448154</td>\n",
       "      <td>0.060018</td>\n",
       "      <td>-0.082361</td>\n",
       "      <td>-0.078803</td>\n",
       "      <td>0.085102</td>\n",
       "      <td>-0.255425</td>\n",
       "      <td>-0.166974</td>\n",
       "      <td>...</td>\n",
       "      <td>-0.069083</td>\n",
       "      <td>-0.225775</td>\n",
       "      <td>-0.638672</td>\n",
       "      <td>0.101288</td>\n",
       "      <td>-0.339846</td>\n",
       "      <td>0.167170</td>\n",
       "      <td>0.125895</td>\n",
       "      <td>-0.008983</td>\n",
       "      <td>0.014724</td>\n",
       "      <td>2.69</td>\n",
       "    </tr>\n",
       "    <tr>\n",
       "      <th>2</th>\n",
       "      <td>-1.358354</td>\n",
       "      <td>-1.340163</td>\n",
       "      <td>1.773209</td>\n",
       "      <td>0.379780</td>\n",
       "      <td>-0.503198</td>\n",
       "      <td>1.800499</td>\n",
       "      <td>0.791461</td>\n",
       "      <td>0.247676</td>\n",
       "      <td>-1.514654</td>\n",
       "      <td>0.207643</td>\n",
       "      <td>...</td>\n",
       "      <td>0.524980</td>\n",
       "      <td>0.247998</td>\n",
       "      <td>0.771679</td>\n",
       "      <td>0.909412</td>\n",
       "      <td>-0.689281</td>\n",
       "      <td>-0.327642</td>\n",
       "      <td>-0.139097</td>\n",
       "      <td>-0.055353</td>\n",
       "      <td>-0.059752</td>\n",
       "      <td>378.66</td>\n",
       "    </tr>\n",
       "    <tr>\n",
       "      <th>3</th>\n",
       "      <td>-0.966272</td>\n",
       "      <td>-0.185226</td>\n",
       "      <td>1.792993</td>\n",
       "      <td>-0.863291</td>\n",
       "      <td>-0.010309</td>\n",
       "      <td>1.247203</td>\n",
       "      <td>0.237609</td>\n",
       "      <td>0.377436</td>\n",
       "      <td>-1.387024</td>\n",
       "      <td>-0.054952</td>\n",
       "      <td>...</td>\n",
       "      <td>-0.208038</td>\n",
       "      <td>-0.108300</td>\n",
       "      <td>0.005274</td>\n",
       "      <td>-0.190321</td>\n",
       "      <td>-1.175575</td>\n",
       "      <td>0.647376</td>\n",
       "      <td>-0.221929</td>\n",
       "      <td>0.062723</td>\n",
       "      <td>0.061458</td>\n",
       "      <td>123.50</td>\n",
       "    </tr>\n",
       "    <tr>\n",
       "      <th>4</th>\n",
       "      <td>-1.158233</td>\n",
       "      <td>0.877737</td>\n",
       "      <td>1.548718</td>\n",
       "      <td>0.403034</td>\n",
       "      <td>-0.407193</td>\n",
       "      <td>0.095921</td>\n",
       "      <td>0.592941</td>\n",
       "      <td>-0.270533</td>\n",
       "      <td>0.817739</td>\n",
       "      <td>0.753074</td>\n",
       "      <td>...</td>\n",
       "      <td>0.408542</td>\n",
       "      <td>-0.009431</td>\n",
       "      <td>0.798278</td>\n",
       "      <td>-0.137458</td>\n",
       "      <td>0.141267</td>\n",
       "      <td>-0.206010</td>\n",
       "      <td>0.502292</td>\n",
       "      <td>0.219422</td>\n",
       "      <td>0.215153</td>\n",
       "      <td>69.99</td>\n",
       "    </tr>\n",
       "  </tbody>\n",
       "</table>\n",
       "<p>5 rows × 29 columns</p>\n",
       "</div>"
      ],
      "text/plain": [
       "         V1        V2        V3        V4        V5        V6        V7  \\\n",
       "0 -1.359807 -0.072781  2.536347  1.378155 -0.338321  0.462388  0.239599   \n",
       "1  1.191857  0.266151  0.166480  0.448154  0.060018 -0.082361 -0.078803   \n",
       "2 -1.358354 -1.340163  1.773209  0.379780 -0.503198  1.800499  0.791461   \n",
       "3 -0.966272 -0.185226  1.792993 -0.863291 -0.010309  1.247203  0.237609   \n",
       "4 -1.158233  0.877737  1.548718  0.403034 -0.407193  0.095921  0.592941   \n",
       "\n",
       "         V8        V9       V10  ...       V20       V21       V22       V23  \\\n",
       "0  0.098698  0.363787  0.090794  ...  0.251412 -0.018307  0.277838 -0.110474   \n",
       "1  0.085102 -0.255425 -0.166974  ... -0.069083 -0.225775 -0.638672  0.101288   \n",
       "2  0.247676 -1.514654  0.207643  ...  0.524980  0.247998  0.771679  0.909412   \n",
       "3  0.377436 -1.387024 -0.054952  ... -0.208038 -0.108300  0.005274 -0.190321   \n",
       "4 -0.270533  0.817739  0.753074  ...  0.408542 -0.009431  0.798278 -0.137458   \n",
       "\n",
       "        V24       V25       V26       V27       V28  Amount  \n",
       "0  0.066928  0.128539 -0.189115  0.133558 -0.021053  149.62  \n",
       "1 -0.339846  0.167170  0.125895 -0.008983  0.014724    2.69  \n",
       "2 -0.689281 -0.327642 -0.139097 -0.055353 -0.059752  378.66  \n",
       "3 -1.175575  0.647376 -0.221929  0.062723  0.061458  123.50  \n",
       "4  0.141267 -0.206010  0.502292  0.219422  0.215153   69.99  \n",
       "\n",
       "[5 rows x 29 columns]"
      ]
     },
     "execution_count": 27,
     "metadata": {},
     "output_type": "execute_result"
    }
   ],
   "source": [
    "X.head()\n",
    "# First are excluded Class feature becausse is our output and Time feature because it doent seem to be helpful at all."
   ]
  },
  {
   "cell_type": "markdown",
   "id": "e3596cf8",
   "metadata": {},
   "source": [
    "## Exception of less important features which are pointed before"
   ]
  },
  {
   "cell_type": "code",
   "execution_count": 28,
   "id": "0a84df20",
   "metadata": {},
   "outputs": [],
   "source": [
    "X=X.drop([col for col in less_than_1_per],axis=1)"
   ]
  },
  {
   "cell_type": "code",
   "execution_count": 29,
   "id": "80e46e06",
   "metadata": {},
   "outputs": [],
   "source": [
    "y=df['Class']"
   ]
  },
  {
   "cell_type": "code",
   "execution_count": 30,
   "id": "6554f51b",
   "metadata": {},
   "outputs": [],
   "source": [
    "from sklearn.model_selection import train_test_split"
   ]
  },
  {
   "cell_type": "code",
   "execution_count": 31,
   "id": "7e57e12f",
   "metadata": {},
   "outputs": [],
   "source": [
    "X_train,X_test,y_train,y_test=train_test_split(X,y,test_size=0.33)"
   ]
  },
  {
   "cell_type": "code",
   "execution_count": 32,
   "id": "e854f52d",
   "metadata": {},
   "outputs": [],
   "source": [
    "amount_train=X_train['Amount']\n",
    "amount_test=X_test['Amount']"
   ]
  },
  {
   "cell_type": "code",
   "execution_count": 33,
   "id": "cb348abb",
   "metadata": {},
   "outputs": [],
   "source": [
    "X_train.drop(['Amount'],axis=1,inplace=True)"
   ]
  },
  {
   "cell_type": "code",
   "execution_count": 34,
   "id": "7b2f8ffc",
   "metadata": {},
   "outputs": [
    {
     "data": {
      "text/plain": [
       "Index(['V1', 'V2', 'V3', 'V4', 'V5', 'V6', 'V7', 'V8', 'V9', 'V10', 'V11',\n",
       "       'V12', 'V14', 'V16', 'V17', 'V18', 'V19', 'V20', 'V21', 'V27'],\n",
       "      dtype='object')"
      ]
     },
     "execution_count": 34,
     "metadata": {},
     "output_type": "execute_result"
    }
   ],
   "source": [
    "X_train.columns"
   ]
  },
  {
   "cell_type": "code",
   "execution_count": 35,
   "id": "8a2763be",
   "metadata": {},
   "outputs": [],
   "source": [
    "X_test.drop(['Amount'],axis=1,inplace=True)"
   ]
  },
  {
   "cell_type": "code",
   "execution_count": null,
   "id": "ac1cd412",
   "metadata": {},
   "outputs": [],
   "source": []
  },
  {
   "cell_type": "code",
   "execution_count": 36,
   "id": "98ebefe8",
   "metadata": {},
   "outputs": [],
   "source": [
    "from sklearn.preprocessing import StandardScaler\n",
    "scaler=StandardScaler()"
   ]
  },
  {
   "cell_type": "code",
   "execution_count": 37,
   "id": "97aef015",
   "metadata": {},
   "outputs": [],
   "source": [
    "amount_train=amount_train.to_frame()\n"
   ]
  },
  {
   "cell_type": "code",
   "execution_count": 38,
   "id": "8297a20d",
   "metadata": {},
   "outputs": [
    {
     "data": {
      "text/plain": [
       "pandas.core.frame.DataFrame"
      ]
     },
     "execution_count": 38,
     "metadata": {},
     "output_type": "execute_result"
    }
   ],
   "source": [
    "type(amount_train)"
   ]
  },
  {
   "cell_type": "code",
   "execution_count": 39,
   "id": "a8d31435",
   "metadata": {},
   "outputs": [
    {
     "data": {
      "text/plain": [
       "pandas.core.frame.DataFrame"
      ]
     },
     "execution_count": 39,
     "metadata": {},
     "output_type": "execute_result"
    }
   ],
   "source": [
    "type(amount_train)"
   ]
  },
  {
   "cell_type": "code",
   "execution_count": 40,
   "id": "c604076b",
   "metadata": {},
   "outputs": [],
   "source": [
    "amount_train=scaler.fit_transform(amount_train)"
   ]
  },
  {
   "cell_type": "code",
   "execution_count": null,
   "id": "13c48535",
   "metadata": {},
   "outputs": [],
   "source": []
  },
  {
   "cell_type": "code",
   "execution_count": 41,
   "id": "f453e639",
   "metadata": {},
   "outputs": [],
   "source": [
    "amount_test=amount_test.to_frame()"
   ]
  },
  {
   "cell_type": "code",
   "execution_count": 42,
   "id": "b5dcf22e",
   "metadata": {},
   "outputs": [],
   "source": [
    "amount_test=scaler.transform(amount_test)"
   ]
  },
  {
   "cell_type": "code",
   "execution_count": 43,
   "id": "c91e098b",
   "metadata": {},
   "outputs": [
    {
     "data": {
      "text/html": [
       "<div>\n",
       "<style scoped>\n",
       "    .dataframe tbody tr th:only-of-type {\n",
       "        vertical-align: middle;\n",
       "    }\n",
       "\n",
       "    .dataframe tbody tr th {\n",
       "        vertical-align: top;\n",
       "    }\n",
       "\n",
       "    .dataframe thead th {\n",
       "        text-align: right;\n",
       "    }\n",
       "</style>\n",
       "<table border=\"1\" class=\"dataframe\">\n",
       "  <thead>\n",
       "    <tr style=\"text-align: right;\">\n",
       "      <th></th>\n",
       "      <th>V1</th>\n",
       "      <th>V2</th>\n",
       "      <th>V3</th>\n",
       "      <th>V4</th>\n",
       "      <th>V5</th>\n",
       "      <th>V6</th>\n",
       "      <th>V7</th>\n",
       "      <th>V8</th>\n",
       "      <th>V9</th>\n",
       "      <th>V10</th>\n",
       "      <th>V11</th>\n",
       "      <th>V12</th>\n",
       "      <th>V14</th>\n",
       "      <th>V16</th>\n",
       "      <th>V17</th>\n",
       "      <th>V18</th>\n",
       "      <th>V19</th>\n",
       "      <th>V20</th>\n",
       "      <th>V21</th>\n",
       "      <th>V27</th>\n",
       "    </tr>\n",
       "  </thead>\n",
       "  <tbody>\n",
       "    <tr>\n",
       "      <th>67272</th>\n",
       "      <td>-0.560323</td>\n",
       "      <td>-0.776761</td>\n",
       "      <td>1.105988</td>\n",
       "      <td>0.237552</td>\n",
       "      <td>-1.236754</td>\n",
       "      <td>1.267584</td>\n",
       "      <td>0.835155</td>\n",
       "      <td>0.240408</td>\n",
       "      <td>0.203461</td>\n",
       "      <td>-0.649972</td>\n",
       "      <td>0.823380</td>\n",
       "      <td>1.379962</td>\n",
       "      <td>-0.503265</td>\n",
       "      <td>-0.577029</td>\n",
       "      <td>0.263871</td>\n",
       "      <td>-0.157448</td>\n",
       "      <td>1.449746</td>\n",
       "      <td>0.855425</td>\n",
       "      <td>0.238931</td>\n",
       "      <td>0.130347</td>\n",
       "    </tr>\n",
       "    <tr>\n",
       "      <th>44511</th>\n",
       "      <td>-1.019096</td>\n",
       "      <td>-1.021164</td>\n",
       "      <td>1.312984</td>\n",
       "      <td>-1.288101</td>\n",
       "      <td>-1.113579</td>\n",
       "      <td>0.802883</td>\n",
       "      <td>-0.801852</td>\n",
       "      <td>0.960937</td>\n",
       "      <td>-0.637524</td>\n",
       "      <td>-0.415742</td>\n",
       "      <td>0.941135</td>\n",
       "      <td>0.520242</td>\n",
       "      <td>-0.468098</td>\n",
       "      <td>0.743074</td>\n",
       "      <td>0.864505</td>\n",
       "      <td>-1.779680</td>\n",
       "      <td>-0.278217</td>\n",
       "      <td>0.245711</td>\n",
       "      <td>0.353554</td>\n",
       "      <td>-0.101620</td>\n",
       "    </tr>\n",
       "    <tr>\n",
       "      <th>22394</th>\n",
       "      <td>-7.137241</td>\n",
       "      <td>3.799934</td>\n",
       "      <td>-5.517560</td>\n",
       "      <td>1.372624</td>\n",
       "      <td>-4.448657</td>\n",
       "      <td>-1.368829</td>\n",
       "      <td>-2.434390</td>\n",
       "      <td>4.561890</td>\n",
       "      <td>-0.158596</td>\n",
       "      <td>0.683715</td>\n",
       "      <td>-1.689454</td>\n",
       "      <td>0.994840</td>\n",
       "      <td>3.755933</td>\n",
       "      <td>0.512264</td>\n",
       "      <td>2.096125</td>\n",
       "      <td>-0.200179</td>\n",
       "      <td>-0.498720</td>\n",
       "      <td>-0.135018</td>\n",
       "      <td>0.239425</td>\n",
       "      <td>0.208924</td>\n",
       "    </tr>\n",
       "    <tr>\n",
       "      <th>134844</th>\n",
       "      <td>0.891284</td>\n",
       "      <td>-0.549022</td>\n",
       "      <td>1.426302</td>\n",
       "      <td>1.552364</td>\n",
       "      <td>-0.793653</td>\n",
       "      <td>1.547212</td>\n",
       "      <td>-1.008682</td>\n",
       "      <td>0.635713</td>\n",
       "      <td>1.157398</td>\n",
       "      <td>-0.248470</td>\n",
       "      <td>0.809535</td>\n",
       "      <td>1.498966</td>\n",
       "      <td>-0.583592</td>\n",
       "      <td>-0.868176</td>\n",
       "      <td>0.530740</td>\n",
       "      <td>-0.523451</td>\n",
       "      <td>-0.404293</td>\n",
       "      <td>-0.120975</td>\n",
       "      <td>0.184468</td>\n",
       "      <td>0.111138</td>\n",
       "    </tr>\n",
       "    <tr>\n",
       "      <th>226901</th>\n",
       "      <td>-0.598832</td>\n",
       "      <td>0.287477</td>\n",
       "      <td>1.485450</td>\n",
       "      <td>-1.543188</td>\n",
       "      <td>0.404097</td>\n",
       "      <td>-0.121273</td>\n",
       "      <td>0.652477</td>\n",
       "      <td>-0.148879</td>\n",
       "      <td>0.720258</td>\n",
       "      <td>-0.853597</td>\n",
       "      <td>-1.351434</td>\n",
       "      <td>-0.150633</td>\n",
       "      <td>-0.716386</td>\n",
       "      <td>0.700096</td>\n",
       "      <td>-1.178334</td>\n",
       "      <td>0.084648</td>\n",
       "      <td>-1.470695</td>\n",
       "      <td>-0.156214</td>\n",
       "      <td>0.245484</td>\n",
       "      <td>-0.209814</td>\n",
       "    </tr>\n",
       "    <tr>\n",
       "      <th>...</th>\n",
       "      <td>...</td>\n",
       "      <td>...</td>\n",
       "      <td>...</td>\n",
       "      <td>...</td>\n",
       "      <td>...</td>\n",
       "      <td>...</td>\n",
       "      <td>...</td>\n",
       "      <td>...</td>\n",
       "      <td>...</td>\n",
       "      <td>...</td>\n",
       "      <td>...</td>\n",
       "      <td>...</td>\n",
       "      <td>...</td>\n",
       "      <td>...</td>\n",
       "      <td>...</td>\n",
       "      <td>...</td>\n",
       "      <td>...</td>\n",
       "      <td>...</td>\n",
       "      <td>...</td>\n",
       "      <td>...</td>\n",
       "    </tr>\n",
       "    <tr>\n",
       "      <th>239824</th>\n",
       "      <td>1.864738</td>\n",
       "      <td>0.349884</td>\n",
       "      <td>-0.823092</td>\n",
       "      <td>3.752670</td>\n",
       "      <td>0.550320</td>\n",
       "      <td>0.433512</td>\n",
       "      <td>0.096870</td>\n",
       "      <td>0.065013</td>\n",
       "      <td>-0.875944</td>\n",
       "      <td>1.561639</td>\n",
       "      <td>-0.182837</td>\n",
       "      <td>0.236297</td>\n",
       "      <td>0.299982</td>\n",
       "      <td>0.624471</td>\n",
       "      <td>-0.788151</td>\n",
       "      <td>0.071374</td>\n",
       "      <td>-0.981979</td>\n",
       "      <td>-0.287820</td>\n",
       "      <td>0.178476</td>\n",
       "      <td>-0.040184</td>\n",
       "    </tr>\n",
       "    <tr>\n",
       "      <th>172551</th>\n",
       "      <td>-1.039229</td>\n",
       "      <td>0.043211</td>\n",
       "      <td>-1.026388</td>\n",
       "      <td>-0.890686</td>\n",
       "      <td>1.026210</td>\n",
       "      <td>-1.592149</td>\n",
       "      <td>1.630840</td>\n",
       "      <td>-0.297277</td>\n",
       "      <td>-0.200117</td>\n",
       "      <td>0.007850</td>\n",
       "      <td>0.686615</td>\n",
       "      <td>-0.210730</td>\n",
       "      <td>1.188933</td>\n",
       "      <td>-0.444013</td>\n",
       "      <td>-0.497777</td>\n",
       "      <td>0.209579</td>\n",
       "      <td>0.029285</td>\n",
       "      <td>0.102251</td>\n",
       "      <td>0.283987</td>\n",
       "      <td>0.474231</td>\n",
       "    </tr>\n",
       "    <tr>\n",
       "      <th>255646</th>\n",
       "      <td>2.236032</td>\n",
       "      <td>-0.739854</td>\n",
       "      <td>-1.717042</td>\n",
       "      <td>-1.246837</td>\n",
       "      <td>0.022351</td>\n",
       "      <td>-0.326758</td>\n",
       "      <td>-0.459003</td>\n",
       "      <td>-0.165235</td>\n",
       "      <td>-0.797061</td>\n",
       "      <td>1.035338</td>\n",
       "      <td>0.527765</td>\n",
       "      <td>-0.056733</td>\n",
       "      <td>0.125729</td>\n",
       "      <td>1.279024</td>\n",
       "      <td>-0.371317</td>\n",
       "      <td>-0.593614</td>\n",
       "      <td>0.962716</td>\n",
       "      <td>0.045332</td>\n",
       "      <td>0.440203</td>\n",
       "      <td>-0.047275</td>\n",
       "    </tr>\n",
       "    <tr>\n",
       "      <th>135747</th>\n",
       "      <td>-6.524911</td>\n",
       "      <td>5.391220</td>\n",
       "      <td>-2.617160</td>\n",
       "      <td>-0.727893</td>\n",
       "      <td>-2.934678</td>\n",
       "      <td>-0.850936</td>\n",
       "      <td>-2.107395</td>\n",
       "      <td>3.375257</td>\n",
       "      <td>1.236093</td>\n",
       "      <td>3.175949</td>\n",
       "      <td>0.992555</td>\n",
       "      <td>1.932225</td>\n",
       "      <td>1.515452</td>\n",
       "      <td>0.582779</td>\n",
       "      <td>0.758067</td>\n",
       "      <td>-0.334610</td>\n",
       "      <td>-0.652053</td>\n",
       "      <td>1.338578</td>\n",
       "      <td>-0.325101</td>\n",
       "      <td>1.053036</td>\n",
       "    </tr>\n",
       "    <tr>\n",
       "      <th>137522</th>\n",
       "      <td>1.178076</td>\n",
       "      <td>0.079241</td>\n",
       "      <td>0.592313</td>\n",
       "      <td>0.733583</td>\n",
       "      <td>-0.772526</td>\n",
       "      <td>-1.196731</td>\n",
       "      <td>0.030874</td>\n",
       "      <td>-0.168991</td>\n",
       "      <td>0.193438</td>\n",
       "      <td>-0.046433</td>\n",
       "      <td>-0.119354</td>\n",
       "      <td>-0.134005</td>\n",
       "      <td>0.494932</td>\n",
       "      <td>0.265441</td>\n",
       "      <td>-0.237444</td>\n",
       "      <td>-0.501542</td>\n",
       "      <td>-0.244020</td>\n",
       "      <td>-0.116147</td>\n",
       "      <td>-0.230888</td>\n",
       "      <td>-0.041862</td>\n",
       "    </tr>\n",
       "  </tbody>\n",
       "</table>\n",
       "<p>190820 rows × 20 columns</p>\n",
       "</div>"
      ],
      "text/plain": [
       "              V1        V2        V3        V4        V5        V6        V7  \\\n",
       "67272  -0.560323 -0.776761  1.105988  0.237552 -1.236754  1.267584  0.835155   \n",
       "44511  -1.019096 -1.021164  1.312984 -1.288101 -1.113579  0.802883 -0.801852   \n",
       "22394  -7.137241  3.799934 -5.517560  1.372624 -4.448657 -1.368829 -2.434390   \n",
       "134844  0.891284 -0.549022  1.426302  1.552364 -0.793653  1.547212 -1.008682   \n",
       "226901 -0.598832  0.287477  1.485450 -1.543188  0.404097 -0.121273  0.652477   \n",
       "...          ...       ...       ...       ...       ...       ...       ...   \n",
       "239824  1.864738  0.349884 -0.823092  3.752670  0.550320  0.433512  0.096870   \n",
       "172551 -1.039229  0.043211 -1.026388 -0.890686  1.026210 -1.592149  1.630840   \n",
       "255646  2.236032 -0.739854 -1.717042 -1.246837  0.022351 -0.326758 -0.459003   \n",
       "135747 -6.524911  5.391220 -2.617160 -0.727893 -2.934678 -0.850936 -2.107395   \n",
       "137522  1.178076  0.079241  0.592313  0.733583 -0.772526 -1.196731  0.030874   \n",
       "\n",
       "              V8        V9       V10       V11       V12       V14       V16  \\\n",
       "67272   0.240408  0.203461 -0.649972  0.823380  1.379962 -0.503265 -0.577029   \n",
       "44511   0.960937 -0.637524 -0.415742  0.941135  0.520242 -0.468098  0.743074   \n",
       "22394   4.561890 -0.158596  0.683715 -1.689454  0.994840  3.755933  0.512264   \n",
       "134844  0.635713  1.157398 -0.248470  0.809535  1.498966 -0.583592 -0.868176   \n",
       "226901 -0.148879  0.720258 -0.853597 -1.351434 -0.150633 -0.716386  0.700096   \n",
       "...          ...       ...       ...       ...       ...       ...       ...   \n",
       "239824  0.065013 -0.875944  1.561639 -0.182837  0.236297  0.299982  0.624471   \n",
       "172551 -0.297277 -0.200117  0.007850  0.686615 -0.210730  1.188933 -0.444013   \n",
       "255646 -0.165235 -0.797061  1.035338  0.527765 -0.056733  0.125729  1.279024   \n",
       "135747  3.375257  1.236093  3.175949  0.992555  1.932225  1.515452  0.582779   \n",
       "137522 -0.168991  0.193438 -0.046433 -0.119354 -0.134005  0.494932  0.265441   \n",
       "\n",
       "             V17       V18       V19       V20       V21       V27  \n",
       "67272   0.263871 -0.157448  1.449746  0.855425  0.238931  0.130347  \n",
       "44511   0.864505 -1.779680 -0.278217  0.245711  0.353554 -0.101620  \n",
       "22394   2.096125 -0.200179 -0.498720 -0.135018  0.239425  0.208924  \n",
       "134844  0.530740 -0.523451 -0.404293 -0.120975  0.184468  0.111138  \n",
       "226901 -1.178334  0.084648 -1.470695 -0.156214  0.245484 -0.209814  \n",
       "...          ...       ...       ...       ...       ...       ...  \n",
       "239824 -0.788151  0.071374 -0.981979 -0.287820  0.178476 -0.040184  \n",
       "172551 -0.497777  0.209579  0.029285  0.102251  0.283987  0.474231  \n",
       "255646 -0.371317 -0.593614  0.962716  0.045332  0.440203 -0.047275  \n",
       "135747  0.758067 -0.334610 -0.652053  1.338578 -0.325101  1.053036  \n",
       "137522 -0.237444 -0.501542 -0.244020 -0.116147 -0.230888 -0.041862  \n",
       "\n",
       "[190820 rows x 20 columns]"
      ]
     },
     "execution_count": 43,
     "metadata": {},
     "output_type": "execute_result"
    }
   ],
   "source": [
    "X_train=pd.DataFrame(X_train,columns=X_train.columns)\n",
    "X_train"
   ]
  },
  {
   "cell_type": "code",
   "execution_count": 44,
   "id": "c7a8600a",
   "metadata": {},
   "outputs": [
    {
     "data": {
      "text/html": [
       "<div>\n",
       "<style scoped>\n",
       "    .dataframe tbody tr th:only-of-type {\n",
       "        vertical-align: middle;\n",
       "    }\n",
       "\n",
       "    .dataframe tbody tr th {\n",
       "        vertical-align: top;\n",
       "    }\n",
       "\n",
       "    .dataframe thead th {\n",
       "        text-align: right;\n",
       "    }\n",
       "</style>\n",
       "<table border=\"1\" class=\"dataframe\">\n",
       "  <thead>\n",
       "    <tr style=\"text-align: right;\">\n",
       "      <th></th>\n",
       "      <th>V1</th>\n",
       "      <th>V2</th>\n",
       "      <th>V3</th>\n",
       "      <th>V4</th>\n",
       "      <th>V5</th>\n",
       "      <th>V6</th>\n",
       "      <th>V7</th>\n",
       "      <th>V8</th>\n",
       "      <th>V9</th>\n",
       "      <th>V10</th>\n",
       "      <th>...</th>\n",
       "      <th>V12</th>\n",
       "      <th>V14</th>\n",
       "      <th>V16</th>\n",
       "      <th>V17</th>\n",
       "      <th>V18</th>\n",
       "      <th>V19</th>\n",
       "      <th>V20</th>\n",
       "      <th>V21</th>\n",
       "      <th>V27</th>\n",
       "      <th>Amount</th>\n",
       "    </tr>\n",
       "  </thead>\n",
       "  <tbody>\n",
       "    <tr>\n",
       "      <th>67272</th>\n",
       "      <td>-0.560323</td>\n",
       "      <td>-0.776761</td>\n",
       "      <td>1.105988</td>\n",
       "      <td>0.237552</td>\n",
       "      <td>-1.236754</td>\n",
       "      <td>1.267584</td>\n",
       "      <td>0.835155</td>\n",
       "      <td>0.240408</td>\n",
       "      <td>0.203461</td>\n",
       "      <td>-0.649972</td>\n",
       "      <td>...</td>\n",
       "      <td>1.379962</td>\n",
       "      <td>-0.503265</td>\n",
       "      <td>-0.577029</td>\n",
       "      <td>0.263871</td>\n",
       "      <td>-0.157448</td>\n",
       "      <td>1.449746</td>\n",
       "      <td>0.855425</td>\n",
       "      <td>0.238931</td>\n",
       "      <td>0.130347</td>\n",
       "      <td>1.067023</td>\n",
       "    </tr>\n",
       "    <tr>\n",
       "      <th>44511</th>\n",
       "      <td>-1.019096</td>\n",
       "      <td>-1.021164</td>\n",
       "      <td>1.312984</td>\n",
       "      <td>-1.288101</td>\n",
       "      <td>-1.113579</td>\n",
       "      <td>0.802883</td>\n",
       "      <td>-0.801852</td>\n",
       "      <td>0.960937</td>\n",
       "      <td>-0.637524</td>\n",
       "      <td>-0.415742</td>\n",
       "      <td>...</td>\n",
       "      <td>0.520242</td>\n",
       "      <td>-0.468098</td>\n",
       "      <td>0.743074</td>\n",
       "      <td>0.864505</td>\n",
       "      <td>-1.779680</td>\n",
       "      <td>-0.278217</td>\n",
       "      <td>0.245711</td>\n",
       "      <td>0.353554</td>\n",
       "      <td>-0.101620</td>\n",
       "      <td>0.266326</td>\n",
       "    </tr>\n",
       "    <tr>\n",
       "      <th>22394</th>\n",
       "      <td>-7.137241</td>\n",
       "      <td>3.799934</td>\n",
       "      <td>-5.517560</td>\n",
       "      <td>1.372624</td>\n",
       "      <td>-4.448657</td>\n",
       "      <td>-1.368829</td>\n",
       "      <td>-2.434390</td>\n",
       "      <td>4.561890</td>\n",
       "      <td>-0.158596</td>\n",
       "      <td>0.683715</td>\n",
       "      <td>...</td>\n",
       "      <td>0.994840</td>\n",
       "      <td>3.755933</td>\n",
       "      <td>0.512264</td>\n",
       "      <td>2.096125</td>\n",
       "      <td>-0.200179</td>\n",
       "      <td>-0.498720</td>\n",
       "      <td>-0.135018</td>\n",
       "      <td>0.239425</td>\n",
       "      <td>0.208924</td>\n",
       "      <td>0.008673</td>\n",
       "    </tr>\n",
       "    <tr>\n",
       "      <th>134844</th>\n",
       "      <td>0.891284</td>\n",
       "      <td>-0.549022</td>\n",
       "      <td>1.426302</td>\n",
       "      <td>1.552364</td>\n",
       "      <td>-0.793653</td>\n",
       "      <td>1.547212</td>\n",
       "      <td>-1.008682</td>\n",
       "      <td>0.635713</td>\n",
       "      <td>1.157398</td>\n",
       "      <td>-0.248470</td>\n",
       "      <td>...</td>\n",
       "      <td>1.498966</td>\n",
       "      <td>-0.583592</td>\n",
       "      <td>-0.868176</td>\n",
       "      <td>0.530740</td>\n",
       "      <td>-0.523451</td>\n",
       "      <td>-0.404293</td>\n",
       "      <td>-0.120975</td>\n",
       "      <td>0.184468</td>\n",
       "      <td>0.111138</td>\n",
       "      <td>-0.121772</td>\n",
       "    </tr>\n",
       "    <tr>\n",
       "      <th>226901</th>\n",
       "      <td>-0.598832</td>\n",
       "      <td>0.287477</td>\n",
       "      <td>1.485450</td>\n",
       "      <td>-1.543188</td>\n",
       "      <td>0.404097</td>\n",
       "      <td>-0.121273</td>\n",
       "      <td>0.652477</td>\n",
       "      <td>-0.148879</td>\n",
       "      <td>0.720258</td>\n",
       "      <td>-0.853597</td>\n",
       "      <td>...</td>\n",
       "      <td>-0.150633</td>\n",
       "      <td>-0.716386</td>\n",
       "      <td>0.700096</td>\n",
       "      <td>-1.178334</td>\n",
       "      <td>0.084648</td>\n",
       "      <td>-1.470695</td>\n",
       "      <td>-0.156214</td>\n",
       "      <td>0.245484</td>\n",
       "      <td>-0.209814</td>\n",
       "      <td>-0.237305</td>\n",
       "    </tr>\n",
       "    <tr>\n",
       "      <th>...</th>\n",
       "      <td>...</td>\n",
       "      <td>...</td>\n",
       "      <td>...</td>\n",
       "      <td>...</td>\n",
       "      <td>...</td>\n",
       "      <td>...</td>\n",
       "      <td>...</td>\n",
       "      <td>...</td>\n",
       "      <td>...</td>\n",
       "      <td>...</td>\n",
       "      <td>...</td>\n",
       "      <td>...</td>\n",
       "      <td>...</td>\n",
       "      <td>...</td>\n",
       "      <td>...</td>\n",
       "      <td>...</td>\n",
       "      <td>...</td>\n",
       "      <td>...</td>\n",
       "      <td>...</td>\n",
       "      <td>...</td>\n",
       "      <td>...</td>\n",
       "    </tr>\n",
       "    <tr>\n",
       "      <th>239824</th>\n",
       "      <td>1.864738</td>\n",
       "      <td>0.349884</td>\n",
       "      <td>-0.823092</td>\n",
       "      <td>3.752670</td>\n",
       "      <td>0.550320</td>\n",
       "      <td>0.433512</td>\n",
       "      <td>0.096870</td>\n",
       "      <td>0.065013</td>\n",
       "      <td>-0.875944</td>\n",
       "      <td>1.561639</td>\n",
       "      <td>...</td>\n",
       "      <td>0.236297</td>\n",
       "      <td>0.299982</td>\n",
       "      <td>0.624471</td>\n",
       "      <td>-0.788151</td>\n",
       "      <td>0.071374</td>\n",
       "      <td>-0.981979</td>\n",
       "      <td>-0.287820</td>\n",
       "      <td>0.178476</td>\n",
       "      <td>-0.040184</td>\n",
       "      <td>-0.266761</td>\n",
       "    </tr>\n",
       "    <tr>\n",
       "      <th>172551</th>\n",
       "      <td>-1.039229</td>\n",
       "      <td>0.043211</td>\n",
       "      <td>-1.026388</td>\n",
       "      <td>-0.890686</td>\n",
       "      <td>1.026210</td>\n",
       "      <td>-1.592149</td>\n",
       "      <td>1.630840</td>\n",
       "      <td>-0.297277</td>\n",
       "      <td>-0.200117</td>\n",
       "      <td>0.007850</td>\n",
       "      <td>...</td>\n",
       "      <td>-0.210730</td>\n",
       "      <td>1.188933</td>\n",
       "      <td>-0.444013</td>\n",
       "      <td>-0.497777</td>\n",
       "      <td>0.209579</td>\n",
       "      <td>0.029285</td>\n",
       "      <td>0.102251</td>\n",
       "      <td>0.283987</td>\n",
       "      <td>0.474231</td>\n",
       "      <td>0.271283</td>\n",
       "    </tr>\n",
       "    <tr>\n",
       "      <th>255646</th>\n",
       "      <td>2.236032</td>\n",
       "      <td>-0.739854</td>\n",
       "      <td>-1.717042</td>\n",
       "      <td>-1.246837</td>\n",
       "      <td>0.022351</td>\n",
       "      <td>-0.326758</td>\n",
       "      <td>-0.459003</td>\n",
       "      <td>-0.165235</td>\n",
       "      <td>-0.797061</td>\n",
       "      <td>1.035338</td>\n",
       "      <td>...</td>\n",
       "      <td>-0.056733</td>\n",
       "      <td>0.125729</td>\n",
       "      <td>1.279024</td>\n",
       "      <td>-0.371317</td>\n",
       "      <td>-0.593614</td>\n",
       "      <td>0.962716</td>\n",
       "      <td>0.045332</td>\n",
       "      <td>0.440203</td>\n",
       "      <td>-0.047275</td>\n",
       "      <td>-0.298553</td>\n",
       "    </tr>\n",
       "    <tr>\n",
       "      <th>135747</th>\n",
       "      <td>-6.524911</td>\n",
       "      <td>5.391220</td>\n",
       "      <td>-2.617160</td>\n",
       "      <td>-0.727893</td>\n",
       "      <td>-2.934678</td>\n",
       "      <td>-0.850936</td>\n",
       "      <td>-2.107395</td>\n",
       "      <td>3.375257</td>\n",
       "      <td>1.236093</td>\n",
       "      <td>3.175949</td>\n",
       "      <td>...</td>\n",
       "      <td>1.932225</td>\n",
       "      <td>1.515452</td>\n",
       "      <td>0.582779</td>\n",
       "      <td>0.758067</td>\n",
       "      <td>-0.334610</td>\n",
       "      <td>-0.652053</td>\n",
       "      <td>1.338578</td>\n",
       "      <td>-0.325101</td>\n",
       "      <td>1.053036</td>\n",
       "      <td>-0.321414</td>\n",
       "    </tr>\n",
       "    <tr>\n",
       "      <th>137522</th>\n",
       "      <td>1.178076</td>\n",
       "      <td>0.079241</td>\n",
       "      <td>0.592313</td>\n",
       "      <td>0.733583</td>\n",
       "      <td>-0.772526</td>\n",
       "      <td>-1.196731</td>\n",
       "      <td>0.030874</td>\n",
       "      <td>-0.168991</td>\n",
       "      <td>0.193438</td>\n",
       "      <td>-0.046433</td>\n",
       "      <td>...</td>\n",
       "      <td>-0.134005</td>\n",
       "      <td>0.494932</td>\n",
       "      <td>0.265441</td>\n",
       "      <td>-0.237444</td>\n",
       "      <td>-0.501542</td>\n",
       "      <td>-0.244020</td>\n",
       "      <td>-0.116147</td>\n",
       "      <td>-0.230888</td>\n",
       "      <td>-0.041862</td>\n",
       "      <td>-0.228947</td>\n",
       "    </tr>\n",
       "  </tbody>\n",
       "</table>\n",
       "<p>190820 rows × 21 columns</p>\n",
       "</div>"
      ],
      "text/plain": [
       "              V1        V2        V3        V4        V5        V6        V7  \\\n",
       "67272  -0.560323 -0.776761  1.105988  0.237552 -1.236754  1.267584  0.835155   \n",
       "44511  -1.019096 -1.021164  1.312984 -1.288101 -1.113579  0.802883 -0.801852   \n",
       "22394  -7.137241  3.799934 -5.517560  1.372624 -4.448657 -1.368829 -2.434390   \n",
       "134844  0.891284 -0.549022  1.426302  1.552364 -0.793653  1.547212 -1.008682   \n",
       "226901 -0.598832  0.287477  1.485450 -1.543188  0.404097 -0.121273  0.652477   \n",
       "...          ...       ...       ...       ...       ...       ...       ...   \n",
       "239824  1.864738  0.349884 -0.823092  3.752670  0.550320  0.433512  0.096870   \n",
       "172551 -1.039229  0.043211 -1.026388 -0.890686  1.026210 -1.592149  1.630840   \n",
       "255646  2.236032 -0.739854 -1.717042 -1.246837  0.022351 -0.326758 -0.459003   \n",
       "135747 -6.524911  5.391220 -2.617160 -0.727893 -2.934678 -0.850936 -2.107395   \n",
       "137522  1.178076  0.079241  0.592313  0.733583 -0.772526 -1.196731  0.030874   \n",
       "\n",
       "              V8        V9       V10  ...       V12       V14       V16  \\\n",
       "67272   0.240408  0.203461 -0.649972  ...  1.379962 -0.503265 -0.577029   \n",
       "44511   0.960937 -0.637524 -0.415742  ...  0.520242 -0.468098  0.743074   \n",
       "22394   4.561890 -0.158596  0.683715  ...  0.994840  3.755933  0.512264   \n",
       "134844  0.635713  1.157398 -0.248470  ...  1.498966 -0.583592 -0.868176   \n",
       "226901 -0.148879  0.720258 -0.853597  ... -0.150633 -0.716386  0.700096   \n",
       "...          ...       ...       ...  ...       ...       ...       ...   \n",
       "239824  0.065013 -0.875944  1.561639  ...  0.236297  0.299982  0.624471   \n",
       "172551 -0.297277 -0.200117  0.007850  ... -0.210730  1.188933 -0.444013   \n",
       "255646 -0.165235 -0.797061  1.035338  ... -0.056733  0.125729  1.279024   \n",
       "135747  3.375257  1.236093  3.175949  ...  1.932225  1.515452  0.582779   \n",
       "137522 -0.168991  0.193438 -0.046433  ... -0.134005  0.494932  0.265441   \n",
       "\n",
       "             V17       V18       V19       V20       V21       V27    Amount  \n",
       "67272   0.263871 -0.157448  1.449746  0.855425  0.238931  0.130347  1.067023  \n",
       "44511   0.864505 -1.779680 -0.278217  0.245711  0.353554 -0.101620  0.266326  \n",
       "22394   2.096125 -0.200179 -0.498720 -0.135018  0.239425  0.208924  0.008673  \n",
       "134844  0.530740 -0.523451 -0.404293 -0.120975  0.184468  0.111138 -0.121772  \n",
       "226901 -1.178334  0.084648 -1.470695 -0.156214  0.245484 -0.209814 -0.237305  \n",
       "...          ...       ...       ...       ...       ...       ...       ...  \n",
       "239824 -0.788151  0.071374 -0.981979 -0.287820  0.178476 -0.040184 -0.266761  \n",
       "172551 -0.497777  0.209579  0.029285  0.102251  0.283987  0.474231  0.271283  \n",
       "255646 -0.371317 -0.593614  0.962716  0.045332  0.440203 -0.047275 -0.298553  \n",
       "135747  0.758067 -0.334610 -0.652053  1.338578 -0.325101  1.053036 -0.321414  \n",
       "137522 -0.237444 -0.501542 -0.244020 -0.116147 -0.230888 -0.041862 -0.228947  \n",
       "\n",
       "[190820 rows x 21 columns]"
      ]
     },
     "execution_count": 44,
     "metadata": {},
     "output_type": "execute_result"
    }
   ],
   "source": [
    "X_train['Amount']=amount_train\n",
    "X_train"
   ]
  },
  {
   "cell_type": "code",
   "execution_count": 45,
   "id": "33251c33",
   "metadata": {},
   "outputs": [],
   "source": [
    "X_test=pd.DataFrame(X_test,columns=X_train.columns)"
   ]
  },
  {
   "cell_type": "code",
   "execution_count": 46,
   "id": "c22f8023",
   "metadata": {},
   "outputs": [],
   "source": [
    "X_test['Amount']=amount_test"
   ]
  },
  {
   "cell_type": "code",
   "execution_count": 47,
   "id": "95e0bbdc",
   "metadata": {},
   "outputs": [
    {
     "data": {
      "text/plain": [
       "(93987, 21)"
      ]
     },
     "execution_count": 47,
     "metadata": {},
     "output_type": "execute_result"
    }
   ],
   "source": [
    "X_test.shape"
   ]
  },
  {
   "cell_type": "code",
   "execution_count": 48,
   "id": "d93e740a",
   "metadata": {},
   "outputs": [],
   "source": [
    "X_train=X_train.values\n",
    "y_train=y_train.values"
   ]
  },
  {
   "cell_type": "code",
   "execution_count": 49,
   "id": "9b784937",
   "metadata": {},
   "outputs": [],
   "source": [
    "X_test=X_test.values\n",
    "y_test=y_test.values\n"
   ]
  },
  {
   "cell_type": "code",
   "execution_count": 50,
   "id": "1c39a221",
   "metadata": {},
   "outputs": [],
   "source": [
    "from tensorflow.keras.models import Sequential\n",
    "from tensorflow.keras.layers import Dense\n",
    "from tensorflow.keras.callbacks import EarlyStopping"
   ]
  },
  {
   "cell_type": "code",
   "execution_count": 51,
   "id": "9967902f",
   "metadata": {},
   "outputs": [],
   "source": [
    "model=Sequential()\n",
    "\n",
    "model.add(Dense(21,activation='relu'))\n",
    "\n",
    "\n",
    "model.add(Dense(11,activation='relu'))\n",
    "model.add(Dense(6,activation='relu'))\n",
    "\n",
    "\n",
    "model.add(Dense(1,activation='sigmoid'))\n",
    "\n",
    "model.compile(optimizer='adam',loss='binary_crossentropy')"
   ]
  },
  {
   "cell_type": "code",
   "execution_count": 52,
   "id": "8d9d9777",
   "metadata": {},
   "outputs": [],
   "source": [
    "early_stop=EarlyStopping(monitor='val_loss',mode='min',verbose=1,patience=15)"
   ]
  },
  {
   "cell_type": "code",
   "execution_count": 53,
   "id": "a9fcb3d0",
   "metadata": {},
   "outputs": [
    {
     "name": "stdout",
     "output_type": "stream",
     "text": [
      "Epoch 1/100\n",
      "5964/5964 [==============================] - 8s 1ms/step - loss: 0.0125 - val_loss: 0.0036\n",
      "Epoch 2/100\n",
      "5964/5964 [==============================] - 7s 1ms/step - loss: 0.0033 - val_loss: 0.0031\n",
      "Epoch 3/100\n",
      "5964/5964 [==============================] - 7s 1ms/step - loss: 0.0030 - val_loss: 0.0032\n",
      "Epoch 4/100\n",
      "5964/5964 [==============================] - 7s 1ms/step - loss: 0.0028 - val_loss: 0.0038\n",
      "Epoch 5/100\n",
      "5964/5964 [==============================] - 7s 1ms/step - loss: 0.0029 - val_loss: 0.0029\n",
      "Epoch 6/100\n",
      "5964/5964 [==============================] - 7s 1ms/step - loss: 0.0026 - val_loss: 0.0030\n",
      "Epoch 7/100\n",
      "5964/5964 [==============================] - 7s 1ms/step - loss: 0.0025 - val_loss: 0.0029\n",
      "Epoch 8/100\n",
      "5964/5964 [==============================] - 7s 1ms/step - loss: 0.0024 - val_loss: 0.0029\n",
      "Epoch 9/100\n",
      "5964/5964 [==============================] - 7s 1ms/step - loss: 0.0024 - val_loss: 0.0031\n",
      "Epoch 10/100\n",
      "5964/5964 [==============================] - 7s 1ms/step - loss: 0.0023 - val_loss: 0.0031\n",
      "Epoch 11/100\n",
      "5964/5964 [==============================] - 7s 1ms/step - loss: 0.0023 - val_loss: 0.0032\n",
      "Epoch 12/100\n",
      "5964/5964 [==============================] - 7s 1ms/step - loss: 0.0022 - val_loss: 0.0031\n",
      "Epoch 13/100\n",
      "5964/5964 [==============================] - 7s 1ms/step - loss: 0.0022 - val_loss: 0.0032\n",
      "Epoch 14/100\n",
      "5964/5964 [==============================] - 7s 1ms/step - loss: 0.0021 - val_loss: 0.0031\n",
      "Epoch 15/100\n",
      "5964/5964 [==============================] - 7s 1ms/step - loss: 0.0021 - val_loss: 0.0034\n",
      "Epoch 16/100\n",
      "5964/5964 [==============================] - 7s 1ms/step - loss: 0.0020 - val_loss: 0.0034\n",
      "Epoch 17/100\n",
      "5964/5964 [==============================] - 9s 1ms/step - loss: 0.0020 - val_loss: 0.0035\n",
      "Epoch 18/100\n",
      "5964/5964 [==============================] - 9s 2ms/step - loss: 0.0019 - val_loss: 0.0035\n",
      "Epoch 19/100\n",
      "5964/5964 [==============================] - 8s 1ms/step - loss: 0.0019 - val_loss: 0.0035\n",
      "Epoch 20/100\n",
      "5964/5964 [==============================] - 8s 1ms/step - loss: 0.0019 - val_loss: 0.0035\n",
      "Epoch 21/100\n",
      "5964/5964 [==============================] - 8s 1ms/step - loss: 0.0019 - val_loss: 0.0033\n",
      "Epoch 22/100\n",
      "5964/5964 [==============================] - 8s 1ms/step - loss: 0.0018 - val_loss: 0.0039\n",
      "Epoch 00022: early stopping\n"
     ]
    },
    {
     "data": {
      "text/plain": [
       "<tensorflow.python.keras.callbacks.History at 0x1f13fc81ca0>"
      ]
     },
     "execution_count": 53,
     "metadata": {},
     "output_type": "execute_result"
    }
   ],
   "source": [
    "model.fit(x=X_train,y=y_train,epochs=100,validation_data=(X_test,y_test),\n",
    "         callbacks=[early_stop])"
   ]
  },
  {
   "cell_type": "code",
   "execution_count": 54,
   "id": "361ac620",
   "metadata": {},
   "outputs": [],
   "source": [
    "from sklearn.metrics import classification_report, confusion_matrix"
   ]
  },
  {
   "cell_type": "code",
   "execution_count": 55,
   "id": "4d737a91",
   "metadata": {},
   "outputs": [],
   "source": [
    "predictions=model.predict_classes(X_test)"
   ]
  },
  {
   "cell_type": "code",
   "execution_count": 56,
   "id": "475e3e95",
   "metadata": {},
   "outputs": [
    {
     "name": "stdout",
     "output_type": "stream",
     "text": [
      "              precision    recall  f1-score   support\n",
      "\n",
      "           0       1.00      1.00      1.00     93829\n",
      "           1       0.91      0.77      0.83       158\n",
      "\n",
      "    accuracy                           1.00     93987\n",
      "   macro avg       0.95      0.88      0.92     93987\n",
      "weighted avg       1.00      1.00      1.00     93987\n",
      "\n"
     ]
    }
   ],
   "source": [
    "print(classification_report(y_test,predictions))\n"
   ]
  },
  {
   "cell_type": "code",
   "execution_count": 57,
   "id": "621eaf5b",
   "metadata": {},
   "outputs": [
    {
     "name": "stdout",
     "output_type": "stream",
     "text": [
      "              precision    recall  f1-score   support\n",
      "\n",
      "           0       1.00      1.00      1.00     93829\n",
      "           1       0.91      0.77      0.83       158\n",
      "\n",
      "    accuracy                           1.00     93987\n",
      "   macro avg       0.95      0.88      0.92     93987\n",
      "weighted avg       1.00      1.00      1.00     93987\n",
      "\n"
     ]
    }
   ],
   "source": [
    "# Predictions with DROPOUT\n",
    "print(classification_report(y_test,predictions))"
   ]
  },
  {
   "cell_type": "code",
   "execution_count": null,
   "id": "4cc14482",
   "metadata": {},
   "outputs": [],
   "source": []
  },
  {
   "cell_type": "code",
   "execution_count": 58,
   "id": "64fc9f8d",
   "metadata": {},
   "outputs": [
    {
     "name": "stdout",
     "output_type": "stream",
     "text": [
      "[[93817    12]\n",
      " [   37   121]]\n"
     ]
    }
   ],
   "source": [
    "print(confusion_matrix(y_test,predictions))"
   ]
  },
  {
   "cell_type": "code",
   "execution_count": null,
   "id": "26d9ec0e",
   "metadata": {},
   "outputs": [],
   "source": []
  },
  {
   "cell_type": "code",
   "execution_count": null,
   "id": "41db4acd",
   "metadata": {},
   "outputs": [],
   "source": []
  }
 ],
 "metadata": {
  "kernelspec": {
   "display_name": "Python 3 (ipykernel)",
   "language": "python",
   "name": "python3"
  },
  "language_info": {
   "codemirror_mode": {
    "name": "ipython",
    "version": 3
   },
   "file_extension": ".py",
   "mimetype": "text/x-python",
   "name": "python",
   "nbconvert_exporter": "python",
   "pygments_lexer": "ipython3",
   "version": "3.9.7"
  }
 },
 "nbformat": 4,
 "nbformat_minor": 5
}
