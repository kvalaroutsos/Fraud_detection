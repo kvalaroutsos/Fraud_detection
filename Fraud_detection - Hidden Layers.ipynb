{
 "cells": [
  {
   "cell_type": "code",
   "execution_count": 1,
   "id": "7fd53cb5",
   "metadata": {},
   "outputs": [],
   "source": [
    "#IMPORTING LIBRARIES\n",
    "import numpy as np\n",
    "import pandas as pd\n",
    "import matplotlib.pyplot as plt\n",
    "import seaborn as sns\n",
    "import warnings\n",
    "warnings.filterwarnings(\"ignore\")"
   ]
  },
  {
   "cell_type": "code",
   "execution_count": 2,
   "id": "6db120e9",
   "metadata": {},
   "outputs": [],
   "source": [
    "#INSERTING THE DATA\n",
    "df=pd.read_csv('creditcard.csv')\n"
   ]
  },
  {
   "cell_type": "code",
   "execution_count": 3,
   "id": "c98f74b7",
   "metadata": {},
   "outputs": [
    {
     "data": {
      "text/html": [
       "<div>\n",
       "<style scoped>\n",
       "    .dataframe tbody tr th:only-of-type {\n",
       "        vertical-align: middle;\n",
       "    }\n",
       "\n",
       "    .dataframe tbody tr th {\n",
       "        vertical-align: top;\n",
       "    }\n",
       "\n",
       "    .dataframe thead th {\n",
       "        text-align: right;\n",
       "    }\n",
       "</style>\n",
       "<table border=\"1\" class=\"dataframe\">\n",
       "  <thead>\n",
       "    <tr style=\"text-align: right;\">\n",
       "      <th></th>\n",
       "      <th>Time</th>\n",
       "      <th>V1</th>\n",
       "      <th>V2</th>\n",
       "      <th>V3</th>\n",
       "      <th>V4</th>\n",
       "      <th>V5</th>\n",
       "      <th>V6</th>\n",
       "      <th>V7</th>\n",
       "      <th>V8</th>\n",
       "      <th>V9</th>\n",
       "      <th>...</th>\n",
       "      <th>V21</th>\n",
       "      <th>V22</th>\n",
       "      <th>V23</th>\n",
       "      <th>V24</th>\n",
       "      <th>V25</th>\n",
       "      <th>V26</th>\n",
       "      <th>V27</th>\n",
       "      <th>V28</th>\n",
       "      <th>Amount</th>\n",
       "      <th>Class</th>\n",
       "    </tr>\n",
       "  </thead>\n",
       "  <tbody>\n",
       "    <tr>\n",
       "      <th>0</th>\n",
       "      <td>0.0</td>\n",
       "      <td>-1.359807</td>\n",
       "      <td>-0.072781</td>\n",
       "      <td>2.536347</td>\n",
       "      <td>1.378155</td>\n",
       "      <td>-0.338321</td>\n",
       "      <td>0.462388</td>\n",
       "      <td>0.239599</td>\n",
       "      <td>0.098698</td>\n",
       "      <td>0.363787</td>\n",
       "      <td>...</td>\n",
       "      <td>-0.018307</td>\n",
       "      <td>0.277838</td>\n",
       "      <td>-0.110474</td>\n",
       "      <td>0.066928</td>\n",
       "      <td>0.128539</td>\n",
       "      <td>-0.189115</td>\n",
       "      <td>0.133558</td>\n",
       "      <td>-0.021053</td>\n",
       "      <td>149.62</td>\n",
       "      <td>0</td>\n",
       "    </tr>\n",
       "    <tr>\n",
       "      <th>1</th>\n",
       "      <td>0.0</td>\n",
       "      <td>1.191857</td>\n",
       "      <td>0.266151</td>\n",
       "      <td>0.166480</td>\n",
       "      <td>0.448154</td>\n",
       "      <td>0.060018</td>\n",
       "      <td>-0.082361</td>\n",
       "      <td>-0.078803</td>\n",
       "      <td>0.085102</td>\n",
       "      <td>-0.255425</td>\n",
       "      <td>...</td>\n",
       "      <td>-0.225775</td>\n",
       "      <td>-0.638672</td>\n",
       "      <td>0.101288</td>\n",
       "      <td>-0.339846</td>\n",
       "      <td>0.167170</td>\n",
       "      <td>0.125895</td>\n",
       "      <td>-0.008983</td>\n",
       "      <td>0.014724</td>\n",
       "      <td>2.69</td>\n",
       "      <td>0</td>\n",
       "    </tr>\n",
       "    <tr>\n",
       "      <th>2</th>\n",
       "      <td>1.0</td>\n",
       "      <td>-1.358354</td>\n",
       "      <td>-1.340163</td>\n",
       "      <td>1.773209</td>\n",
       "      <td>0.379780</td>\n",
       "      <td>-0.503198</td>\n",
       "      <td>1.800499</td>\n",
       "      <td>0.791461</td>\n",
       "      <td>0.247676</td>\n",
       "      <td>-1.514654</td>\n",
       "      <td>...</td>\n",
       "      <td>0.247998</td>\n",
       "      <td>0.771679</td>\n",
       "      <td>0.909412</td>\n",
       "      <td>-0.689281</td>\n",
       "      <td>-0.327642</td>\n",
       "      <td>-0.139097</td>\n",
       "      <td>-0.055353</td>\n",
       "      <td>-0.059752</td>\n",
       "      <td>378.66</td>\n",
       "      <td>0</td>\n",
       "    </tr>\n",
       "    <tr>\n",
       "      <th>3</th>\n",
       "      <td>1.0</td>\n",
       "      <td>-0.966272</td>\n",
       "      <td>-0.185226</td>\n",
       "      <td>1.792993</td>\n",
       "      <td>-0.863291</td>\n",
       "      <td>-0.010309</td>\n",
       "      <td>1.247203</td>\n",
       "      <td>0.237609</td>\n",
       "      <td>0.377436</td>\n",
       "      <td>-1.387024</td>\n",
       "      <td>...</td>\n",
       "      <td>-0.108300</td>\n",
       "      <td>0.005274</td>\n",
       "      <td>-0.190321</td>\n",
       "      <td>-1.175575</td>\n",
       "      <td>0.647376</td>\n",
       "      <td>-0.221929</td>\n",
       "      <td>0.062723</td>\n",
       "      <td>0.061458</td>\n",
       "      <td>123.50</td>\n",
       "      <td>0</td>\n",
       "    </tr>\n",
       "    <tr>\n",
       "      <th>4</th>\n",
       "      <td>2.0</td>\n",
       "      <td>-1.158233</td>\n",
       "      <td>0.877737</td>\n",
       "      <td>1.548718</td>\n",
       "      <td>0.403034</td>\n",
       "      <td>-0.407193</td>\n",
       "      <td>0.095921</td>\n",
       "      <td>0.592941</td>\n",
       "      <td>-0.270533</td>\n",
       "      <td>0.817739</td>\n",
       "      <td>...</td>\n",
       "      <td>-0.009431</td>\n",
       "      <td>0.798278</td>\n",
       "      <td>-0.137458</td>\n",
       "      <td>0.141267</td>\n",
       "      <td>-0.206010</td>\n",
       "      <td>0.502292</td>\n",
       "      <td>0.219422</td>\n",
       "      <td>0.215153</td>\n",
       "      <td>69.99</td>\n",
       "      <td>0</td>\n",
       "    </tr>\n",
       "  </tbody>\n",
       "</table>\n",
       "<p>5 rows × 31 columns</p>\n",
       "</div>"
      ],
      "text/plain": [
       "   Time        V1        V2        V3        V4        V5        V6        V7  \\\n",
       "0   0.0 -1.359807 -0.072781  2.536347  1.378155 -0.338321  0.462388  0.239599   \n",
       "1   0.0  1.191857  0.266151  0.166480  0.448154  0.060018 -0.082361 -0.078803   \n",
       "2   1.0 -1.358354 -1.340163  1.773209  0.379780 -0.503198  1.800499  0.791461   \n",
       "3   1.0 -0.966272 -0.185226  1.792993 -0.863291 -0.010309  1.247203  0.237609   \n",
       "4   2.0 -1.158233  0.877737  1.548718  0.403034 -0.407193  0.095921  0.592941   \n",
       "\n",
       "         V8        V9  ...       V21       V22       V23       V24       V25  \\\n",
       "0  0.098698  0.363787  ... -0.018307  0.277838 -0.110474  0.066928  0.128539   \n",
       "1  0.085102 -0.255425  ... -0.225775 -0.638672  0.101288 -0.339846  0.167170   \n",
       "2  0.247676 -1.514654  ...  0.247998  0.771679  0.909412 -0.689281 -0.327642   \n",
       "3  0.377436 -1.387024  ... -0.108300  0.005274 -0.190321 -1.175575  0.647376   \n",
       "4 -0.270533  0.817739  ... -0.009431  0.798278 -0.137458  0.141267 -0.206010   \n",
       "\n",
       "        V26       V27       V28  Amount  Class  \n",
       "0 -0.189115  0.133558 -0.021053  149.62      0  \n",
       "1  0.125895 -0.008983  0.014724    2.69      0  \n",
       "2 -0.139097 -0.055353 -0.059752  378.66      0  \n",
       "3 -0.221929  0.062723  0.061458  123.50      0  \n",
       "4  0.502292  0.219422  0.215153   69.99      0  \n",
       "\n",
       "[5 rows x 31 columns]"
      ]
     },
     "execution_count": 3,
     "metadata": {},
     "output_type": "execute_result"
    }
   ],
   "source": [
    "df.head()"
   ]
  },
  {
   "cell_type": "code",
   "execution_count": 4,
   "id": "f7115269",
   "metadata": {},
   "outputs": [
    {
     "name": "stdout",
     "output_type": "stream",
     "text": [
      "<class 'pandas.core.frame.DataFrame'>\n",
      "RangeIndex: 284807 entries, 0 to 284806\n",
      "Data columns (total 31 columns):\n",
      " #   Column  Non-Null Count   Dtype  \n",
      "---  ------  --------------   -----  \n",
      " 0   Time    284807 non-null  float64\n",
      " 1   V1      284807 non-null  float64\n",
      " 2   V2      284807 non-null  float64\n",
      " 3   V3      284807 non-null  float64\n",
      " 4   V4      284807 non-null  float64\n",
      " 5   V5      284807 non-null  float64\n",
      " 6   V6      284807 non-null  float64\n",
      " 7   V7      284807 non-null  float64\n",
      " 8   V8      284807 non-null  float64\n",
      " 9   V9      284807 non-null  float64\n",
      " 10  V10     284807 non-null  float64\n",
      " 11  V11     284807 non-null  float64\n",
      " 12  V12     284807 non-null  float64\n",
      " 13  V13     284807 non-null  float64\n",
      " 14  V14     284807 non-null  float64\n",
      " 15  V15     284807 non-null  float64\n",
      " 16  V16     284807 non-null  float64\n",
      " 17  V17     284807 non-null  float64\n",
      " 18  V18     284807 non-null  float64\n",
      " 19  V19     284807 non-null  float64\n",
      " 20  V20     284807 non-null  float64\n",
      " 21  V21     284807 non-null  float64\n",
      " 22  V22     284807 non-null  float64\n",
      " 23  V23     284807 non-null  float64\n",
      " 24  V24     284807 non-null  float64\n",
      " 25  V25     284807 non-null  float64\n",
      " 26  V26     284807 non-null  float64\n",
      " 27  V27     284807 non-null  float64\n",
      " 28  V28     284807 non-null  float64\n",
      " 29  Amount  284807 non-null  float64\n",
      " 30  Class   284807 non-null  int64  \n",
      "dtypes: float64(30), int64(1)\n",
      "memory usage: 67.4 MB\n"
     ]
    }
   ],
   "source": [
    "df.info()"
   ]
  },
  {
   "cell_type": "code",
   "execution_count": 5,
   "id": "1007e53c",
   "metadata": {},
   "outputs": [
    {
     "data": {
      "text/plain": [
       "0    284315\n",
       "1       492\n",
       "Name: Class, dtype: int64"
      ]
     },
     "execution_count": 5,
     "metadata": {},
     "output_type": "execute_result"
    }
   ],
   "source": [
    "df['Class'].value_counts()\n",
    "#There are very few observations with class=1 so the dataset is imbalanced."
   ]
  },
  {
   "cell_type": "code",
   "execution_count": 6,
   "id": "4953bb20",
   "metadata": {},
   "outputs": [
    {
     "data": {
      "text/plain": [
       "0.001727485630620034"
      ]
     },
     "execution_count": 6,
     "metadata": {},
     "output_type": "execute_result"
    }
   ],
   "source": [
    "#The Fraud ratio in dataset is 0,17%\n",
    "492/(284315+492)"
   ]
  },
  {
   "cell_type": "code",
   "execution_count": 7,
   "id": "bc5e49f9",
   "metadata": {},
   "outputs": [
    {
     "data": {
      "text/html": [
       "<div>\n",
       "<style scoped>\n",
       "    .dataframe tbody tr th:only-of-type {\n",
       "        vertical-align: middle;\n",
       "    }\n",
       "\n",
       "    .dataframe tbody tr th {\n",
       "        vertical-align: top;\n",
       "    }\n",
       "\n",
       "    .dataframe thead th {\n",
       "        text-align: right;\n",
       "    }\n",
       "</style>\n",
       "<table border=\"1\" class=\"dataframe\">\n",
       "  <thead>\n",
       "    <tr style=\"text-align: right;\">\n",
       "      <th></th>\n",
       "      <th>Time</th>\n",
       "      <th>V1</th>\n",
       "      <th>V2</th>\n",
       "      <th>V3</th>\n",
       "      <th>V4</th>\n",
       "      <th>V5</th>\n",
       "      <th>V6</th>\n",
       "      <th>V7</th>\n",
       "      <th>V8</th>\n",
       "      <th>V9</th>\n",
       "      <th>...</th>\n",
       "      <th>V21</th>\n",
       "      <th>V22</th>\n",
       "      <th>V23</th>\n",
       "      <th>V24</th>\n",
       "      <th>V25</th>\n",
       "      <th>V26</th>\n",
       "      <th>V27</th>\n",
       "      <th>V28</th>\n",
       "      <th>Amount</th>\n",
       "      <th>Class</th>\n",
       "    </tr>\n",
       "  </thead>\n",
       "  <tbody>\n",
       "    <tr>\n",
       "      <th>count</th>\n",
       "      <td>284807.000000</td>\n",
       "      <td>2.848070e+05</td>\n",
       "      <td>2.848070e+05</td>\n",
       "      <td>2.848070e+05</td>\n",
       "      <td>2.848070e+05</td>\n",
       "      <td>2.848070e+05</td>\n",
       "      <td>2.848070e+05</td>\n",
       "      <td>2.848070e+05</td>\n",
       "      <td>2.848070e+05</td>\n",
       "      <td>2.848070e+05</td>\n",
       "      <td>...</td>\n",
       "      <td>2.848070e+05</td>\n",
       "      <td>2.848070e+05</td>\n",
       "      <td>2.848070e+05</td>\n",
       "      <td>2.848070e+05</td>\n",
       "      <td>2.848070e+05</td>\n",
       "      <td>2.848070e+05</td>\n",
       "      <td>2.848070e+05</td>\n",
       "      <td>2.848070e+05</td>\n",
       "      <td>284807.000000</td>\n",
       "      <td>284807.000000</td>\n",
       "    </tr>\n",
       "    <tr>\n",
       "      <th>mean</th>\n",
       "      <td>94813.859575</td>\n",
       "      <td>1.168375e-15</td>\n",
       "      <td>3.416908e-16</td>\n",
       "      <td>-1.379537e-15</td>\n",
       "      <td>2.074095e-15</td>\n",
       "      <td>9.604066e-16</td>\n",
       "      <td>1.487313e-15</td>\n",
       "      <td>-5.556467e-16</td>\n",
       "      <td>1.213481e-16</td>\n",
       "      <td>-2.406331e-15</td>\n",
       "      <td>...</td>\n",
       "      <td>1.654067e-16</td>\n",
       "      <td>-3.568593e-16</td>\n",
       "      <td>2.578648e-16</td>\n",
       "      <td>4.473266e-15</td>\n",
       "      <td>5.340915e-16</td>\n",
       "      <td>1.683437e-15</td>\n",
       "      <td>-3.660091e-16</td>\n",
       "      <td>-1.227390e-16</td>\n",
       "      <td>88.349619</td>\n",
       "      <td>0.001727</td>\n",
       "    </tr>\n",
       "    <tr>\n",
       "      <th>std</th>\n",
       "      <td>47488.145955</td>\n",
       "      <td>1.958696e+00</td>\n",
       "      <td>1.651309e+00</td>\n",
       "      <td>1.516255e+00</td>\n",
       "      <td>1.415869e+00</td>\n",
       "      <td>1.380247e+00</td>\n",
       "      <td>1.332271e+00</td>\n",
       "      <td>1.237094e+00</td>\n",
       "      <td>1.194353e+00</td>\n",
       "      <td>1.098632e+00</td>\n",
       "      <td>...</td>\n",
       "      <td>7.345240e-01</td>\n",
       "      <td>7.257016e-01</td>\n",
       "      <td>6.244603e-01</td>\n",
       "      <td>6.056471e-01</td>\n",
       "      <td>5.212781e-01</td>\n",
       "      <td>4.822270e-01</td>\n",
       "      <td>4.036325e-01</td>\n",
       "      <td>3.300833e-01</td>\n",
       "      <td>250.120109</td>\n",
       "      <td>0.041527</td>\n",
       "    </tr>\n",
       "    <tr>\n",
       "      <th>min</th>\n",
       "      <td>0.000000</td>\n",
       "      <td>-5.640751e+01</td>\n",
       "      <td>-7.271573e+01</td>\n",
       "      <td>-4.832559e+01</td>\n",
       "      <td>-5.683171e+00</td>\n",
       "      <td>-1.137433e+02</td>\n",
       "      <td>-2.616051e+01</td>\n",
       "      <td>-4.355724e+01</td>\n",
       "      <td>-7.321672e+01</td>\n",
       "      <td>-1.343407e+01</td>\n",
       "      <td>...</td>\n",
       "      <td>-3.483038e+01</td>\n",
       "      <td>-1.093314e+01</td>\n",
       "      <td>-4.480774e+01</td>\n",
       "      <td>-2.836627e+00</td>\n",
       "      <td>-1.029540e+01</td>\n",
       "      <td>-2.604551e+00</td>\n",
       "      <td>-2.256568e+01</td>\n",
       "      <td>-1.543008e+01</td>\n",
       "      <td>0.000000</td>\n",
       "      <td>0.000000</td>\n",
       "    </tr>\n",
       "    <tr>\n",
       "      <th>25%</th>\n",
       "      <td>54201.500000</td>\n",
       "      <td>-9.203734e-01</td>\n",
       "      <td>-5.985499e-01</td>\n",
       "      <td>-8.903648e-01</td>\n",
       "      <td>-8.486401e-01</td>\n",
       "      <td>-6.915971e-01</td>\n",
       "      <td>-7.682956e-01</td>\n",
       "      <td>-5.540759e-01</td>\n",
       "      <td>-2.086297e-01</td>\n",
       "      <td>-6.430976e-01</td>\n",
       "      <td>...</td>\n",
       "      <td>-2.283949e-01</td>\n",
       "      <td>-5.423504e-01</td>\n",
       "      <td>-1.618463e-01</td>\n",
       "      <td>-3.545861e-01</td>\n",
       "      <td>-3.171451e-01</td>\n",
       "      <td>-3.269839e-01</td>\n",
       "      <td>-7.083953e-02</td>\n",
       "      <td>-5.295979e-02</td>\n",
       "      <td>5.600000</td>\n",
       "      <td>0.000000</td>\n",
       "    </tr>\n",
       "    <tr>\n",
       "      <th>50%</th>\n",
       "      <td>84692.000000</td>\n",
       "      <td>1.810880e-02</td>\n",
       "      <td>6.548556e-02</td>\n",
       "      <td>1.798463e-01</td>\n",
       "      <td>-1.984653e-02</td>\n",
       "      <td>-5.433583e-02</td>\n",
       "      <td>-2.741871e-01</td>\n",
       "      <td>4.010308e-02</td>\n",
       "      <td>2.235804e-02</td>\n",
       "      <td>-5.142873e-02</td>\n",
       "      <td>...</td>\n",
       "      <td>-2.945017e-02</td>\n",
       "      <td>6.781943e-03</td>\n",
       "      <td>-1.119293e-02</td>\n",
       "      <td>4.097606e-02</td>\n",
       "      <td>1.659350e-02</td>\n",
       "      <td>-5.213911e-02</td>\n",
       "      <td>1.342146e-03</td>\n",
       "      <td>1.124383e-02</td>\n",
       "      <td>22.000000</td>\n",
       "      <td>0.000000</td>\n",
       "    </tr>\n",
       "    <tr>\n",
       "      <th>75%</th>\n",
       "      <td>139320.500000</td>\n",
       "      <td>1.315642e+00</td>\n",
       "      <td>8.037239e-01</td>\n",
       "      <td>1.027196e+00</td>\n",
       "      <td>7.433413e-01</td>\n",
       "      <td>6.119264e-01</td>\n",
       "      <td>3.985649e-01</td>\n",
       "      <td>5.704361e-01</td>\n",
       "      <td>3.273459e-01</td>\n",
       "      <td>5.971390e-01</td>\n",
       "      <td>...</td>\n",
       "      <td>1.863772e-01</td>\n",
       "      <td>5.285536e-01</td>\n",
       "      <td>1.476421e-01</td>\n",
       "      <td>4.395266e-01</td>\n",
       "      <td>3.507156e-01</td>\n",
       "      <td>2.409522e-01</td>\n",
       "      <td>9.104512e-02</td>\n",
       "      <td>7.827995e-02</td>\n",
       "      <td>77.165000</td>\n",
       "      <td>0.000000</td>\n",
       "    </tr>\n",
       "    <tr>\n",
       "      <th>max</th>\n",
       "      <td>172792.000000</td>\n",
       "      <td>2.454930e+00</td>\n",
       "      <td>2.205773e+01</td>\n",
       "      <td>9.382558e+00</td>\n",
       "      <td>1.687534e+01</td>\n",
       "      <td>3.480167e+01</td>\n",
       "      <td>7.330163e+01</td>\n",
       "      <td>1.205895e+02</td>\n",
       "      <td>2.000721e+01</td>\n",
       "      <td>1.559499e+01</td>\n",
       "      <td>...</td>\n",
       "      <td>2.720284e+01</td>\n",
       "      <td>1.050309e+01</td>\n",
       "      <td>2.252841e+01</td>\n",
       "      <td>4.584549e+00</td>\n",
       "      <td>7.519589e+00</td>\n",
       "      <td>3.517346e+00</td>\n",
       "      <td>3.161220e+01</td>\n",
       "      <td>3.384781e+01</td>\n",
       "      <td>25691.160000</td>\n",
       "      <td>1.000000</td>\n",
       "    </tr>\n",
       "  </tbody>\n",
       "</table>\n",
       "<p>8 rows × 31 columns</p>\n",
       "</div>"
      ],
      "text/plain": [
       "                Time            V1            V2            V3            V4  \\\n",
       "count  284807.000000  2.848070e+05  2.848070e+05  2.848070e+05  2.848070e+05   \n",
       "mean    94813.859575  1.168375e-15  3.416908e-16 -1.379537e-15  2.074095e-15   \n",
       "std     47488.145955  1.958696e+00  1.651309e+00  1.516255e+00  1.415869e+00   \n",
       "min         0.000000 -5.640751e+01 -7.271573e+01 -4.832559e+01 -5.683171e+00   \n",
       "25%     54201.500000 -9.203734e-01 -5.985499e-01 -8.903648e-01 -8.486401e-01   \n",
       "50%     84692.000000  1.810880e-02  6.548556e-02  1.798463e-01 -1.984653e-02   \n",
       "75%    139320.500000  1.315642e+00  8.037239e-01  1.027196e+00  7.433413e-01   \n",
       "max    172792.000000  2.454930e+00  2.205773e+01  9.382558e+00  1.687534e+01   \n",
       "\n",
       "                 V5            V6            V7            V8            V9  \\\n",
       "count  2.848070e+05  2.848070e+05  2.848070e+05  2.848070e+05  2.848070e+05   \n",
       "mean   9.604066e-16  1.487313e-15 -5.556467e-16  1.213481e-16 -2.406331e-15   \n",
       "std    1.380247e+00  1.332271e+00  1.237094e+00  1.194353e+00  1.098632e+00   \n",
       "min   -1.137433e+02 -2.616051e+01 -4.355724e+01 -7.321672e+01 -1.343407e+01   \n",
       "25%   -6.915971e-01 -7.682956e-01 -5.540759e-01 -2.086297e-01 -6.430976e-01   \n",
       "50%   -5.433583e-02 -2.741871e-01  4.010308e-02  2.235804e-02 -5.142873e-02   \n",
       "75%    6.119264e-01  3.985649e-01  5.704361e-01  3.273459e-01  5.971390e-01   \n",
       "max    3.480167e+01  7.330163e+01  1.205895e+02  2.000721e+01  1.559499e+01   \n",
       "\n",
       "       ...           V21           V22           V23           V24  \\\n",
       "count  ...  2.848070e+05  2.848070e+05  2.848070e+05  2.848070e+05   \n",
       "mean   ...  1.654067e-16 -3.568593e-16  2.578648e-16  4.473266e-15   \n",
       "std    ...  7.345240e-01  7.257016e-01  6.244603e-01  6.056471e-01   \n",
       "min    ... -3.483038e+01 -1.093314e+01 -4.480774e+01 -2.836627e+00   \n",
       "25%    ... -2.283949e-01 -5.423504e-01 -1.618463e-01 -3.545861e-01   \n",
       "50%    ... -2.945017e-02  6.781943e-03 -1.119293e-02  4.097606e-02   \n",
       "75%    ...  1.863772e-01  5.285536e-01  1.476421e-01  4.395266e-01   \n",
       "max    ...  2.720284e+01  1.050309e+01  2.252841e+01  4.584549e+00   \n",
       "\n",
       "                V25           V26           V27           V28         Amount  \\\n",
       "count  2.848070e+05  2.848070e+05  2.848070e+05  2.848070e+05  284807.000000   \n",
       "mean   5.340915e-16  1.683437e-15 -3.660091e-16 -1.227390e-16      88.349619   \n",
       "std    5.212781e-01  4.822270e-01  4.036325e-01  3.300833e-01     250.120109   \n",
       "min   -1.029540e+01 -2.604551e+00 -2.256568e+01 -1.543008e+01       0.000000   \n",
       "25%   -3.171451e-01 -3.269839e-01 -7.083953e-02 -5.295979e-02       5.600000   \n",
       "50%    1.659350e-02 -5.213911e-02  1.342146e-03  1.124383e-02      22.000000   \n",
       "75%    3.507156e-01  2.409522e-01  9.104512e-02  7.827995e-02      77.165000   \n",
       "max    7.519589e+00  3.517346e+00  3.161220e+01  3.384781e+01   25691.160000   \n",
       "\n",
       "               Class  \n",
       "count  284807.000000  \n",
       "mean        0.001727  \n",
       "std         0.041527  \n",
       "min         0.000000  \n",
       "25%         0.000000  \n",
       "50%         0.000000  \n",
       "75%         0.000000  \n",
       "max         1.000000  \n",
       "\n",
       "[8 rows x 31 columns]"
      ]
     },
     "execution_count": 7,
     "metadata": {},
     "output_type": "execute_result"
    }
   ],
   "source": [
    "df.describe()\n",
    "# Values are standardized, except Time and Amount feature."
   ]
  },
  {
   "cell_type": "markdown",
   "id": "b07bd9c5",
   "metadata": {},
   "source": [
    "## Some plots of the features "
   ]
  },
  {
   "cell_type": "code",
   "execution_count": 8,
   "id": "3cd3482e",
   "metadata": {},
   "outputs": [
    {
     "data": {
      "text/plain": [
       "<AxesSubplot:xlabel='V10', ylabel='Density'>"
      ]
     },
     "execution_count": 8,
     "metadata": {},
     "output_type": "execute_result"
    },
    {
     "data": {
      "image/png": "[encoded data removed]",
      "text/plain": [
       "<Figure size 432x288 with 1 Axes>"
      ]
     },
     "metadata": {
      "needs_background": "light"
     },
     "output_type": "display_data"
    }
   ],
   "source": [
    "sns.distplot(df['V10'])"
   ]
  },
  {
   "cell_type": "code",
   "execution_count": 9,
   "id": "2cb037e9",
   "metadata": {},
   "outputs": [
    {
     "data": {
      "text/plain": [
       "<AxesSubplot:>"
      ]
     },
     "execution_count": 9,
     "metadata": {},
     "output_type": "execute_result"
    },
    {
     "data": {
      "image/png": "[encoded data removed]",
      "text/plain": [
       "<Figure size 432x288 with 1 Axes>"
      ]
     },
     "metadata": {
      "needs_background": "light"
     },
     "output_type": "display_data"
    }
   ],
   "source": [
    "df['Time'].plot()"
   ]
  },
  {
   "cell_type": "code",
   "execution_count": 10,
   "id": "e9f5dc84",
   "metadata": {},
   "outputs": [
    {
     "data": {
      "text/plain": [
       "<AxesSubplot:xlabel='Class', ylabel='count'>"
      ]
     },
     "execution_count": 10,
     "metadata": {},
     "output_type": "execute_result"
    },
    {
     "data": {
      "image/png": "[encoded data removed]",
      "text/plain": [
       "<Figure size 432x288 with 1 Axes>"
      ]
     },
     "metadata": {
      "needs_background": "light"
     },
     "output_type": "display_data"
    }
   ],
   "source": [
    "sns.countplot('Class',data=df)"
   ]
  },
  {
   "cell_type": "code",
   "execution_count": 11,
   "id": "43aea4e3",
   "metadata": {},
   "outputs": [
    {
     "data": {
      "text/plain": [
       "<AxesSubplot:xlabel='Class', ylabel='Time'>"
      ]
     },
     "execution_count": 11,
     "metadata": {},
     "output_type": "execute_result"
    },
    {
     "data": {
      "image/png": "[encoded data removed]",
      "text/plain": [
       "<Figure size 432x288 with 1 Axes>"
      ]
     },
     "metadata": {
      "needs_background": "light"
     },
     "output_type": "display_data"
    }
   ],
   "source": [
    "sns.boxplot(x='Class',y='Time',data=df)"
   ]
  },
  {
   "cell_type": "markdown",
   "id": "e930c3e8",
   "metadata": {},
   "source": [
    "## Estimation of the correlation of features with target class"
   ]
  },
  {
   "cell_type": "code",
   "execution_count": 12,
   "id": "1c6ece1a",
   "metadata": {},
   "outputs": [],
   "source": [
    "correlations=df.corr()['Class'].sort_values(ascending=True)"
   ]
  },
  {
   "cell_type": "code",
   "execution_count": 13,
   "id": "555f0e46",
   "metadata": {},
   "outputs": [
    {
     "data": {
      "text/plain": [
       "V17      -0.326481\n",
       "V14      -0.302544\n",
       "V12      -0.260593\n",
       "V10      -0.216883\n",
       "V16      -0.196539\n",
       "V3       -0.192961\n",
       "V7       -0.187257\n",
       "V18      -0.111485\n",
       "V1       -0.101347\n",
       "V9       -0.097733\n",
       "V5       -0.094974\n",
       "V6       -0.043643\n",
       "Time     -0.012323\n",
       "V24      -0.007221\n",
       "V13      -0.004570\n",
       "V15      -0.004223\n",
       "V23      -0.002685\n",
       "V22       0.000805\n",
       "V25       0.003308\n",
       "V26       0.004455\n",
       "Amount    0.005632\n",
       "V28       0.009536\n",
       "V27       0.017580\n",
       "V8        0.019875\n",
       "V20       0.020090\n",
       "V19       0.034783\n",
       "V21       0.040413\n",
       "V2        0.091289\n",
       "V4        0.133447\n",
       "V11       0.154876\n",
       "Class     1.000000\n",
       "Name: Class, dtype: float64"
      ]
     },
     "execution_count": 13,
     "metadata": {},
     "output_type": "execute_result"
    }
   ],
   "source": [
    "correlations"
   ]
  },
  {
   "cell_type": "markdown",
   "id": "200d0884",
   "metadata": {},
   "source": [
    "## Try to drop features with less than 1% correrlation with the target class"
   ]
  },
  {
   "cell_type": "code",
   "execution_count": 14,
   "id": "7d073392",
   "metadata": {},
   "outputs": [
    {
     "data": {
      "text/plain": [
       "V24      -0.007221\n",
       "V13      -0.004570\n",
       "V15      -0.004223\n",
       "V23      -0.002685\n",
       "V22       0.000805\n",
       "V25       0.003308\n",
       "V26       0.004455\n",
       "Amount    0.005632\n",
       "V28       0.009536\n",
       "Name: Class, dtype: float64"
      ]
     },
     "execution_count": 14,
     "metadata": {},
     "output_type": "execute_result"
    }
   ],
   "source": [
    "correlations[np.abs(correlations)<0.01]"
   ]
  },
  {
   "cell_type": "markdown",
   "id": "04f989c5",
   "metadata": {},
   "source": [
    "### I made a list with features with lesser impact in target class from this list the Amount feature is excluded due to its importance in interpetabillity of the model."
   ]
  },
  {
   "cell_type": "code",
   "execution_count": 15,
   "id": "8d363a70",
   "metadata": {},
   "outputs": [],
   "source": [
    "less_than_1_per=correlations[np.abs(correlations)<0.01].index\n",
    "less_than_1_per=list(less_than_1_per)\n",
    "less_than_1_per.remove('Amount')\n"
   ]
  },
  {
   "cell_type": "code",
   "execution_count": 16,
   "id": "a0465231",
   "metadata": {},
   "outputs": [
    {
     "data": {
      "text/plain": [
       "<AxesSubplot:xlabel='Amount', ylabel='Density'>"
      ]
     },
     "execution_count": 16,
     "metadata": {},
     "output_type": "execute_result"
    },
    {
     "data": {
      "image/png": "[encoded data removed]",
      "text/plain": [
       "<Figure size 432x288 with 1 Axes>"
      ]
     },
     "metadata": {
      "needs_background": "light"
     },
     "output_type": "display_data"
    }
   ],
   "source": [
    "sns.distplot(df['Amount'])\n",
    "# Seems that there are some outliers that distort the distribution i will examine if an extraordinary amount is a trait for Fraud detection"
   ]
  },
  {
   "cell_type": "code",
   "execution_count": 17,
   "id": "506797d5",
   "metadata": {},
   "outputs": [],
   "source": [
    "non_top_1_percent=df.sort_values('Amount',ascending=False).iloc[2843:]"
   ]
  },
  {
   "cell_type": "code",
   "execution_count": 18,
   "id": "31b1a532",
   "metadata": {},
   "outputs": [],
   "source": [
    "top_1_percent=df.sort_values('Amount',ascending=False).iloc[:2843]"
   ]
  },
  {
   "cell_type": "code",
   "execution_count": 19,
   "id": "92afe770",
   "metadata": {},
   "outputs": [
    {
     "data": {
      "text/html": [
       "<div>\n",
       "<style scoped>\n",
       "    .dataframe tbody tr th:only-of-type {\n",
       "        vertical-align: middle;\n",
       "    }\n",
       "\n",
       "    .dataframe tbody tr th {\n",
       "        vertical-align: top;\n",
       "    }\n",
       "\n",
       "    .dataframe thead th {\n",
       "        text-align: right;\n",
       "    }\n",
       "</style>\n",
       "<table border=\"1\" class=\"dataframe\">\n",
       "  <thead>\n",
       "    <tr style=\"text-align: right;\">\n",
       "      <th></th>\n",
       "      <th>Time</th>\n",
       "      <th>V1</th>\n",
       "      <th>V2</th>\n",
       "      <th>V3</th>\n",
       "      <th>V4</th>\n",
       "      <th>V5</th>\n",
       "      <th>V6</th>\n",
       "      <th>V7</th>\n",
       "      <th>V8</th>\n",
       "      <th>V9</th>\n",
       "      <th>...</th>\n",
       "      <th>V21</th>\n",
       "      <th>V22</th>\n",
       "      <th>V23</th>\n",
       "      <th>V24</th>\n",
       "      <th>V25</th>\n",
       "      <th>V26</th>\n",
       "      <th>V27</th>\n",
       "      <th>V28</th>\n",
       "      <th>Amount</th>\n",
       "      <th>Class</th>\n",
       "    </tr>\n",
       "  </thead>\n",
       "  <tbody>\n",
       "    <tr>\n",
       "      <th>201254</th>\n",
       "      <td>133798.0</td>\n",
       "      <td>-4.007587</td>\n",
       "      <td>-2.548032</td>\n",
       "      <td>-2.087865</td>\n",
       "      <td>0.713848</td>\n",
       "      <td>0.607723</td>\n",
       "      <td>0.249243</td>\n",
       "      <td>3.477859</td>\n",
       "      <td>-1.332341</td>\n",
       "      <td>-0.796800</td>\n",
       "      <td>...</td>\n",
       "      <td>-0.624721</td>\n",
       "      <td>0.878300</td>\n",
       "      <td>-2.499900</td>\n",
       "      <td>0.625306</td>\n",
       "      <td>1.237302</td>\n",
       "      <td>0.487553</td>\n",
       "      <td>1.437565</td>\n",
       "      <td>-0.804277</td>\n",
       "      <td>1018.92</td>\n",
       "      <td>0</td>\n",
       "    </tr>\n",
       "    <tr>\n",
       "      <th>41524</th>\n",
       "      <td>40720.0</td>\n",
       "      <td>-0.632450</td>\n",
       "      <td>-3.852757</td>\n",
       "      <td>-0.991574</td>\n",
       "      <td>-0.060709</td>\n",
       "      <td>-1.842309</td>\n",
       "      <td>-0.104187</td>\n",
       "      <td>0.897556</td>\n",
       "      <td>-0.291651</td>\n",
       "      <td>-1.116460</td>\n",
       "      <td>...</td>\n",
       "      <td>0.239675</td>\n",
       "      <td>-1.015353</td>\n",
       "      <td>-0.835305</td>\n",
       "      <td>0.339910</td>\n",
       "      <td>-0.156074</td>\n",
       "      <td>1.364999</td>\n",
       "      <td>-0.277015</td>\n",
       "      <td>0.156310</td>\n",
       "      <td>1018.56</td>\n",
       "      <td>0</td>\n",
       "    </tr>\n",
       "    <tr>\n",
       "      <th>147864</th>\n",
       "      <td>89090.0</td>\n",
       "      <td>-3.810758</td>\n",
       "      <td>-5.669052</td>\n",
       "      <td>-0.084135</td>\n",
       "      <td>0.939464</td>\n",
       "      <td>0.158454</td>\n",
       "      <td>-0.463210</td>\n",
       "      <td>1.679570</td>\n",
       "      <td>-0.074844</td>\n",
       "      <td>0.376615</td>\n",
       "      <td>...</td>\n",
       "      <td>1.165832</td>\n",
       "      <td>0.869702</td>\n",
       "      <td>2.808006</td>\n",
       "      <td>-0.484611</td>\n",
       "      <td>-0.340199</td>\n",
       "      <td>-0.351239</td>\n",
       "      <td>-0.377263</td>\n",
       "      <td>0.130733</td>\n",
       "      <td>1018.43</td>\n",
       "      <td>0</td>\n",
       "    </tr>\n",
       "    <tr>\n",
       "      <th>212156</th>\n",
       "      <td>138740.0</td>\n",
       "      <td>0.151725</td>\n",
       "      <td>-3.706082</td>\n",
       "      <td>-3.695211</td>\n",
       "      <td>0.053871</td>\n",
       "      <td>0.059866</td>\n",
       "      <td>0.612137</td>\n",
       "      <td>1.629445</td>\n",
       "      <td>-0.396961</td>\n",
       "      <td>-1.644184</td>\n",
       "      <td>...</td>\n",
       "      <td>0.632243</td>\n",
       "      <td>0.295981</td>\n",
       "      <td>-0.954899</td>\n",
       "      <td>-1.267431</td>\n",
       "      <td>-0.053260</td>\n",
       "      <td>1.010230</td>\n",
       "      <td>-0.257989</td>\n",
       "      <td>0.060308</td>\n",
       "      <td>1018.12</td>\n",
       "      <td>0</td>\n",
       "    </tr>\n",
       "    <tr>\n",
       "      <th>116603</th>\n",
       "      <td>74352.0</td>\n",
       "      <td>-0.546840</td>\n",
       "      <td>-3.574421</td>\n",
       "      <td>-1.010817</td>\n",
       "      <td>0.361947</td>\n",
       "      <td>-1.790978</td>\n",
       "      <td>-0.670527</td>\n",
       "      <td>1.201988</td>\n",
       "      <td>-0.628334</td>\n",
       "      <td>-1.104386</td>\n",
       "      <td>...</td>\n",
       "      <td>0.177554</td>\n",
       "      <td>-1.119236</td>\n",
       "      <td>-0.910621</td>\n",
       "      <td>0.530796</td>\n",
       "      <td>0.104126</td>\n",
       "      <td>0.979523</td>\n",
       "      <td>-0.251801</td>\n",
       "      <td>0.176773</td>\n",
       "      <td>1018.00</td>\n",
       "      <td>0</td>\n",
       "    </tr>\n",
       "  </tbody>\n",
       "</table>\n",
       "<p>5 rows × 31 columns</p>\n",
       "</div>"
      ],
      "text/plain": [
       "            Time        V1        V2        V3        V4        V5        V6  \\\n",
       "201254  133798.0 -4.007587 -2.548032 -2.087865  0.713848  0.607723  0.249243   \n",
       "41524    40720.0 -0.632450 -3.852757 -0.991574 -0.060709 -1.842309 -0.104187   \n",
       "147864   89090.0 -3.810758 -5.669052 -0.084135  0.939464  0.158454 -0.463210   \n",
       "212156  138740.0  0.151725 -3.706082 -3.695211  0.053871  0.059866  0.612137   \n",
       "116603   74352.0 -0.546840 -3.574421 -1.010817  0.361947 -1.790978 -0.670527   \n",
       "\n",
       "              V7        V8        V9  ...       V21       V22       V23  \\\n",
       "201254  3.477859 -1.332341 -0.796800  ... -0.624721  0.878300 -2.499900   \n",
       "41524   0.897556 -0.291651 -1.116460  ...  0.239675 -1.015353 -0.835305   \n",
       "147864  1.679570 -0.074844  0.376615  ...  1.165832  0.869702  2.808006   \n",
       "212156  1.629445 -0.396961 -1.644184  ...  0.632243  0.295981 -0.954899   \n",
       "116603  1.201988 -0.628334 -1.104386  ...  0.177554 -1.119236 -0.910621   \n",
       "\n",
       "             V24       V25       V26       V27       V28   Amount  Class  \n",
       "201254  0.625306  1.237302  0.487553  1.437565 -0.804277  1018.92      0  \n",
       "41524   0.339910 -0.156074  1.364999 -0.277015  0.156310  1018.56      0  \n",
       "147864 -0.484611 -0.340199 -0.351239 -0.377263  0.130733  1018.43      0  \n",
       "212156 -1.267431 -0.053260  1.010230 -0.257989  0.060308  1018.12      0  \n",
       "116603  0.530796  0.104126  0.979523 -0.251801  0.176773  1018.00      0  \n",
       "\n",
       "[5 rows x 31 columns]"
      ]
     },
     "execution_count": 19,
     "metadata": {},
     "output_type": "execute_result"
    }
   ],
   "source": [
    "non_top_1_percent.head()"
   ]
  },
  {
   "cell_type": "code",
   "execution_count": 20,
   "id": "1c0e14d1",
   "metadata": {},
   "outputs": [
    {
     "data": {
      "text/plain": [
       "<AxesSubplot:xlabel='Amount', ylabel='Density'>"
      ]
     },
     "execution_count": 20,
     "metadata": {},
     "output_type": "execute_result"
    },
    {
     "data": {
      "image/png": "[encoded data removed]",
      "text/plain": [
       "<Figure size 432x288 with 1 Axes>"
      ]
     },
     "metadata": {
      "needs_background": "light"
     },
     "output_type": "display_data"
    }
   ],
   "source": [
    "sns.distplot(top_1_percent['Amount'])"
   ]
  },
  {
   "cell_type": "code",
   "execution_count": 21,
   "id": "0e7134cf",
   "metadata": {},
   "outputs": [
    {
     "data": {
      "text/plain": [
       "0    2834\n",
       "1       9\n",
       "Name: Class, dtype: int64"
      ]
     },
     "execution_count": 21,
     "metadata": {},
     "output_type": "execute_result"
    }
   ],
   "source": [
    "top_1_percent['Class'].value_counts()"
   ]
  },
  {
   "cell_type": "code",
   "execution_count": 22,
   "id": "c938a2fa",
   "metadata": {},
   "outputs": [
    {
     "data": {
      "text/plain": [
       "0.0031656700668308124"
      ]
     },
     "execution_count": 22,
     "metadata": {},
     "output_type": "execute_result"
    }
   ],
   "source": [
    "# There is a greater possibillity greater than 50% to detect a fraud in top 1% transections 0,31% while in whole dataset is 0,17%\n",
    "9/(2834+9)"
   ]
  },
  {
   "cell_type": "code",
   "execution_count": 23,
   "id": "4d9a02ee",
   "metadata": {},
   "outputs": [
    {
     "data": {
      "text/plain": [
       "<AxesSubplot:xlabel='Amount', ylabel='Density'>"
      ]
     },
     "execution_count": 23,
     "metadata": {},
     "output_type": "execute_result"
    },
    {
     "data": {
      "image/png": "[encoded data removed]",
      "text/plain": [
       "<Figure size 432x288 with 1 Axes>"
      ]
     },
     "metadata": {
      "needs_background": "light"
     },
     "output_type": "display_data"
    }
   ],
   "source": [
    "sns.distplot(non_top_1_percent['Amount'])"
   ]
  },
  {
   "cell_type": "code",
   "execution_count": 24,
   "id": "c9e36118",
   "metadata": {},
   "outputs": [
    {
     "data": {
      "text/plain": [
       "0    281481\n",
       "1       483\n",
       "Name: Class, dtype: int64"
      ]
     },
     "execution_count": 24,
     "metadata": {},
     "output_type": "execute_result"
    }
   ],
   "source": [
    "non_top_1_percent['Class'].value_counts()"
   ]
  },
  {
   "cell_type": "code",
   "execution_count": 25,
   "id": "c8d4ff3f",
   "metadata": {},
   "outputs": [
    {
     "name": "stdout",
     "output_type": "stream",
     "text": [
      "The fraud percentage is 0.0017129967868010584\n"
     ]
    }
   ],
   "source": [
    "print(f'The fraud percentage is {483/(281481+481)}')"
   ]
  },
  {
   "cell_type": "markdown",
   "id": "3d80e878",
   "metadata": {},
   "source": [
    "## Creation of Input and output data"
   ]
  },
  {
   "cell_type": "code",
   "execution_count": 26,
   "id": "7a43f6ce",
   "metadata": {},
   "outputs": [],
   "source": [
    "X=df.drop(['Class','Time'],axis=1)"
   ]
  },
  {
   "cell_type": "code",
   "execution_count": 27,
   "id": "03783a45",
   "metadata": {},
   "outputs": [
    {
     "data": {
      "text/html": [
       "<div>\n",
       "<style scoped>\n",
       "    .dataframe tbody tr th:only-of-type {\n",
       "        vertical-align: middle;\n",
       "    }\n",
       "\n",
       "    .dataframe tbody tr th {\n",
       "        vertical-align: top;\n",
       "    }\n",
       "\n",
       "    .dataframe thead th {\n",
       "        text-align: right;\n",
       "    }\n",
       "</style>\n",
       "<table border=\"1\" class=\"dataframe\">\n",
       "  <thead>\n",
       "    <tr style=\"text-align: right;\">\n",
       "      <th></th>\n",
       "      <th>V1</th>\n",
       "      <th>V2</th>\n",
       "      <th>V3</th>\n",
       "      <th>V4</th>\n",
       "      <th>V5</th>\n",
       "      <th>V6</th>\n",
       "      <th>V7</th>\n",
       "      <th>V8</th>\n",
       "      <th>V9</th>\n",
       "      <th>V10</th>\n",
       "      <th>...</th>\n",
       "      <th>V20</th>\n",
       "      <th>V21</th>\n",
       "      <th>V22</th>\n",
       "      <th>V23</th>\n",
       "      <th>V24</th>\n",
       "      <th>V25</th>\n",
       "      <th>V26</th>\n",
       "      <th>V27</th>\n",
       "      <th>V28</th>\n",
       "      <th>Amount</th>\n",
       "    </tr>\n",
       "  </thead>\n",
       "  <tbody>\n",
       "    <tr>\n",
       "      <th>0</th>\n",
       "      <td>-1.359807</td>\n",
       "      <td>-0.072781</td>\n",
       "      <td>2.536347</td>\n",
       "      <td>1.378155</td>\n",
       "      <td>-0.338321</td>\n",
       "      <td>0.462388</td>\n",
       "      <td>0.239599</td>\n",
       "      <td>0.098698</td>\n",
       "      <td>0.363787</td>\n",
       "      <td>0.090794</td>\n",
       "      <td>...</td>\n",
       "      <td>0.251412</td>\n",
       "      <td>-0.018307</td>\n",
       "      <td>0.277838</td>\n",
       "      <td>-0.110474</td>\n",
       "      <td>0.066928</td>\n",
       "      <td>0.128539</td>\n",
       "      <td>-0.189115</td>\n",
       "      <td>0.133558</td>\n",
       "      <td>-0.021053</td>\n",
       "      <td>149.62</td>\n",
       "    </tr>\n",
       "    <tr>\n",
       "      <th>1</th>\n",
       "      <td>1.191857</td>\n",
       "      <td>0.266151</td>\n",
       "      <td>0.166480</td>\n",
       "      <td>0.448154</td>\n",
       "      <td>0.060018</td>\n",
       "      <td>-0.082361</td>\n",
       "      <td>-0.078803</td>\n",
       "      <td>0.085102</td>\n",
       "      <td>-0.255425</td>\n",
       "      <td>-0.166974</td>\n",
       "      <td>...</td>\n",
       "      <td>-0.069083</td>\n",
       "      <td>-0.225775</td>\n",
       "      <td>-0.638672</td>\n",
       "      <td>0.101288</td>\n",
       "      <td>-0.339846</td>\n",
       "      <td>0.167170</td>\n",
       "      <td>0.125895</td>\n",
       "      <td>-0.008983</td>\n",
       "      <td>0.014724</td>\n",
       "      <td>2.69</td>\n",
       "    </tr>\n",
       "    <tr>\n",
       "      <th>2</th>\n",
       "      <td>-1.358354</td>\n",
       "      <td>-1.340163</td>\n",
       "      <td>1.773209</td>\n",
       "      <td>0.379780</td>\n",
       "      <td>-0.503198</td>\n",
       "      <td>1.800499</td>\n",
       "      <td>0.791461</td>\n",
       "      <td>0.247676</td>\n",
       "      <td>-1.514654</td>\n",
       "      <td>0.207643</td>\n",
       "      <td>...</td>\n",
       "      <td>0.524980</td>\n",
       "      <td>0.247998</td>\n",
       "      <td>0.771679</td>\n",
       "      <td>0.909412</td>\n",
       "      <td>-0.689281</td>\n",
       "      <td>-0.327642</td>\n",
       "      <td>-0.139097</td>\n",
       "      <td>-0.055353</td>\n",
       "      <td>-0.059752</td>\n",
       "      <td>378.66</td>\n",
       "    </tr>\n",
       "    <tr>\n",
       "      <th>3</th>\n",
       "      <td>-0.966272</td>\n",
       "      <td>-0.185226</td>\n",
       "      <td>1.792993</td>\n",
       "      <td>-0.863291</td>\n",
       "      <td>-0.010309</td>\n",
       "      <td>1.247203</td>\n",
       "      <td>0.237609</td>\n",
       "      <td>0.377436</td>\n",
       "      <td>-1.387024</td>\n",
       "      <td>-0.054952</td>\n",
       "      <td>...</td>\n",
       "      <td>-0.208038</td>\n",
       "      <td>-0.108300</td>\n",
       "      <td>0.005274</td>\n",
       "      <td>-0.190321</td>\n",
       "      <td>-1.175575</td>\n",
       "      <td>0.647376</td>\n",
       "      <td>-0.221929</td>\n",
       "      <td>0.062723</td>\n",
       "      <td>0.061458</td>\n",
       "      <td>123.50</td>\n",
       "    </tr>\n",
       "    <tr>\n",
       "      <th>4</th>\n",
       "      <td>-1.158233</td>\n",
       "      <td>0.877737</td>\n",
       "      <td>1.548718</td>\n",
       "      <td>0.403034</td>\n",
       "      <td>-0.407193</td>\n",
       "      <td>0.095921</td>\n",
       "      <td>0.592941</td>\n",
       "      <td>-0.270533</td>\n",
       "      <td>0.817739</td>\n",
       "      <td>0.753074</td>\n",
       "      <td>...</td>\n",
       "      <td>0.408542</td>\n",
       "      <td>-0.009431</td>\n",
       "      <td>0.798278</td>\n",
       "      <td>-0.137458</td>\n",
       "      <td>0.141267</td>\n",
       "      <td>-0.206010</td>\n",
       "      <td>0.502292</td>\n",
       "      <td>0.219422</td>\n",
       "      <td>0.215153</td>\n",
       "      <td>69.99</td>\n",
       "    </tr>\n",
       "  </tbody>\n",
       "</table>\n",
       "<p>5 rows × 29 columns</p>\n",
       "</div>"
      ],
      "text/plain": [
       "         V1        V2        V3        V4        V5        V6        V7  \\\n",
       "0 -1.359807 -0.072781  2.536347  1.378155 -0.338321  0.462388  0.239599   \n",
       "1  1.191857  0.266151  0.166480  0.448154  0.060018 -0.082361 -0.078803   \n",
       "2 -1.358354 -1.340163  1.773209  0.379780 -0.503198  1.800499  0.791461   \n",
       "3 -0.966272 -0.185226  1.792993 -0.863291 -0.010309  1.247203  0.237609   \n",
       "4 -1.158233  0.877737  1.548718  0.403034 -0.407193  0.095921  0.592941   \n",
       "\n",
       "         V8        V9       V10  ...       V20       V21       V22       V23  \\\n",
       "0  0.098698  0.363787  0.090794  ...  0.251412 -0.018307  0.277838 -0.110474   \n",
       "1  0.085102 -0.255425 -0.166974  ... -0.069083 -0.225775 -0.638672  0.101288   \n",
       "2  0.247676 -1.514654  0.207643  ...  0.524980  0.247998  0.771679  0.909412   \n",
       "3  0.377436 -1.387024 -0.054952  ... -0.208038 -0.108300  0.005274 -0.190321   \n",
       "4 -0.270533  0.817739  0.753074  ...  0.408542 -0.009431  0.798278 -0.137458   \n",
       "\n",
       "        V24       V25       V26       V27       V28  Amount  \n",
       "0  0.066928  0.128539 -0.189115  0.133558 -0.021053  149.62  \n",
       "1 -0.339846  0.167170  0.125895 -0.008983  0.014724    2.69  \n",
       "2 -0.689281 -0.327642 -0.139097 -0.055353 -0.059752  378.66  \n",
       "3 -1.175575  0.647376 -0.221929  0.062723  0.061458  123.50  \n",
       "4  0.141267 -0.206010  0.502292  0.219422  0.215153   69.99  \n",
       "\n",
       "[5 rows x 29 columns]"
      ]
     },
     "execution_count": 27,
     "metadata": {},
     "output_type": "execute_result"
    }
   ],
   "source": [
    "X.head()\n",
    "# First are excluded Class feature becausse is our output and Time feature because it doent seem to be helpful at all."
   ]
  },
  {
   "cell_type": "markdown",
   "id": "cdc0739d",
   "metadata": {},
   "source": [
    "## Exception of less important features which are pointed before"
   ]
  },
  {
   "cell_type": "code",
   "execution_count": 28,
   "id": "319f3818",
   "metadata": {},
   "outputs": [],
   "source": [
    "X=X.drop([col for col in less_than_1_per],axis=1)"
   ]
  },
  {
   "cell_type": "code",
   "execution_count": 29,
   "id": "80e46e06",
   "metadata": {},
   "outputs": [],
   "source": [
    "y=df['Class']"
   ]
  },
  {
   "cell_type": "code",
   "execution_count": 30,
   "id": "6554f51b",
   "metadata": {},
   "outputs": [],
   "source": [
    "#Spliting the data in train set and test set\n",
    "from sklearn.model_selection import train_test_split"
   ]
  },
  {
   "cell_type": "code",
   "execution_count": 31,
   "id": "7e57e12f",
   "metadata": {},
   "outputs": [],
   "source": [
    "X_train,X_test,y_train,y_test=train_test_split(X,y,test_size=0.4)"
   ]
  },
  {
   "cell_type": "code",
   "execution_count": 32,
   "id": "e854f52d",
   "metadata": {},
   "outputs": [],
   "source": [
    "#Exctract the Amount Feature for data preprocessing\n",
    "amount_train=X_train['Amount']\n",
    "amount_test=X_test['Amount']"
   ]
  },
  {
   "cell_type": "code",
   "execution_count": 33,
   "id": "cb348abb",
   "metadata": {},
   "outputs": [],
   "source": [
    "X_train.drop(['Amount'],axis=1,inplace=True)"
   ]
  },
  {
   "cell_type": "code",
   "execution_count": 34,
   "id": "7b2f8ffc",
   "metadata": {},
   "outputs": [
    {
     "data": {
      "text/plain": [
       "Index(['V1', 'V2', 'V3', 'V4', 'V5', 'V6', 'V7', 'V8', 'V9', 'V10', 'V11',\n",
       "       'V12', 'V14', 'V16', 'V17', 'V18', 'V19', 'V20', 'V21', 'V27'],\n",
       "      dtype='object')"
      ]
     },
     "execution_count": 34,
     "metadata": {},
     "output_type": "execute_result"
    }
   ],
   "source": [
    "X_train.columns"
   ]
  },
  {
   "cell_type": "code",
   "execution_count": 35,
   "id": "8a2763be",
   "metadata": {},
   "outputs": [],
   "source": [
    "X_test.drop(['Amount'],axis=1,inplace=True)"
   ]
  },
  {
   "cell_type": "markdown",
   "id": "9aa0e3b5",
   "metadata": {},
   "source": [
    "## First we have to split the data and after we will process them in order to avoid \"contamination\" of train from test data"
   ]
  },
  {
   "cell_type": "code",
   "execution_count": 36,
   "id": "98ebefe8",
   "metadata": {},
   "outputs": [],
   "source": [
    "from sklearn.preprocessing import StandardScaler\n",
    "scaler=StandardScaler()"
   ]
  },
  {
   "cell_type": "code",
   "execution_count": 37,
   "id": "97aef015",
   "metadata": {},
   "outputs": [],
   "source": [
    "amount_train=amount_train.to_frame()\n"
   ]
  },
  {
   "cell_type": "code",
   "execution_count": 38,
   "id": "8297a20d",
   "metadata": {},
   "outputs": [
    {
     "data": {
      "text/plain": [
       "pandas.core.frame.DataFrame"
      ]
     },
     "execution_count": 38,
     "metadata": {},
     "output_type": "execute_result"
    }
   ],
   "source": [
    "type(amount_train)"
   ]
  },
  {
   "cell_type": "code",
   "execution_count": 39,
   "id": "a8d31435",
   "metadata": {},
   "outputs": [
    {
     "data": {
      "text/plain": [
       "pandas.core.frame.DataFrame"
      ]
     },
     "execution_count": 39,
     "metadata": {},
     "output_type": "execute_result"
    }
   ],
   "source": [
    "type(amount_train)"
   ]
  },
  {
   "cell_type": "code",
   "execution_count": 40,
   "id": "c604076b",
   "metadata": {},
   "outputs": [],
   "source": [
    "amount_train=scaler.fit_transform(amount_train)"
   ]
  },
  {
   "cell_type": "code",
   "execution_count": 41,
   "id": "f453e639",
   "metadata": {},
   "outputs": [],
   "source": [
    "amount_test=amount_test.to_frame()"
   ]
  },
  {
   "cell_type": "code",
   "execution_count": 42,
   "id": "b5dcf22e",
   "metadata": {},
   "outputs": [],
   "source": [
    "amount_test=scaler.transform(amount_test)"
   ]
  },
  {
   "cell_type": "code",
   "execution_count": 43,
   "id": "c91e098b",
   "metadata": {},
   "outputs": [
    {
     "data": {
      "text/html": [
       "<div>\n",
       "<style scoped>\n",
       "    .dataframe tbody tr th:only-of-type {\n",
       "        vertical-align: middle;\n",
       "    }\n",
       "\n",
       "    .dataframe tbody tr th {\n",
       "        vertical-align: top;\n",
       "    }\n",
       "\n",
       "    .dataframe thead th {\n",
       "        text-align: right;\n",
       "    }\n",
       "</style>\n",
       "<table border=\"1\" class=\"dataframe\">\n",
       "  <thead>\n",
       "    <tr style=\"text-align: right;\">\n",
       "      <th></th>\n",
       "      <th>V1</th>\n",
       "      <th>V2</th>\n",
       "      <th>V3</th>\n",
       "      <th>V4</th>\n",
       "      <th>V5</th>\n",
       "      <th>V6</th>\n",
       "      <th>V7</th>\n",
       "      <th>V8</th>\n",
       "      <th>V9</th>\n",
       "      <th>V10</th>\n",
       "      <th>V11</th>\n",
       "      <th>V12</th>\n",
       "      <th>V14</th>\n",
       "      <th>V16</th>\n",
       "      <th>V17</th>\n",
       "      <th>V18</th>\n",
       "      <th>V19</th>\n",
       "      <th>V20</th>\n",
       "      <th>V21</th>\n",
       "      <th>V27</th>\n",
       "    </tr>\n",
       "  </thead>\n",
       "  <tbody>\n",
       "    <tr>\n",
       "      <th>281631</th>\n",
       "      <td>1.994122</td>\n",
       "      <td>-0.168218</td>\n",
       "      <td>-1.089485</td>\n",
       "      <td>-0.121529</td>\n",
       "      <td>0.280168</td>\n",
       "      <td>-0.088266</td>\n",
       "      <td>-0.098120</td>\n",
       "      <td>-0.033964</td>\n",
       "      <td>0.139149</td>\n",
       "      <td>0.197512</td>\n",
       "      <td>0.989111</td>\n",
       "      <td>1.406787</td>\n",
       "      <td>0.295895</td>\n",
       "      <td>0.682284</td>\n",
       "      <td>-1.014223</td>\n",
       "      <td>-0.340587</td>\n",
       "      <td>0.406713</td>\n",
       "      <td>-0.035290</td>\n",
       "      <td>-0.410910</td>\n",
       "      <td>-0.071644</td>\n",
       "    </tr>\n",
       "    <tr>\n",
       "      <th>191554</th>\n",
       "      <td>-0.655211</td>\n",
       "      <td>0.950853</td>\n",
       "      <td>-1.157536</td>\n",
       "      <td>-2.059739</td>\n",
       "      <td>3.352320</td>\n",
       "      <td>3.199986</td>\n",
       "      <td>0.600381</td>\n",
       "      <td>0.890507</td>\n",
       "      <td>-0.311487</td>\n",
       "      <td>-1.040943</td>\n",
       "      <td>0.061191</td>\n",
       "      <td>-0.239739</td>\n",
       "      <td>-0.774823</td>\n",
       "      <td>0.337911</td>\n",
       "      <td>0.189431</td>\n",
       "      <td>-0.408917</td>\n",
       "      <td>-0.806616</td>\n",
       "      <td>0.012020</td>\n",
       "      <td>-0.313096</td>\n",
       "      <td>0.193445</td>\n",
       "    </tr>\n",
       "    <tr>\n",
       "      <th>10276</th>\n",
       "      <td>1.283535</td>\n",
       "      <td>0.417416</td>\n",
       "      <td>0.464486</td>\n",
       "      <td>0.701673</td>\n",
       "      <td>-0.055605</td>\n",
       "      <td>-0.627101</td>\n",
       "      <td>0.057464</td>\n",
       "      <td>-0.330114</td>\n",
       "      <td>1.166696</td>\n",
       "      <td>-0.477487</td>\n",
       "      <td>0.507603</td>\n",
       "      <td>-1.611572</td>\n",
       "      <td>1.387699</td>\n",
       "      <td>0.359025</td>\n",
       "      <td>0.054319</td>\n",
       "      <td>-0.263961</td>\n",
       "      <td>-0.145783</td>\n",
       "      <td>-0.020562</td>\n",
       "      <td>-0.420809</td>\n",
       "      <td>-0.049509</td>\n",
       "    </tr>\n",
       "    <tr>\n",
       "      <th>112404</th>\n",
       "      <td>-3.883167</td>\n",
       "      <td>-0.209483</td>\n",
       "      <td>-0.171673</td>\n",
       "      <td>1.381704</td>\n",
       "      <td>0.230757</td>\n",
       "      <td>-1.074575</td>\n",
       "      <td>-0.193541</td>\n",
       "      <td>0.555521</td>\n",
       "      <td>-0.707641</td>\n",
       "      <td>0.346553</td>\n",
       "      <td>1.119073</td>\n",
       "      <td>1.351943</td>\n",
       "      <td>0.712197</td>\n",
       "      <td>0.303572</td>\n",
       "      <td>-0.265554</td>\n",
       "      <td>0.481725</td>\n",
       "      <td>1.056202</td>\n",
       "      <td>-1.961841</td>\n",
       "      <td>-0.226752</td>\n",
       "      <td>-0.539270</td>\n",
       "    </tr>\n",
       "    <tr>\n",
       "      <th>38448</th>\n",
       "      <td>1.217646</td>\n",
       "      <td>0.649606</td>\n",
       "      <td>-0.466480</td>\n",
       "      <td>1.160556</td>\n",
       "      <td>0.282242</td>\n",
       "      <td>-0.736948</td>\n",
       "      <td>0.186723</td>\n",
       "      <td>-0.064457</td>\n",
       "      <td>-0.293737</td>\n",
       "      <td>-0.505560</td>\n",
       "      <td>1.490851</td>\n",
       "      <td>0.343909</td>\n",
       "      <td>-1.114108</td>\n",
       "      <td>0.899127</td>\n",
       "      <td>0.537348</td>\n",
       "      <td>1.222836</td>\n",
       "      <td>-0.210721</td>\n",
       "      <td>-0.090861</td>\n",
       "      <td>-0.040221</td>\n",
       "      <td>0.029514</td>\n",
       "    </tr>\n",
       "    <tr>\n",
       "      <th>...</th>\n",
       "      <td>...</td>\n",
       "      <td>...</td>\n",
       "      <td>...</td>\n",
       "      <td>...</td>\n",
       "      <td>...</td>\n",
       "      <td>...</td>\n",
       "      <td>...</td>\n",
       "      <td>...</td>\n",
       "      <td>...</td>\n",
       "      <td>...</td>\n",
       "      <td>...</td>\n",
       "      <td>...</td>\n",
       "      <td>...</td>\n",
       "      <td>...</td>\n",
       "      <td>...</td>\n",
       "      <td>...</td>\n",
       "      <td>...</td>\n",
       "      <td>...</td>\n",
       "      <td>...</td>\n",
       "      <td>...</td>\n",
       "    </tr>\n",
       "    <tr>\n",
       "      <th>158581</th>\n",
       "      <td>2.011978</td>\n",
       "      <td>0.025928</td>\n",
       "      <td>-2.712898</td>\n",
       "      <td>0.454236</td>\n",
       "      <td>1.155896</td>\n",
       "      <td>-1.048808</td>\n",
       "      <td>0.970852</td>\n",
       "      <td>-0.614240</td>\n",
       "      <td>1.455723</td>\n",
       "      <td>-0.331452</td>\n",
       "      <td>-0.318373</td>\n",
       "      <td>-2.750538</td>\n",
       "      <td>2.434283</td>\n",
       "      <td>-0.928017</td>\n",
       "      <td>0.536242</td>\n",
       "      <td>-0.065945</td>\n",
       "      <td>-0.018463</td>\n",
       "      <td>-0.150003</td>\n",
       "      <td>0.155640</td>\n",
       "      <td>-0.125616</td>\n",
       "    </tr>\n",
       "    <tr>\n",
       "      <th>114898</th>\n",
       "      <td>1.237575</td>\n",
       "      <td>0.268771</td>\n",
       "      <td>0.179602</td>\n",
       "      <td>0.502383</td>\n",
       "      <td>-0.184622</td>\n",
       "      <td>-0.566558</td>\n",
       "      <td>-0.049893</td>\n",
       "      <td>-0.013523</td>\n",
       "      <td>-0.146446</td>\n",
       "      <td>-0.101878</td>\n",
       "      <td>1.268830</td>\n",
       "      <td>0.610390</td>\n",
       "      <td>-0.035079</td>\n",
       "      <td>0.790160</td>\n",
       "      <td>-0.355593</td>\n",
       "      <td>0.351852</td>\n",
       "      <td>0.219686</td>\n",
       "      <td>-0.084326</td>\n",
       "      <td>-0.262546</td>\n",
       "      <td>-0.029731</td>\n",
       "    </tr>\n",
       "    <tr>\n",
       "      <th>151691</th>\n",
       "      <td>-0.122422</td>\n",
       "      <td>1.230645</td>\n",
       "      <td>-0.380107</td>\n",
       "      <td>-0.374211</td>\n",
       "      <td>0.893029</td>\n",
       "      <td>-0.746841</td>\n",
       "      <td>0.858257</td>\n",
       "      <td>-0.138808</td>\n",
       "      <td>1.491065</td>\n",
       "      <td>-0.897879</td>\n",
       "      <td>0.288656</td>\n",
       "      <td>-2.821788</td>\n",
       "      <td>0.443700</td>\n",
       "      <td>0.237767</td>\n",
       "      <td>1.183286</td>\n",
       "      <td>-0.002997</td>\n",
       "      <td>-0.545694</td>\n",
       "      <td>0.073317</td>\n",
       "      <td>-0.518960</td>\n",
       "      <td>0.304079</td>\n",
       "    </tr>\n",
       "    <tr>\n",
       "      <th>177985</th>\n",
       "      <td>-0.208860</td>\n",
       "      <td>1.083977</td>\n",
       "      <td>0.562807</td>\n",
       "      <td>-0.370355</td>\n",
       "      <td>0.626349</td>\n",
       "      <td>-1.832011</td>\n",
       "      <td>1.549148</td>\n",
       "      <td>-0.649685</td>\n",
       "      <td>-0.341315</td>\n",
       "      <td>-1.098103</td>\n",
       "      <td>0.459874</td>\n",
       "      <td>0.395022</td>\n",
       "      <td>-1.157418</td>\n",
       "      <td>-0.208507</td>\n",
       "      <td>0.455477</td>\n",
       "      <td>0.231490</td>\n",
       "      <td>-0.917599</td>\n",
       "      <td>0.010821</td>\n",
       "      <td>0.328074</td>\n",
       "      <td>0.006612</td>\n",
       "    </tr>\n",
       "    <tr>\n",
       "      <th>198003</th>\n",
       "      <td>-1.640792</td>\n",
       "      <td>-1.221565</td>\n",
       "      <td>-0.126969</td>\n",
       "      <td>-0.726914</td>\n",
       "      <td>0.935320</td>\n",
       "      <td>0.057051</td>\n",
       "      <td>-0.267001</td>\n",
       "      <td>0.620355</td>\n",
       "      <td>-1.414621</td>\n",
       "      <td>-0.290628</td>\n",
       "      <td>-0.686690</td>\n",
       "      <td>0.210118</td>\n",
       "      <td>0.607548</td>\n",
       "      <td>-2.822412</td>\n",
       "      <td>0.980399</td>\n",
       "      <td>0.229017</td>\n",
       "      <td>-1.764015</td>\n",
       "      <td>-0.071597</td>\n",
       "      <td>0.361671</td>\n",
       "      <td>0.105983</td>\n",
       "    </tr>\n",
       "  </tbody>\n",
       "</table>\n",
       "<p>170884 rows × 20 columns</p>\n",
       "</div>"
      ],
      "text/plain": [
       "              V1        V2        V3        V4        V5        V6        V7  \\\n",
       "281631  1.994122 -0.168218 -1.089485 -0.121529  0.280168 -0.088266 -0.098120   \n",
       "191554 -0.655211  0.950853 -1.157536 -2.059739  3.352320  3.199986  0.600381   \n",
       "10276   1.283535  0.417416  0.464486  0.701673 -0.055605 -0.627101  0.057464   \n",
       "112404 -3.883167 -0.209483 -0.171673  1.381704  0.230757 -1.074575 -0.193541   \n",
       "38448   1.217646  0.649606 -0.466480  1.160556  0.282242 -0.736948  0.186723   \n",
       "...          ...       ...       ...       ...       ...       ...       ...   \n",
       "158581  2.011978  0.025928 -2.712898  0.454236  1.155896 -1.048808  0.970852   \n",
       "114898  1.237575  0.268771  0.179602  0.502383 -0.184622 -0.566558 -0.049893   \n",
       "151691 -0.122422  1.230645 -0.380107 -0.374211  0.893029 -0.746841  0.858257   \n",
       "177985 -0.208860  1.083977  0.562807 -0.370355  0.626349 -1.832011  1.549148   \n",
       "198003 -1.640792 -1.221565 -0.126969 -0.726914  0.935320  0.057051 -0.267001   \n",
       "\n",
       "              V8        V9       V10       V11       V12       V14       V16  \\\n",
       "281631 -0.033964  0.139149  0.197512  0.989111  1.406787  0.295895  0.682284   \n",
       "191554  0.890507 -0.311487 -1.040943  0.061191 -0.239739 -0.774823  0.337911   \n",
       "10276  -0.330114  1.166696 -0.477487  0.507603 -1.611572  1.387699  0.359025   \n",
       "112404  0.555521 -0.707641  0.346553  1.119073  1.351943  0.712197  0.303572   \n",
       "38448  -0.064457 -0.293737 -0.505560  1.490851  0.343909 -1.114108  0.899127   \n",
       "...          ...       ...       ...       ...       ...       ...       ...   \n",
       "158581 -0.614240  1.455723 -0.331452 -0.318373 -2.750538  2.434283 -0.928017   \n",
       "114898 -0.013523 -0.146446 -0.101878  1.268830  0.610390 -0.035079  0.790160   \n",
       "151691 -0.138808  1.491065 -0.897879  0.288656 -2.821788  0.443700  0.237767   \n",
       "177985 -0.649685 -0.341315 -1.098103  0.459874  0.395022 -1.157418 -0.208507   \n",
       "198003  0.620355 -1.414621 -0.290628 -0.686690  0.210118  0.607548 -2.822412   \n",
       "\n",
       "             V17       V18       V19       V20       V21       V27  \n",
       "281631 -1.014223 -0.340587  0.406713 -0.035290 -0.410910 -0.071644  \n",
       "191554  0.189431 -0.408917 -0.806616  0.012020 -0.313096  0.193445  \n",
       "10276   0.054319 -0.263961 -0.145783 -0.020562 -0.420809 -0.049509  \n",
       "112404 -0.265554  0.481725  1.056202 -1.961841 -0.226752 -0.539270  \n",
       "38448   0.537348  1.222836 -0.210721 -0.090861 -0.040221  0.029514  \n",
       "...          ...       ...       ...       ...       ...       ...  \n",
       "158581  0.536242 -0.065945 -0.018463 -0.150003  0.155640 -0.125616  \n",
       "114898 -0.355593  0.351852  0.219686 -0.084326 -0.262546 -0.029731  \n",
       "151691  1.183286 -0.002997 -0.545694  0.073317 -0.518960  0.304079  \n",
       "177985  0.455477  0.231490 -0.917599  0.010821  0.328074  0.006612  \n",
       "198003  0.980399  0.229017 -1.764015 -0.071597  0.361671  0.105983  \n",
       "\n",
       "[170884 rows x 20 columns]"
      ]
     },
     "execution_count": 43,
     "metadata": {},
     "output_type": "execute_result"
    }
   ],
   "source": [
    "X_train=pd.DataFrame(X_train,columns=X_train.columns)\n",
    "X_train"
   ]
  },
  {
   "cell_type": "code",
   "execution_count": 44,
   "id": "c7a8600a",
   "metadata": {},
   "outputs": [
    {
     "data": {
      "text/html": [
       "<div>\n",
       "<style scoped>\n",
       "    .dataframe tbody tr th:only-of-type {\n",
       "        vertical-align: middle;\n",
       "    }\n",
       "\n",
       "    .dataframe tbody tr th {\n",
       "        vertical-align: top;\n",
       "    }\n",
       "\n",
       "    .dataframe thead th {\n",
       "        text-align: right;\n",
       "    }\n",
       "</style>\n",
       "<table border=\"1\" class=\"dataframe\">\n",
       "  <thead>\n",
       "    <tr style=\"text-align: right;\">\n",
       "      <th></th>\n",
       "      <th>V1</th>\n",
       "      <th>V2</th>\n",
       "      <th>V3</th>\n",
       "      <th>V4</th>\n",
       "      <th>V5</th>\n",
       "      <th>V6</th>\n",
       "      <th>V7</th>\n",
       "      <th>V8</th>\n",
       "      <th>V9</th>\n",
       "      <th>V10</th>\n",
       "      <th>...</th>\n",
       "      <th>V12</th>\n",
       "      <th>V14</th>\n",
       "      <th>V16</th>\n",
       "      <th>V17</th>\n",
       "      <th>V18</th>\n",
       "      <th>V19</th>\n",
       "      <th>V20</th>\n",
       "      <th>V21</th>\n",
       "      <th>V27</th>\n",
       "      <th>Amount</th>\n",
       "    </tr>\n",
       "  </thead>\n",
       "  <tbody>\n",
       "    <tr>\n",
       "      <th>281631</th>\n",
       "      <td>1.994122</td>\n",
       "      <td>-0.168218</td>\n",
       "      <td>-1.089485</td>\n",
       "      <td>-0.121529</td>\n",
       "      <td>0.280168</td>\n",
       "      <td>-0.088266</td>\n",
       "      <td>-0.098120</td>\n",
       "      <td>-0.033964</td>\n",
       "      <td>0.139149</td>\n",
       "      <td>0.197512</td>\n",
       "      <td>...</td>\n",
       "      <td>1.406787</td>\n",
       "      <td>0.295895</td>\n",
       "      <td>0.682284</td>\n",
       "      <td>-1.014223</td>\n",
       "      <td>-0.340587</td>\n",
       "      <td>0.406713</td>\n",
       "      <td>-0.035290</td>\n",
       "      <td>-0.410910</td>\n",
       "      <td>-0.071644</td>\n",
       "      <td>-0.246852</td>\n",
       "    </tr>\n",
       "    <tr>\n",
       "      <th>191554</th>\n",
       "      <td>-0.655211</td>\n",
       "      <td>0.950853</td>\n",
       "      <td>-1.157536</td>\n",
       "      <td>-2.059739</td>\n",
       "      <td>3.352320</td>\n",
       "      <td>3.199986</td>\n",
       "      <td>0.600381</td>\n",
       "      <td>0.890507</td>\n",
       "      <td>-0.311487</td>\n",
       "      <td>-1.040943</td>\n",
       "      <td>...</td>\n",
       "      <td>-0.239739</td>\n",
       "      <td>-0.774823</td>\n",
       "      <td>0.337911</td>\n",
       "      <td>0.189431</td>\n",
       "      <td>-0.408917</td>\n",
       "      <td>-0.806616</td>\n",
       "      <td>0.012020</td>\n",
       "      <td>-0.313096</td>\n",
       "      <td>0.193445</td>\n",
       "      <td>-0.351620</td>\n",
       "    </tr>\n",
       "    <tr>\n",
       "      <th>10276</th>\n",
       "      <td>1.283535</td>\n",
       "      <td>0.417416</td>\n",
       "      <td>0.464486</td>\n",
       "      <td>0.701673</td>\n",
       "      <td>-0.055605</td>\n",
       "      <td>-0.627101</td>\n",
       "      <td>0.057464</td>\n",
       "      <td>-0.330114</td>\n",
       "      <td>1.166696</td>\n",
       "      <td>-0.477487</td>\n",
       "      <td>...</td>\n",
       "      <td>-1.611572</td>\n",
       "      <td>1.387699</td>\n",
       "      <td>0.359025</td>\n",
       "      <td>0.054319</td>\n",
       "      <td>-0.263961</td>\n",
       "      <td>-0.145783</td>\n",
       "      <td>-0.020562</td>\n",
       "      <td>-0.420809</td>\n",
       "      <td>-0.049509</td>\n",
       "      <td>-0.320067</td>\n",
       "    </tr>\n",
       "    <tr>\n",
       "      <th>112404</th>\n",
       "      <td>-3.883167</td>\n",
       "      <td>-0.209483</td>\n",
       "      <td>-0.171673</td>\n",
       "      <td>1.381704</td>\n",
       "      <td>0.230757</td>\n",
       "      <td>-1.074575</td>\n",
       "      <td>-0.193541</td>\n",
       "      <td>0.555521</td>\n",
       "      <td>-0.707641</td>\n",
       "      <td>0.346553</td>\n",
       "      <td>...</td>\n",
       "      <td>1.351943</td>\n",
       "      <td>0.712197</td>\n",
       "      <td>0.303572</td>\n",
       "      <td>-0.265554</td>\n",
       "      <td>0.481725</td>\n",
       "      <td>1.056202</td>\n",
       "      <td>-1.961841</td>\n",
       "      <td>-0.226752</td>\n",
       "      <td>-0.539270</td>\n",
       "      <td>-0.258638</td>\n",
       "    </tr>\n",
       "    <tr>\n",
       "      <th>38448</th>\n",
       "      <td>1.217646</td>\n",
       "      <td>0.649606</td>\n",
       "      <td>-0.466480</td>\n",
       "      <td>1.160556</td>\n",
       "      <td>0.282242</td>\n",
       "      <td>-0.736948</td>\n",
       "      <td>0.186723</td>\n",
       "      <td>-0.064457</td>\n",
       "      <td>-0.293737</td>\n",
       "      <td>-0.505560</td>\n",
       "      <td>...</td>\n",
       "      <td>0.343909</td>\n",
       "      <td>-1.114108</td>\n",
       "      <td>0.899127</td>\n",
       "      <td>0.537348</td>\n",
       "      <td>1.222836</td>\n",
       "      <td>-0.210721</td>\n",
       "      <td>-0.090861</td>\n",
       "      <td>-0.040221</td>\n",
       "      <td>0.029514</td>\n",
       "      <td>-0.356859</td>\n",
       "    </tr>\n",
       "    <tr>\n",
       "      <th>...</th>\n",
       "      <td>...</td>\n",
       "      <td>...</td>\n",
       "      <td>...</td>\n",
       "      <td>...</td>\n",
       "      <td>...</td>\n",
       "      <td>...</td>\n",
       "      <td>...</td>\n",
       "      <td>...</td>\n",
       "      <td>...</td>\n",
       "      <td>...</td>\n",
       "      <td>...</td>\n",
       "      <td>...</td>\n",
       "      <td>...</td>\n",
       "      <td>...</td>\n",
       "      <td>...</td>\n",
       "      <td>...</td>\n",
       "      <td>...</td>\n",
       "      <td>...</td>\n",
       "      <td>...</td>\n",
       "      <td>...</td>\n",
       "      <td>...</td>\n",
       "    </tr>\n",
       "    <tr>\n",
       "      <th>158581</th>\n",
       "      <td>2.011978</td>\n",
       "      <td>0.025928</td>\n",
       "      <td>-2.712898</td>\n",
       "      <td>0.454236</td>\n",
       "      <td>1.155896</td>\n",
       "      <td>-1.048808</td>\n",
       "      <td>0.970852</td>\n",
       "      <td>-0.614240</td>\n",
       "      <td>1.455723</td>\n",
       "      <td>-0.331452</td>\n",
       "      <td>...</td>\n",
       "      <td>-2.750538</td>\n",
       "      <td>2.434283</td>\n",
       "      <td>-0.928017</td>\n",
       "      <td>0.536242</td>\n",
       "      <td>-0.065945</td>\n",
       "      <td>-0.018463</td>\n",
       "      <td>-0.150003</td>\n",
       "      <td>0.155640</td>\n",
       "      <td>-0.125616</td>\n",
       "      <td>-0.002693</td>\n",
       "    </tr>\n",
       "    <tr>\n",
       "      <th>114898</th>\n",
       "      <td>1.237575</td>\n",
       "      <td>0.268771</td>\n",
       "      <td>0.179602</td>\n",
       "      <td>0.502383</td>\n",
       "      <td>-0.184622</td>\n",
       "      <td>-0.566558</td>\n",
       "      <td>-0.049893</td>\n",
       "      <td>-0.013523</td>\n",
       "      <td>-0.146446</td>\n",
       "      <td>-0.101878</td>\n",
       "      <td>...</td>\n",
       "      <td>0.610390</td>\n",
       "      <td>-0.035079</td>\n",
       "      <td>0.790160</td>\n",
       "      <td>-0.355593</td>\n",
       "      <td>0.351852</td>\n",
       "      <td>0.219686</td>\n",
       "      <td>-0.084326</td>\n",
       "      <td>-0.262546</td>\n",
       "      <td>-0.029731</td>\n",
       "      <td>-0.355672</td>\n",
       "    </tr>\n",
       "    <tr>\n",
       "      <th>151691</th>\n",
       "      <td>-0.122422</td>\n",
       "      <td>1.230645</td>\n",
       "      <td>-0.380107</td>\n",
       "      <td>-0.374211</td>\n",
       "      <td>0.893029</td>\n",
       "      <td>-0.746841</td>\n",
       "      <td>0.858257</td>\n",
       "      <td>-0.138808</td>\n",
       "      <td>1.491065</td>\n",
       "      <td>-0.897879</td>\n",
       "      <td>...</td>\n",
       "      <td>-2.821788</td>\n",
       "      <td>0.443700</td>\n",
       "      <td>0.237767</td>\n",
       "      <td>1.183286</td>\n",
       "      <td>-0.002997</td>\n",
       "      <td>-0.545694</td>\n",
       "      <td>0.073317</td>\n",
       "      <td>-0.518960</td>\n",
       "      <td>0.304079</td>\n",
       "      <td>-0.296371</td>\n",
       "    </tr>\n",
       "    <tr>\n",
       "      <th>177985</th>\n",
       "      <td>-0.208860</td>\n",
       "      <td>1.083977</td>\n",
       "      <td>0.562807</td>\n",
       "      <td>-0.370355</td>\n",
       "      <td>0.626349</td>\n",
       "      <td>-1.832011</td>\n",
       "      <td>1.549148</td>\n",
       "      <td>-0.649685</td>\n",
       "      <td>-0.341315</td>\n",
       "      <td>-1.098103</td>\n",
       "      <td>...</td>\n",
       "      <td>0.395022</td>\n",
       "      <td>-1.157418</td>\n",
       "      <td>-0.208507</td>\n",
       "      <td>0.455477</td>\n",
       "      <td>0.231490</td>\n",
       "      <td>-0.917599</td>\n",
       "      <td>0.010821</td>\n",
       "      <td>0.328074</td>\n",
       "      <td>0.006612</td>\n",
       "      <td>-0.282170</td>\n",
       "    </tr>\n",
       "    <tr>\n",
       "      <th>198003</th>\n",
       "      <td>-1.640792</td>\n",
       "      <td>-1.221565</td>\n",
       "      <td>-0.126969</td>\n",
       "      <td>-0.726914</td>\n",
       "      <td>0.935320</td>\n",
       "      <td>0.057051</td>\n",
       "      <td>-0.267001</td>\n",
       "      <td>0.620355</td>\n",
       "      <td>-1.414621</td>\n",
       "      <td>-0.290628</td>\n",
       "      <td>...</td>\n",
       "      <td>0.210118</td>\n",
       "      <td>0.607548</td>\n",
       "      <td>-2.822412</td>\n",
       "      <td>0.980399</td>\n",
       "      <td>0.229017</td>\n",
       "      <td>-1.764015</td>\n",
       "      <td>-0.071597</td>\n",
       "      <td>0.361671</td>\n",
       "      <td>0.105983</td>\n",
       "      <td>0.105595</td>\n",
       "    </tr>\n",
       "  </tbody>\n",
       "</table>\n",
       "<p>170884 rows × 21 columns</p>\n",
       "</div>"
      ],
      "text/plain": [
       "              V1        V2        V3        V4        V5        V6        V7  \\\n",
       "281631  1.994122 -0.168218 -1.089485 -0.121529  0.280168 -0.088266 -0.098120   \n",
       "191554 -0.655211  0.950853 -1.157536 -2.059739  3.352320  3.199986  0.600381   \n",
       "10276   1.283535  0.417416  0.464486  0.701673 -0.055605 -0.627101  0.057464   \n",
       "112404 -3.883167 -0.209483 -0.171673  1.381704  0.230757 -1.074575 -0.193541   \n",
       "38448   1.217646  0.649606 -0.466480  1.160556  0.282242 -0.736948  0.186723   \n",
       "...          ...       ...       ...       ...       ...       ...       ...   \n",
       "158581  2.011978  0.025928 -2.712898  0.454236  1.155896 -1.048808  0.970852   \n",
       "114898  1.237575  0.268771  0.179602  0.502383 -0.184622 -0.566558 -0.049893   \n",
       "151691 -0.122422  1.230645 -0.380107 -0.374211  0.893029 -0.746841  0.858257   \n",
       "177985 -0.208860  1.083977  0.562807 -0.370355  0.626349 -1.832011  1.549148   \n",
       "198003 -1.640792 -1.221565 -0.126969 -0.726914  0.935320  0.057051 -0.267001   \n",
       "\n",
       "              V8        V9       V10  ...       V12       V14       V16  \\\n",
       "281631 -0.033964  0.139149  0.197512  ...  1.406787  0.295895  0.682284   \n",
       "191554  0.890507 -0.311487 -1.040943  ... -0.239739 -0.774823  0.337911   \n",
       "10276  -0.330114  1.166696 -0.477487  ... -1.611572  1.387699  0.359025   \n",
       "112404  0.555521 -0.707641  0.346553  ...  1.351943  0.712197  0.303572   \n",
       "38448  -0.064457 -0.293737 -0.505560  ...  0.343909 -1.114108  0.899127   \n",
       "...          ...       ...       ...  ...       ...       ...       ...   \n",
       "158581 -0.614240  1.455723 -0.331452  ... -2.750538  2.434283 -0.928017   \n",
       "114898 -0.013523 -0.146446 -0.101878  ...  0.610390 -0.035079  0.790160   \n",
       "151691 -0.138808  1.491065 -0.897879  ... -2.821788  0.443700  0.237767   \n",
       "177985 -0.649685 -0.341315 -1.098103  ...  0.395022 -1.157418 -0.208507   \n",
       "198003  0.620355 -1.414621 -0.290628  ...  0.210118  0.607548 -2.822412   \n",
       "\n",
       "             V17       V18       V19       V20       V21       V27    Amount  \n",
       "281631 -1.014223 -0.340587  0.406713 -0.035290 -0.410910 -0.071644 -0.246852  \n",
       "191554  0.189431 -0.408917 -0.806616  0.012020 -0.313096  0.193445 -0.351620  \n",
       "10276   0.054319 -0.263961 -0.145783 -0.020562 -0.420809 -0.049509 -0.320067  \n",
       "112404 -0.265554  0.481725  1.056202 -1.961841 -0.226752 -0.539270 -0.258638  \n",
       "38448   0.537348  1.222836 -0.210721 -0.090861 -0.040221  0.029514 -0.356859  \n",
       "...          ...       ...       ...       ...       ...       ...       ...  \n",
       "158581  0.536242 -0.065945 -0.018463 -0.150003  0.155640 -0.125616 -0.002693  \n",
       "114898 -0.355593  0.351852  0.219686 -0.084326 -0.262546 -0.029731 -0.355672  \n",
       "151691  1.183286 -0.002997 -0.545694  0.073317 -0.518960  0.304079 -0.296371  \n",
       "177985  0.455477  0.231490 -0.917599  0.010821  0.328074  0.006612 -0.282170  \n",
       "198003  0.980399  0.229017 -1.764015 -0.071597  0.361671  0.105983  0.105595  \n",
       "\n",
       "[170884 rows x 21 columns]"
      ]
     },
     "execution_count": 44,
     "metadata": {},
     "output_type": "execute_result"
    }
   ],
   "source": [
    "#Amount feature is reattached to the train set \n",
    "X_train['Amount']=amount_train\n",
    "X_train"
   ]
  },
  {
   "cell_type": "code",
   "execution_count": 45,
   "id": "33251c33",
   "metadata": {},
   "outputs": [],
   "source": [
    "X_test=pd.DataFrame(X_test,columns=X_train.columns)"
   ]
  },
  {
   "cell_type": "code",
   "execution_count": 46,
   "id": "c22f8023",
   "metadata": {},
   "outputs": [],
   "source": [
    "#Amount feature is reattached to the test set\n",
    "X_test['Amount']=amount_test"
   ]
  },
  {
   "cell_type": "code",
   "execution_count": 47,
   "id": "95e0bbdc",
   "metadata": {},
   "outputs": [
    {
     "data": {
      "text/plain": [
       "(113923, 21)"
      ]
     },
     "execution_count": 47,
     "metadata": {},
     "output_type": "execute_result"
    }
   ],
   "source": [
    "X_test.shape"
   ]
  },
  {
   "cell_type": "code",
   "execution_count": 48,
   "id": "d93e740a",
   "metadata": {},
   "outputs": [],
   "source": [
    "# Dataset should be convertinted to values in order to import them in tensorflow.keras\n",
    "X_train=X_train.values\n",
    "y_train=y_train.values"
   ]
  },
  {
   "cell_type": "code",
   "execution_count": 49,
   "id": "9b784937",
   "metadata": {},
   "outputs": [],
   "source": [
    "X_test=X_test.values\n",
    "y_test=y_test.values\n"
   ]
  },
  {
   "cell_type": "code",
   "execution_count": 50,
   "id": "1c39a221",
   "metadata": {},
   "outputs": [],
   "source": [
    "from tensorflow.keras.models import Sequential\n",
    "from tensorflow.keras.layers import Dense\n",
    "from tensorflow.keras.callbacks import EarlyStopping"
   ]
  },
  {
   "cell_type": "code",
   "execution_count": 51,
   "id": "9967902f",
   "metadata": {},
   "outputs": [],
   "source": [
    "# The layer and neuron set up\n",
    "model=Sequential()\n",
    "\n",
    "model.add(Dense(21,activation='relu'))\n",
    "\n",
    "model.add(Dense(21,activation='relu'))\n",
    "\n",
    "model.add(Dense(11,activation='relu'))\n",
    "\n",
    "model.add(Dense(6,activation='relu'))\n",
    "\n",
    "model.add(Dense(1,activation='sigmoid'))\n",
    "\n",
    "model.compile(optimizer='adam',loss='binary_crossentropy')"
   ]
  },
  {
   "cell_type": "code",
   "execution_count": 52,
   "id": "8d9d9777",
   "metadata": {},
   "outputs": [],
   "source": [
    "#Early stopping set up to prevent overfitting\n",
    "early_stop=EarlyStopping(monitor='val_loss',mode='min',verbose=1,patience=15)"
   ]
  },
  {
   "cell_type": "code",
   "execution_count": 53,
   "id": "a9fcb3d0",
   "metadata": {},
   "outputs": [
    {
     "name": "stdout",
     "output_type": "stream",
     "text": [
      "Epoch 1/100\n",
      "5341/5341 [==============================] - 8s 1ms/step - loss: 0.0227 - val_loss: 0.0035\n",
      "Epoch 2/100\n",
      "5341/5341 [==============================] - 8s 1ms/step - loss: 0.0032 - val_loss: 0.0033\n",
      "Epoch 3/100\n",
      "5341/5341 [==============================] - 7s 1ms/step - loss: 0.0030 - val_loss: 0.0031\n",
      "Epoch 4/100\n",
      "5341/5341 [==============================] - 7s 1ms/step - loss: 0.0028 - val_loss: 0.0032\n",
      "Epoch 5/100\n",
      "5341/5341 [==============================] - 7s 1ms/step - loss: 0.0026 - val_loss: 0.0031\n",
      "Epoch 6/100\n",
      "5341/5341 [==============================] - 7s 1ms/step - loss: 0.0025 - val_loss: 0.0031\n",
      "Epoch 7/100\n",
      "5341/5341 [==============================] - 8s 1ms/step - loss: 0.0024 - val_loss: 0.0030\n",
      "Epoch 8/100\n",
      "5341/5341 [==============================] - 7s 1ms/step - loss: 0.0023 - val_loss: 0.0032\n",
      "Epoch 9/100\n",
      "5341/5341 [==============================] - 7s 1ms/step - loss: 0.0022 - val_loss: 0.0033\n",
      "Epoch 10/100\n",
      "5341/5341 [==============================] - 7s 1ms/step - loss: 0.0023 - val_loss: 0.0032\n",
      "Epoch 11/100\n",
      "5341/5341 [==============================] - 7s 1ms/step - loss: 0.0021 - val_loss: 0.0032\n",
      "Epoch 12/100\n",
      "5341/5341 [==============================] - 7s 1ms/step - loss: 0.0021 - val_loss: 0.0035\n",
      "Epoch 13/100\n",
      "5341/5341 [==============================] - 7s 1ms/step - loss: 0.0021 - val_loss: 0.0034\n",
      "Epoch 14/100\n",
      "5341/5341 [==============================] - 7s 1ms/step - loss: 0.0021 - val_loss: 0.0034\n",
      "Epoch 15/100\n",
      "5341/5341 [==============================] - 8s 1ms/step - loss: 0.0020 - val_loss: 0.0036\n",
      "Epoch 16/100\n",
      "5341/5341 [==============================] - 7s 1ms/step - loss: 0.0020 - val_loss: 0.0038\n",
      "Epoch 17/100\n",
      "5341/5341 [==============================] - 8s 1ms/step - loss: 0.0019 - val_loss: 0.0035\n",
      "Epoch 18/100\n",
      "5341/5341 [==============================] - 7s 1ms/step - loss: 0.0019 - val_loss: 0.0036\n",
      "Epoch 19/100\n",
      "5341/5341 [==============================] - 7s 1ms/step - loss: 0.0020 - val_loss: 0.0034\n",
      "Epoch 20/100\n",
      "5341/5341 [==============================] - 8s 1ms/step - loss: 0.0018 - val_loss: 0.0040\n",
      "Epoch 21/100\n",
      "5341/5341 [==============================] - 8s 2ms/step - loss: 0.0019 - val_loss: 0.0036\n",
      "Epoch 22/100\n",
      "5341/5341 [==============================] - 8s 1ms/step - loss: 0.0017 - val_loss: 0.0041\n",
      "Epoch 00022: early stopping\n"
     ]
    },
    {
     "data": {
      "text/plain": [
       "<tensorflow.python.keras.callbacks.History at 0x29966170430>"
      ]
     },
     "execution_count": 53,
     "metadata": {},
     "output_type": "execute_result"
    }
   ],
   "source": [
    "model.fit(x=X_train,y=y_train,epochs=100,validation_data=(X_test,y_test),\n",
    "         callbacks=[early_stop])"
   ]
  },
  {
   "cell_type": "code",
   "execution_count": 54,
   "id": "361ac620",
   "metadata": {},
   "outputs": [],
   "source": [
    "from sklearn.metrics import classification_report, confusion_matrix"
   ]
  },
  {
   "cell_type": "code",
   "execution_count": 55,
   "id": "4d737a91",
   "metadata": {},
   "outputs": [],
   "source": [
    "predictions=model.predict_classes(X_test)"
   ]
  },
  {
   "cell_type": "code",
   "execution_count": 56,
   "id": "8ce6b846",
   "metadata": {
    "scrolled": true
   },
   "outputs": [
    {
     "name": "stdout",
     "output_type": "stream",
     "text": [
      "              precision    recall  f1-score   support\n",
      "\n",
      "           0       1.00      1.00      1.00    113718\n",
      "           1       0.85      0.81      0.83       205\n",
      "\n",
      "    accuracy                           1.00    113923\n",
      "   macro avg       0.93      0.90      0.91    113923\n",
      "weighted avg       1.00      1.00      1.00    113923\n",
      "\n"
     ]
    }
   ],
   "source": [
    "print(classification_report(y_test,predictions))\n"
   ]
  },
  {
   "cell_type": "code",
   "execution_count": 74,
   "id": "a473dfae",
   "metadata": {},
   "outputs": [
    {
     "name": "stdout",
     "output_type": "stream",
     "text": [
      "              precision    recall  f1-score   support\n",
      "\n",
      "           0       1.00      1.00      1.00    113718\n",
      "           1       0.85      0.81      0.83       205\n",
      "\n",
      "    accuracy                           1.00    113923\n",
      "   macro avg       0.93      0.90      0.91    113923\n",
      "weighted avg       1.00      1.00      1.00    113923\n",
      "\n"
     ]
    }
   ],
   "source": [
    "\n",
    "print(classification_report(y_test,predictions))"
   ]
  },
  {
   "cell_type": "code",
   "execution_count": 88,
   "id": "64fc9f8d",
   "metadata": {},
   "outputs": [
    {
     "data": {
      "text/plain": [
       "Text(33.0, 0.5, 'Actual class')"
      ]
     },
     "execution_count": 88,
     "metadata": {},
     "output_type": "execute_result"
    },
    {
     "data": {
      "image/png": "[encoded data removed]",
      "text/plain": [
       "<Figure size 432x288 with 2 Axes>"
      ]
     },
     "metadata": {
      "needs_background": "light"
     },
     "output_type": "display_data"
    }
   ],
   "source": [
    "plt.title('Confusion Matrix')\n",
    "sns.heatmap(confusion_matrix(y_test,predictions),annot=True)\n",
    "plt.xlabel('Predicted class')\n",
    "plt.ylabel('Actual class')"
   ]
  },
  {
   "cell_type": "markdown",
   "id": "be9aab1d",
   "metadata": {},
   "source": [
    "There is 81% probability to detect a fraudulent activity this is indicated from recall for class 1.\n",
    "\n",
    "There is 15% to flag an activity as fraudulent while it is not this is estimated from 1-precision(1-0.85)=0.15\n"
   ]
  },
  {
   "cell_type": "code",
   "execution_count": null,
   "id": "38aa0800",
   "metadata": {},
   "outputs": [],
   "source": []
  },
  {
   "cell_type": "code",
   "execution_count": null,
   "id": "fea9ea66",
   "metadata": {},
   "outputs": [],
   "source": []
  }
 ],
 "metadata": {
  "kernelspec": {
   "display_name": "Python 3 (ipykernel)",
   "language": "python",
   "name": "python3"
  },
  "language_info": {
   "codemirror_mode": {
    "name": "ipython",
    "version": 3
   },
   "file_extension": ".py",
   "mimetype": "text/x-python",
   "name": "python",
   "nbconvert_exporter": "python",
   "pygments_lexer": "ipython3",
   "version": "3.9.7"
  }
 },
 "nbformat": 4,
 "nbformat_minor": 5
}
